{
 "cells": [
  {
   "cell_type": "markdown",
   "metadata": {
    "id": "XKjLTLcaoaQh"
   },
   "source": [
    "# SOAL UTS WEB MINING\n",
    "\n",
    "1. Lakukan analisa clustering dengan menggunakan k-mean clustering pada data twitter denga kunci pencarian \" tragedi kanjuruhan\"\n",
    "\n",
    "2. Lakukan peringkasan dokumen dari berita online ( link berita bebas) menggunakan metode pagerank\n",
    "\n",
    "Catatan\n",
    "\n",
    "Hasil analisa dilaporkan nenggunakan jupyter book dan diupload  di github sesuai alamat masing masing\n",
    "\n",
    "Link  alamat diupload di schoology "
   ]
  },
  {
   "cell_type": "markdown",
   "metadata": {
    "id": "tcGGM3-XtpSt"
   },
   "source": [
    "## Soal 1"
   ]
  },
  {
   "cell_type": "markdown",
   "metadata": {
    "id": "daqQoj74xudL"
   },
   "source": [
    "### mount drive"
   ]
  },
  {
   "cell_type": "markdown",
   "metadata": {
    "id": "megXCKoVww8Y"
   },
   "source": [
    "Mount Google Drive dengan Google Collab"
   ]
  },
  {
   "cell_type": "code",
   "execution_count": 1,
   "metadata": {
    "colab": {
     "base_uri": "https://localhost:8080/"
    },
    "executionInfo": {
     "elapsed": 6670,
     "status": "ok",
     "timestamp": 1665535764840,
     "user": {
      "displayName": "Faridz Nur Firdausy S N 19-084",
      "userId": "00266508585162115821"
     },
     "user_tz": -420
    },
    "id": "HZIfg3i0nuWv",
    "outputId": "43a4dda1-ee91-407e-80df-7b12c9f9fe55"
   },
   "outputs": [
    {
     "ename": "KeyboardInterrupt",
     "evalue": "",
     "output_type": "error",
     "traceback": [
      "\u001b[0;31m\u001b[0m",
      "\u001b[0;31mKeyboardInterrupt\u001b[0mTraceback (most recent call last)",
      "\u001b[0;32m<ipython-input-1-d5df0069828e>\u001b[0m in \u001b[0;36m<module>\u001b[0;34m\u001b[0m\n\u001b[1;32m      1\u001b[0m \u001b[0;32mfrom\u001b[0m \u001b[0mgoogle\u001b[0m\u001b[0;34m.\u001b[0m\u001b[0mcolab\u001b[0m \u001b[0;32mimport\u001b[0m \u001b[0mdrive\u001b[0m\u001b[0;34m\u001b[0m\u001b[0;34m\u001b[0m\u001b[0m\n\u001b[0;32m----> 2\u001b[0;31m \u001b[0mdrive\u001b[0m\u001b[0;34m.\u001b[0m\u001b[0mmount\u001b[0m\u001b[0;34m(\u001b[0m\u001b[0;34m'/content/drive'\u001b[0m\u001b[0;34m)\u001b[0m\u001b[0;34m\u001b[0m\u001b[0;34m\u001b[0m\u001b[0m\n\u001b[0m",
      "\u001b[0;32m/usr/local/lib/python3.7/dist-packages/google/colab/drive.py\u001b[0m in \u001b[0;36mmount\u001b[0;34m(mountpoint, force_remount, timeout_ms, readonly)\u001b[0m\n\u001b[1;32m    104\u001b[0m       \u001b[0mtimeout_ms\u001b[0m\u001b[0;34m=\u001b[0m\u001b[0mtimeout_ms\u001b[0m\u001b[0;34m,\u001b[0m\u001b[0;34m\u001b[0m\u001b[0;34m\u001b[0m\u001b[0m\n\u001b[1;32m    105\u001b[0m       \u001b[0mephemeral\u001b[0m\u001b[0;34m=\u001b[0m\u001b[0;32mTrue\u001b[0m\u001b[0;34m,\u001b[0m\u001b[0;34m\u001b[0m\u001b[0;34m\u001b[0m\u001b[0m\n\u001b[0;32m--> 106\u001b[0;31m       readonly=readonly)\n\u001b[0m\u001b[1;32m    107\u001b[0m \u001b[0;34m\u001b[0m\u001b[0m\n\u001b[1;32m    108\u001b[0m \u001b[0;34m\u001b[0m\u001b[0m\n",
      "\u001b[0;32m/usr/local/lib/python3.7/dist-packages/google/colab/drive.py\u001b[0m in \u001b[0;36m_mount\u001b[0;34m(mountpoint, force_remount, timeout_ms, ephemeral, readonly)\u001b[0m\n\u001b[1;32m    123\u001b[0m   \u001b[0;32mif\u001b[0m \u001b[0mephemeral\u001b[0m\u001b[0;34m:\u001b[0m\u001b[0;34m\u001b[0m\u001b[0;34m\u001b[0m\u001b[0m\n\u001b[1;32m    124\u001b[0m     _message.blocking_request(\n\u001b[0;32m--> 125\u001b[0;31m         'request_auth', request={'authType': 'dfs_ephemeral'}, timeout_sec=None)\n\u001b[0m\u001b[1;32m    126\u001b[0m \u001b[0;34m\u001b[0m\u001b[0m\n\u001b[1;32m    127\u001b[0m   \u001b[0mmountpoint\u001b[0m \u001b[0;34m=\u001b[0m \u001b[0m_os\u001b[0m\u001b[0;34m.\u001b[0m\u001b[0mpath\u001b[0m\u001b[0;34m.\u001b[0m\u001b[0mexpanduser\u001b[0m\u001b[0;34m(\u001b[0m\u001b[0mmountpoint\u001b[0m\u001b[0;34m)\u001b[0m\u001b[0;34m\u001b[0m\u001b[0;34m\u001b[0m\u001b[0m\n",
      "\u001b[0;32m/usr/local/lib/python3.7/dist-packages/google/colab/_message.py\u001b[0m in \u001b[0;36mblocking_request\u001b[0;34m(request_type, request, timeout_sec, parent)\u001b[0m\n\u001b[1;32m    169\u001b[0m   request_id = send_request(\n\u001b[1;32m    170\u001b[0m       request_type, request, parent=parent, expect_reply=True)\n\u001b[0;32m--> 171\u001b[0;31m   \u001b[0;32mreturn\u001b[0m \u001b[0mread_reply_from_input\u001b[0m\u001b[0;34m(\u001b[0m\u001b[0mrequest_id\u001b[0m\u001b[0;34m,\u001b[0m \u001b[0mtimeout_sec\u001b[0m\u001b[0;34m)\u001b[0m\u001b[0;34m\u001b[0m\u001b[0;34m\u001b[0m\u001b[0m\n\u001b[0m",
      "\u001b[0;32m/usr/local/lib/python3.7/dist-packages/google/colab/_message.py\u001b[0m in \u001b[0;36mread_reply_from_input\u001b[0;34m(message_id, timeout_sec)\u001b[0m\n\u001b[1;32m     95\u001b[0m     \u001b[0mreply\u001b[0m \u001b[0;34m=\u001b[0m \u001b[0m_read_next_input_message\u001b[0m\u001b[0;34m(\u001b[0m\u001b[0;34m)\u001b[0m\u001b[0;34m\u001b[0m\u001b[0;34m\u001b[0m\u001b[0m\n\u001b[1;32m     96\u001b[0m     \u001b[0;32mif\u001b[0m \u001b[0mreply\u001b[0m \u001b[0;34m==\u001b[0m \u001b[0m_NOT_READY\u001b[0m \u001b[0;32mor\u001b[0m \u001b[0;32mnot\u001b[0m \u001b[0misinstance\u001b[0m\u001b[0;34m(\u001b[0m\u001b[0mreply\u001b[0m\u001b[0;34m,\u001b[0m \u001b[0mdict\u001b[0m\u001b[0;34m)\u001b[0m\u001b[0;34m:\u001b[0m\u001b[0;34m\u001b[0m\u001b[0;34m\u001b[0m\u001b[0m\n\u001b[0;32m---> 97\u001b[0;31m       \u001b[0mtime\u001b[0m\u001b[0;34m.\u001b[0m\u001b[0msleep\u001b[0m\u001b[0;34m(\u001b[0m\u001b[0;36m0.025\u001b[0m\u001b[0;34m)\u001b[0m\u001b[0;34m\u001b[0m\u001b[0;34m\u001b[0m\u001b[0m\n\u001b[0m\u001b[1;32m     98\u001b[0m       \u001b[0;32mcontinue\u001b[0m\u001b[0;34m\u001b[0m\u001b[0;34m\u001b[0m\u001b[0m\n\u001b[1;32m     99\u001b[0m     if (reply.get('type') == 'colab_reply' and\n",
      "\u001b[0;31mKeyboardInterrupt\u001b[0m: "
     ]
    }
   ],
   "source": [
    "from google.colab import drive\n",
    "drive.mount('/content/drive')"
   ]
  },
  {
   "cell_type": "markdown",
   "metadata": {
    "id": "_7Ak3tutwyIj"
   },
   "source": [
    "Masuk ke direktori projek Web Mining"
   ]
  },
  {
   "cell_type": "code",
   "execution_count": null,
   "metadata": {
    "colab": {
     "base_uri": "https://localhost:8080/"
    },
    "executionInfo": {
     "elapsed": 648,
     "status": "ok",
     "timestamp": 1665535635729,
     "user": {
      "displayName": "Faridz Nur Firdausy S N 19-084",
      "userId": "00266508585162115821"
     },
     "user_tz": -420
    },
    "id": "2TMZhWp4n9E2",
    "outputId": "008e796f-bf01-48de-de5e-a42fedb93b82"
   },
   "outputs": [
    {
     "name": "stdout",
     "output_type": "stream",
     "text": [
      "/content/drive/MyDrive/Web Mining\n"
     ]
    }
   ],
   "source": [
    "%cd /content/drive/MyDrive/Web Mining"
   ]
  },
  {
   "cell_type": "markdown",
   "metadata": {
    "id": "tYK4vHzBw42N"
   },
   "source": [
    "Langkah awal clone terlebih twint dari GitHub TwintProject, lalu kita masuk kedalam folder yang sudah kita clone tadi. Tinggal jalankan script dibawah untuk memasang Twint ke projek kita"
   ]
  },
  {
   "cell_type": "markdown",
   "metadata": {
    "id": "y7kZHIzGxzmz"
   },
   "source": [
    "### instal twint"
   ]
  },
  {
   "cell_type": "code",
   "execution_count": null,
   "metadata": {
    "colab": {
     "base_uri": "https://localhost:8080/"
    },
    "executionInfo": {
     "elapsed": 47197,
     "status": "ok",
     "timestamp": 1665535285005,
     "user": {
      "displayName": "Faridz Nur Firdausy S N 19-084",
      "userId": "00266508585162115821"
     },
     "user_tz": -420
    },
    "id": "_b_C2gACorUV",
    "outputId": "bc95859f-7370-4f53-abde-58f6b2316455"
   },
   "outputs": [
    {
     "name": "stdout",
     "output_type": "stream",
     "text": [
      "fatal: destination path 'twint' already exists and is not an empty directory.\n",
      "/content/drive/MyDrive/Web Mining/twint\n",
      "Looking in indexes: https://pypi.org/simple, https://us-python.pkg.dev/colab-wheels/public/simple/\n",
      "Processing /content/drive/MyDrive/Web Mining/twint\n",
      "\u001b[33m  DEPRECATION: A future pip version will change local packages to be built in-place without first copying to a temporary directory. We recommend you use --use-feature=in-tree-build to test your packages with this new behavior before it becomes the default.\n",
      "   pip 21.3 will remove support for this functionality. You can find discussion regarding this at https://github.com/pypa/pip/issues/7555.\u001b[0m\n",
      "Requirement already satisfied: aiohttp in /usr/local/lib/python3.7/dist-packages (from -r requirements.txt (line 1)) (3.8.3)\n",
      "Collecting aiodns\n",
      "  Downloading aiodns-3.0.0-py3-none-any.whl (5.0 kB)\n",
      "Requirement already satisfied: beautifulsoup4 in /usr/local/lib/python3.7/dist-packages (from -r requirements.txt (line 3)) (4.6.3)\n",
      "Collecting cchardet\n",
      "  Downloading cchardet-2.1.7-cp37-cp37m-manylinux2010_x86_64.whl (263 kB)\n",
      "\u001b[K     |████████████████████████████████| 263 kB 5.1 MB/s \n",
      "\u001b[?25hCollecting dataclasses\n",
      "  Downloading dataclasses-0.6-py3-none-any.whl (14 kB)\n",
      "Collecting elasticsearch\n",
      "  Downloading elasticsearch-8.4.3-py3-none-any.whl (384 kB)\n",
      "\u001b[K     |████████████████████████████████| 384 kB 41.9 MB/s \n",
      "\u001b[?25hRequirement already satisfied: pysocks in /usr/local/lib/python3.7/dist-packages (from -r requirements.txt (line 7)) (1.7.1)\n",
      "Requirement already satisfied: pandas>=0.23.0 in /usr/local/lib/python3.7/dist-packages (from -r requirements.txt (line 8)) (1.3.5)\n",
      "Collecting aiohttp_socks<=0.4.1\n",
      "  Downloading aiohttp_socks-0.4.1-py3-none-any.whl (17 kB)\n",
      "Collecting schedule\n",
      "  Downloading schedule-1.1.0-py2.py3-none-any.whl (10 kB)\n",
      "Requirement already satisfied: geopy in /usr/local/lib/python3.7/dist-packages (from -r requirements.txt (line 11)) (1.17.0)\n",
      "Collecting fake-useragent\n",
      "  Downloading fake-useragent-0.1.11.tar.gz (13 kB)\n",
      "Collecting googletransx\n",
      "  Downloading googletransx-2.4.2.tar.gz (13 kB)\n",
      "Requirement already satisfied: numpy>=1.17.3 in /usr/local/lib/python3.7/dist-packages (from pandas>=0.23.0->-r requirements.txt (line 8)) (1.21.6)\n",
      "Requirement already satisfied: python-dateutil>=2.7.3 in /usr/local/lib/python3.7/dist-packages (from pandas>=0.23.0->-r requirements.txt (line 8)) (2.8.2)\n",
      "Requirement already satisfied: pytz>=2017.3 in /usr/local/lib/python3.7/dist-packages (from pandas>=0.23.0->-r requirements.txt (line 8)) (2022.4)\n",
      "Requirement already satisfied: attrs>=19.2.0 in /usr/local/lib/python3.7/dist-packages (from aiohttp_socks<=0.4.1->-r requirements.txt (line 9)) (22.1.0)\n",
      "Requirement already satisfied: typing-extensions>=3.7.4 in /usr/local/lib/python3.7/dist-packages (from aiohttp->-r requirements.txt (line 1)) (4.1.1)\n",
      "Requirement already satisfied: yarl<2.0,>=1.0 in /usr/local/lib/python3.7/dist-packages (from aiohttp->-r requirements.txt (line 1)) (1.8.1)\n",
      "Requirement already satisfied: charset-normalizer<3.0,>=2.0 in /usr/local/lib/python3.7/dist-packages (from aiohttp->-r requirements.txt (line 1)) (2.1.1)\n",
      "Requirement already satisfied: multidict<7.0,>=4.5 in /usr/local/lib/python3.7/dist-packages (from aiohttp->-r requirements.txt (line 1)) (6.0.2)\n",
      "Requirement already satisfied: async-timeout<5.0,>=4.0.0a3 in /usr/local/lib/python3.7/dist-packages (from aiohttp->-r requirements.txt (line 1)) (4.0.2)\n",
      "Requirement already satisfied: frozenlist>=1.1.1 in /usr/local/lib/python3.7/dist-packages (from aiohttp->-r requirements.txt (line 1)) (1.3.1)\n",
      "Requirement already satisfied: asynctest==0.13.0 in /usr/local/lib/python3.7/dist-packages (from aiohttp->-r requirements.txt (line 1)) (0.13.0)\n",
      "Requirement already satisfied: aiosignal>=1.1.2 in /usr/local/lib/python3.7/dist-packages (from aiohttp->-r requirements.txt (line 1)) (1.2.0)\n",
      "Requirement already satisfied: six>=1.5 in /usr/local/lib/python3.7/dist-packages (from python-dateutil>=2.7.3->pandas>=0.23.0->-r requirements.txt (line 8)) (1.15.0)\n",
      "Requirement already satisfied: idna>=2.0 in /usr/local/lib/python3.7/dist-packages (from yarl<2.0,>=1.0->aiohttp->-r requirements.txt (line 1)) (2.10)\n",
      "Collecting pycares>=4.0.0\n",
      "  Downloading pycares-4.2.2-cp37-cp37m-manylinux_2_17_x86_64.manylinux2014_x86_64.whl (288 kB)\n",
      "\u001b[K     |████████████████████████████████| 288 kB 46.6 MB/s \n",
      "\u001b[?25hRequirement already satisfied: cffi>=1.5.0 in /usr/local/lib/python3.7/dist-packages (from pycares>=4.0.0->aiodns->-r requirements.txt (line 2)) (1.15.1)\n",
      "Requirement already satisfied: pycparser in /usr/local/lib/python3.7/dist-packages (from cffi>=1.5.0->pycares>=4.0.0->aiodns->-r requirements.txt (line 2)) (2.21)\n",
      "Collecting elastic-transport<9,>=8\n",
      "  Downloading elastic_transport-8.4.0-py3-none-any.whl (59 kB)\n",
      "\u001b[K     |████████████████████████████████| 59 kB 5.3 MB/s \n",
      "\u001b[?25hCollecting urllib3<2,>=1.26.2\n",
      "  Downloading urllib3-1.26.12-py2.py3-none-any.whl (140 kB)\n",
      "\u001b[K     |████████████████████████████████| 140 kB 35.9 MB/s \n",
      "\u001b[?25hRequirement already satisfied: certifi in /usr/local/lib/python3.7/dist-packages (from elastic-transport<9,>=8->elasticsearch->-r requirements.txt (line 6)) (2022.9.24)\n",
      "Requirement already satisfied: geographiclib<2,>=1.49 in /usr/local/lib/python3.7/dist-packages (from geopy->-r requirements.txt (line 11)) (1.52)\n",
      "Requirement already satisfied: requests in /usr/local/lib/python3.7/dist-packages (from googletransx->-r requirements.txt (line 13)) (2.23.0)\n",
      "Requirement already satisfied: chardet<4,>=3.0.2 in /usr/local/lib/python3.7/dist-packages (from requests->googletransx->-r requirements.txt (line 13)) (3.0.4)\n",
      "Collecting requests\n",
      "  Downloading requests-2.28.1-py3-none-any.whl (62 kB)\n",
      "\u001b[K     |████████████████████████████████| 62 kB 1.3 MB/s \n",
      "\u001b[?25hBuilding wheels for collected packages: twint, fake-useragent, googletransx\n",
      "  Building wheel for twint (setup.py) ... \u001b[?25l\u001b[?25hdone\n",
      "  Created wheel for twint: filename=twint-2.1.21-py3-none-any.whl size=38871 sha256=d1d31b06bd8e46acd90c20f763b2633c712d5ac06075969bea9310cf8b90dc4a\n",
      "  Stored in directory: /tmp/pip-ephem-wheel-cache-bgk_n2z4/wheels/ce/ec/44/07ea4188fed75e2ea686655fde89c7e4deabe23f76daf75d4e\n",
      "  Building wheel for fake-useragent (setup.py) ... \u001b[?25l\u001b[?25hdone\n",
      "  Created wheel for fake-useragent: filename=fake_useragent-0.1.11-py3-none-any.whl size=13502 sha256=e5853afb206049b3c32edd07a449115096cb2f1149d25f36b49903d6950b43de\n",
      "  Stored in directory: /root/.cache/pip/wheels/ed/f7/62/50ab6c9a0b5567267ab76a9daa9d06315704209b2c5d032031\n",
      "  Building wheel for googletransx (setup.py) ... \u001b[?25l\u001b[?25hdone\n",
      "  Created wheel for googletransx: filename=googletransx-2.4.2-py3-none-any.whl size=15968 sha256=3d02e2bb200870f5499896bbc070b261816c9d2a73b44fc422922ad24addab3b\n",
      "  Stored in directory: /root/.cache/pip/wheels/66/d5/b1/31104b338f7fd45aa8f7d22587765db06773b13df48a89735f\n",
      "Successfully built twint fake-useragent googletransx\n",
      "Installing collected packages: urllib3, requests, pycares, elastic-transport, schedule, googletransx, fake-useragent, elasticsearch, dataclasses, cchardet, aiohttp-socks, aiodns, twint\n",
      "  Attempting uninstall: urllib3\n",
      "    Found existing installation: urllib3 1.24.3\n",
      "    Uninstalling urllib3-1.24.3:\n",
      "      Successfully uninstalled urllib3-1.24.3\n",
      "  Attempting uninstall: requests\n",
      "    Found existing installation: requests 2.23.0\n",
      "    Uninstalling requests-2.23.0:\n",
      "      Successfully uninstalled requests-2.23.0\n",
      "Successfully installed aiodns-3.0.0 aiohttp-socks-0.4.1 cchardet-2.1.7 dataclasses-0.6 elastic-transport-8.4.0 elasticsearch-8.4.3 fake-useragent-0.1.11 googletransx-2.4.2 pycares-4.2.2 requests-2.28.1 schedule-1.1.0 twint-2.1.21 urllib3-1.26.12\n"
     ]
    }
   ],
   "source": [
    "!git clone --depth=1 https://github.com/twintproject/twint.git\n",
    "%cd twint\n",
    "!pip3 install . -r requirements.txt"
   ]
  },
  {
   "cell_type": "markdown",
   "metadata": {
    "id": "J0l-PqFhw8DQ"
   },
   "source": [
    "Pasang aiohttp berguna menyediakan Web-server dengan middlewares dan plugable routing"
   ]
  },
  {
   "cell_type": "code",
   "execution_count": null,
   "metadata": {
    "colab": {
     "base_uri": "https://localhost:8080/"
    },
    "executionInfo": {
     "elapsed": 6550,
     "status": "ok",
     "timestamp": 1665535349365,
     "user": {
      "displayName": "Faridz Nur Firdausy S N 19-084",
      "userId": "00266508585162115821"
     },
     "user_tz": -420
    },
    "id": "8jLQ65zypENg",
    "outputId": "3c86b55e-0053-41b4-e842-cd58aa410142"
   },
   "outputs": [
    {
     "name": "stdout",
     "output_type": "stream",
     "text": [
      "Looking in indexes: https://pypi.org/simple, https://us-python.pkg.dev/colab-wheels/public/simple/\n",
      "Collecting aiohttp==3.7.0\n",
      "  Downloading aiohttp-3.7.0-cp37-cp37m-manylinux2014_x86_64.whl (1.3 MB)\n",
      "\u001b[K     |████████████████████████████████| 1.3 MB 5.2 MB/s \n",
      "\u001b[?25hRequirement already satisfied: multidict<7.0,>=4.5 in /usr/local/lib/python3.7/dist-packages (from aiohttp==3.7.0) (6.0.2)\n",
      "Requirement already satisfied: yarl<2.0,>=1.0 in /usr/local/lib/python3.7/dist-packages (from aiohttp==3.7.0) (1.8.1)\n",
      "Requirement already satisfied: chardet<4.0,>=2.0 in /usr/local/lib/python3.7/dist-packages (from aiohttp==3.7.0) (3.0.4)\n",
      "Collecting async-timeout<4.0,>=3.0\n",
      "  Downloading async_timeout-3.0.1-py3-none-any.whl (8.2 kB)\n",
      "Requirement already satisfied: attrs>=17.3.0 in /usr/local/lib/python3.7/dist-packages (from aiohttp==3.7.0) (22.1.0)\n",
      "Requirement already satisfied: typing-extensions>=3.7.4 in /usr/local/lib/python3.7/dist-packages (from yarl<2.0,>=1.0->aiohttp==3.7.0) (4.1.1)\n",
      "Requirement already satisfied: idna>=2.0 in /usr/local/lib/python3.7/dist-packages (from yarl<2.0,>=1.0->aiohttp==3.7.0) (2.10)\n",
      "Installing collected packages: async-timeout, aiohttp\n",
      "  Attempting uninstall: async-timeout\n",
      "    Found existing installation: async-timeout 4.0.2\n",
      "    Uninstalling async-timeout-4.0.2:\n",
      "      Successfully uninstalled async-timeout-4.0.2\n",
      "  Attempting uninstall: aiohttp\n",
      "    Found existing installation: aiohttp 3.8.3\n",
      "    Uninstalling aiohttp-3.8.3:\n",
      "      Successfully uninstalled aiohttp-3.8.3\n",
      "Successfully installed aiohttp-3.7.0 async-timeout-3.0.1\n"
     ]
    }
   ],
   "source": [
    "!pip install aiohttp==3.7.0"
   ]
  },
  {
   "cell_type": "markdown",
   "metadata": {
    "id": "35czdEyzxBfP"
   },
   "source": [
    "Pasang nest-asyncio untuk runtime serentak dalam noteboook"
   ]
  },
  {
   "cell_type": "code",
   "execution_count": null,
   "metadata": {
    "colab": {
     "base_uri": "https://localhost:8080/"
    },
    "executionInfo": {
     "elapsed": 4400,
     "status": "ok",
     "timestamp": 1665535498651,
     "user": {
      "displayName": "Faridz Nur Firdausy S N 19-084",
      "userId": "00266508585162115821"
     },
     "user_tz": -420
    },
    "id": "Ke-xCet9pg9R",
    "outputId": "871275bd-18a5-4ce1-dbf6-ed96265dbe20"
   },
   "outputs": [
    {
     "name": "stdout",
     "output_type": "stream",
     "text": [
      "Looking in indexes: https://pypi.org/simple, https://us-python.pkg.dev/colab-wheels/public/simple/\n",
      "Collecting nest-asyncio\n",
      "  Downloading nest_asyncio-1.5.6-py3-none-any.whl (5.2 kB)\n",
      "Installing collected packages: nest-asyncio\n",
      "Successfully installed nest-asyncio-1.5.6\n"
     ]
    }
   ],
   "source": [
    "!pip install nest-asyncio"
   ]
  },
  {
   "cell_type": "markdown",
   "metadata": {
    "id": "6LbvUbAixDuU"
   },
   "source": [
    "Import nest-asyncio dan juga twint agar bisa melakukan crawling data di twitter"
   ]
  },
  {
   "cell_type": "code",
   "execution_count": null,
   "metadata": {
    "id": "PGzCzzNOptQp"
   },
   "outputs": [],
   "source": [
    "import nest_asyncio\n",
    "nest_asyncio.apply()\n",
    "import twint"
   ]
  },
  {
   "cell_type": "code",
   "execution_count": null,
   "metadata": {
    "colab": {
     "base_uri": "https://localhost:8080/"
    },
    "executionInfo": {
     "elapsed": 5,
     "status": "ok",
     "timestamp": 1665535654539,
     "user": {
      "displayName": "Faridz Nur Firdausy S N 19-084",
      "userId": "00266508585162115821"
     },
     "user_tz": -420
    },
    "id": "i5Zs5_bQqSwl",
    "outputId": "1d0771b3-30da-4baa-eb9f-db8b0ce4f09b"
   },
   "outputs": [
    {
     "name": "stdout",
     "output_type": "stream",
     "text": [
      "/content/drive/MyDrive/Web Mining/webmining\n"
     ]
    }
   ],
   "source": [
    "%cd /content/drive/MyDrive/Web Mining/webmining"
   ]
  },
  {
   "cell_type": "markdown",
   "metadata": {
    "id": "bCWNp37KxHjf"
   },
   "source": [
    "Jadi disini kita akan melakukan crawling data yang diunduh dari server twitter. Cara ini cukup simpel, cepat dan gak ribet, karena kita gak perlu punya akun twitter, gak perlu API dan tanpa limitasi juga. Kita hanya perlu sebuah tool yang bernama **twint**. \n",
    ">**Twint** adalah sebuah tools yang digunakan untuk melakukan scrapping dari aplikasi twitter yang disetting secara khusus menggunakan bahasa pemrograman Python. Twint dapat kita gunakan dan jalankan tanpa harus menggunakan API dari Twitter itu sendiri, dengan kapasitas scrapping data maksimalnya adalah 3200 tweet. Bukan hanya digunakan pada tweet, twint juga bisa kita gunakan untuk melakukan scrapping pada user, followers, retweet dan sebagainya. Twint memanfaatkan operator pencarian twitter untuk memungkinkan proses penghapusan tweet dari user tertentu, memilih dan memilah informasi-informasi yang sensitif, termasuk email dan nomor telepon di dalamnya."
   ]
  },
  {
   "cell_type": "markdown",
   "metadata": {
    "id": "uzL25aGJxKxa"
   },
   "source": [
    "Data yang kita ambil ialah pemberitaan terbaru mengenai tragedi Kanjuruhan. Kata kunci yang digunakan 'trpagedi kanjuruhan' pada **c.search**, menggunakan Pandas pada **c.Pandas**, menggunakan limitasi data sebanyak 80 data pada **c.Limit**, dengan menggunakan custom data yang dimasukkan ke csx dengan label Tweet dan data yang diambil tweet-nya saja. Output atau data akan dimasukkan ke dalam file **csv**."
   ]
  },
  {
   "cell_type": "markdown",
   "metadata": {
    "id": "7ucOD3v2x44s"
   },
   "source": [
    "### Crawling Tweet"
   ]
  },
  {
   "cell_type": "code",
   "execution_count": null,
   "metadata": {
    "colab": {
     "base_uri": "https://localhost:8080/"
    },
    "executionInfo": {
     "elapsed": 2520,
     "status": "ok",
     "timestamp": 1665535571073,
     "user": {
      "displayName": "Faridz Nur Firdausy S N 19-084",
      "userId": "00266508585162115821"
     },
     "user_tz": -420
    },
    "id": "gSH4tjdJpv1m",
    "outputId": "e4cf02de-f664-4cea-ed70-ed348dec5907"
   },
   "outputs": [
    {
     "name": "stdout",
     "output_type": "stream",
     "text": [
      "1579996364540215296 2022-10-12 00:44:22 +0000 <saeed81012275> Effect Tragedi Kanjuruhan   Effect tragedi kanjuruhan  akan berpengaruh untuk suara pemilih lari ke anies di jatim bila casenya merugikan korban,kata kawan saya😀✌\n",
      "1579996340968247296 2022-10-12 00:44:17 +0000 <ArekMalangFC> Kasus Sambo setelah Tragedi Kanjuruhan sampai mana ya? #UsutTuntas\n",
      "1579996282294534145 2022-10-12 00:44:03 +0000 <tauberitamedia> Komnas HAM akan menyampaikan hasil investigasinya atas tragedi Kanjuruhan kepada publik, hari ini Rabu (12/10/2022) siang. -    https://t.co/O6eFLMAcVg\n",
      "1579996280977514496 2022-10-12 00:44:02 +0000 <tauberitamedia> PSM Makassar menjadi tim yang tetap intens menggelar latihan meski Liga 1 dihentikan sementara imbas Tragedi Kanjuruhan.  https://t.co/qiXGqdliUo\n",
      "1579996279265894403 2022-10-12 00:44:02 +0000 <tauberitamedia> Tiga polisi tersangka tragedi Kanjuruhan diperiksa di Polda Jatim siang ini. Sebelumnya mereka meminta pemeriksaan ditunda untuk menyiapkan penasihat hukum.  https://t.co/UCVktO2WPx\n",
      "1579995944405282819 2022-10-12 00:42:42 +0000 <most1058> Korban meninggal dunia dalam tragedi Kanjuruhan bertambah satu orang, sehingga totalnya menjadi 132 orang. Menurut salah satu dokter RSSA, dr. Arie Zainul Fatoni, korban wanita bernama Helen Prisela ini meninggal dunia karena mengalami gagal napas akut. #MostUpdate1058\n",
      "1579995792588570624 2022-10-12 00:42:06 +0000 <Mas_Widya> @prima_sulistya Versi TGIPF pimpinan @mohmahfudmd bisa jadi lebih sedikit lagi. Seperti halnya jumlah korban yg dihitung hanya yg ketemu identitasnya, yg ga ada identitasnya tidak dianggap korban tragedi kanjuruhan\n",
      "1579995784640356353 2022-10-12 00:42:04 +0000 <Infoinjabar> Pasca Tragedi Kanjuruhan, Luis Milla Apresiasi Pemain Persib Bandung yang Tetap ...  https://t.co/j3IG6dVi6F\n",
      "1579995777291599872 2022-10-12 00:42:02 +0000 <saeed81012275> @tempodotco dan effect tragedi kanjuruhan juga akan berpengaruh untuk suara pemilih lari ke anies di jatim bila casenya merugikan korban,kata kawan saya😀✌\n",
      "1579995699344986112 2022-10-12 00:41:44 +0000 <HoesinLwi> Kesaksian Naswa,  Korban Tragedi Kanjuruhan,  Mata Masih Merah, Pusing,  hingga Dada Sesak akibat Gas Air Mata   https://t.co/UBr2EFBejV  https://t.co/Fmbn3w943X\n",
      "1579995522835705859 2022-10-12 00:41:02 +0000 <wiiwiie11> @siapkawalpolri Terdapat 19 Polisi yg bakal diperiksa. Kapolri @ListyoSigitP harus mengusut tuntas kasus ini. Siapa tau juga masih ada Polisi yg terlibat dlm tragedi Kanjuruhan ini.\n",
      "1579995306984615936 2022-10-12 00:40:10 +0000 <fendy_sapt> Rasa trauma akibat tragedi kanjuruhan dirasakan mbak diby fadilah. Rupanya, gas air mata kedaluwarsa bisa picu gagal nafas, kebutaan, bahkan kematian. 🥀😔  https://t.co/Ze29qf5h7h\n",
      "1579995242962354176 2022-10-12 00:39:55 +0000 <belavilanaaa> turut berduka cita semoga diterima baik disisinya✨🎗️ tragedi kanjuruhan smg segera terselesaikan  https://t.co/cCmVBdofF7\n",
      "1579995152713932800 2022-10-12 00:39:33 +0000 <bolatimesdotcom> Tanggapi Tragedi Kanjuruhan, PSS Sleman Komitmen Ambil 6 Sikap Tegas Ini  https://t.co/8CalqAUElk\n",
      "1579995020454674433 2022-10-12 00:39:02 +0000 <bb_sports_id> Pentolan Bonek soal Perdamaian dengan Aremania: Mari Saling Respek Dulu  https://t.co/foU83mgaId baca juga berita dari media lainnya di Indonesia di  https://t.co/GkwQxScnBB   #persebayasurabaya #bonek #husinghozali #aremania #sportbites #tragedikanjuruhan\n",
      "1579994979098759168 2022-10-12 00:38:52 +0000 <migacoannaq> @rifattack @Jaetype1 @sincerelyluns @LORDYIB0 @convomfs bukann 😭, itu dia kasih tau kalau indo masi berduka soal tragedi bola itu trus mau diceritain ttg kanjuruhan. eh ternyata dia bukan org indo tapi org bruneiii gituu\n",
      "1579994741818593281 2022-10-12 00:37:55 +0000 <kaltenglima> Polri Beberkan Penyebab Korban Tragedi Kanjuruhan Meninggal   https://t.co/BeVo2U0gvU\n",
      "1579994667944333312 2022-10-12 00:37:38 +0000 <penjagadapur> tuan jokowi, mengapa sampeyan tidak meminta maaf dan menystakan bertanggung jawab kepada ratusan korban mati dan atau luka luka dalam Tragedi Kanjuruhan?#dimanarasakemanusiaansampeyan?!\n",
      "1579994545395093505 2022-10-12 00:37:09 +0000 <ZunanArfian> Kapolres Malang AKBP Putu Kholis Aryana duduk bersimpuh di depan pintu masuk pemeriksaan tiket, memanjatkan doa bagi korban Tragedi Kanjuruhan, di Stadion Kanjuruhan, Kabupaten Malang, Selasa (11/10/2022) siang. Hal ini dilakukan di sela-sela kunjungannya ke Stadion Kanjuruhan  https://t.co/WAa03qGnNN\n",
      "1579994530660896768 2022-10-12 00:37:05 +0000 <Athaya_Abida> Kalangan industri komersialisasi olahraga nasional memuji hasil lobi @erickthohir ke FIFA yang membuat federasi sepak bola internasional itu urung memberikan sanksi berat kepada Indonesia paska tragedi Kanjuruhan  #BangkitBersamaET  https://t.co/9xCdQakEOe\n",
      "1579994526264877058 2022-10-12 00:37:04 +0000 <adiovlad> Klopun nanti liga jalan lagi dgn kapasitas 50%, ya pendapat pribadi sih ga usah datang ke stadion dulu klo kasus Kanjuruhan belum selesai. Percuma ngoceh sana sini, teriak asat usut, tragedi ini tragedi itu, klo msih pd menikmati liga diatas tragedi kemanusiaan yg belum selesai.\n",
      "1579994285604151296 2022-10-12 00:36:07 +0000 <terkinidotid> Tim Pencari Fakta Sebut Tragedi Kanjuruhan Pembunuhan Sistematis, Ini 12 Temuannya    https://t.co/YtddR1GqY9\n",
      "1579994279371587584 2022-10-12 00:36:05 +0000 <bb_sports_id> PSSI Sebut Kompetisi Liga 1 Menunggu Keputusan FIFA   https://t.co/nqe5boNNN9 baca juga berita dari media lainnya di Indonesia di  https://t.co/GkwQxScnBB   #liga1 #pssi #fifa #tragedikanjuruhan #ahmadriyadh #liga2 #afc #mochamadiriawan\n",
      "1579994246006079488 2022-10-12 00:35:57 +0000 <holopiscom> Kabid Humas Polda Jatim Kombes Polisi Dirmanto mengungkapkan, tiga tersangka yakni Kompol WS, AKP BS, dan AKP H, belum memiliki pengacara sehingga menolak untuk diperiksa. #TragediKanjuruhan #Kanjuruhan  https://t.co/SzQpuvAKiY\n",
      "1579994077432492032 2022-10-12 00:35:17 +0000 <rahmadiheru88> \"Tugasnya untuk cuci piring di #Malang akan jadi prioritas yg tidak bisa ditawar.  Terutama, menyembuhkan luka yg dalam.  • Polresta #Malang sudah memulai dgn Sangat Baik.  Anggota Polresta #Malang berSUJUD bersama di halaman Polres, menDOAkan korban tragedi #Kanjuruhan.\"  (D I)\n",
      "1579994013020876801 2022-10-12 00:35:02 +0000 <WartaEkonomi> Resmi Dilaporkan karena Buat Gaduh Terkait Tragedi Kanjuruhan, Ade Armando Mohon Siap-siap!  https://t.co/CadarCppbW\n",
      "1579993900969861121 2022-10-12 00:34:35 +0000 <Tr3nd1n6> DPR Geram Dengar Kadiv Humas Polri Sebut Korban Tewas Tragedi Kanjuruhan Akibat Kurang Oksigen  https://t.co/qJpMzcwplS #BeritaIslam  https://t.co/kMax8qDwvm\n",
      "1579993719859646464 2022-10-12 00:33:52 +0000 <BUMNWAJOHADIR> Erick mengatakan bahwa pertemuan itu turut membahas sejumlah hal dalam pengembangan sepak bola, termasuk Tragedi Kanjuruhan.  https://t.co/kPwh9WKcUB\n",
      "1579992828540698624 2022-10-12 00:30:19 +0000 <terkinidotid> Polisi Sujud Massal Minta Maaf untuk Tragedi Kanjuruhan, Pakar UB: Berlebihan    https://t.co/6wyeLUgYQU\n",
      "1579992476412039168 2022-10-12 00:28:55 +0000 <MAreborn444> @JamanEdan543123 JANGANKAN HUKUMAN BERAT, PEMECATAN AJA GAK ADA.  Nyawa tidak menjadi perhatian pejabat negara. Sungguh2 mengerikan.  BUNTUT Tragedi Kanjuruhan, Kapolda Jatim Irjen Nico Afinta Dimutasi Jadi SahliSosbud Kapolri   https://t.co/LoeS16evAP  #PolriPemecahBangsa  #PolriPemecahBangsa\n",
      "1579992166457565186 2022-10-12 00:27:41 +0000 <pikiran_rakyat> Mahfud MD: Hasil Investigasi Tragedi Kanjuruhan Diserahkan ke Jokowi Jumat Ini  https://t.co/Vl3xzu8Dhb  https://t.co/aVaQ7zJjpy\n",
      "1579992003626078210 2022-10-12 00:27:03 +0000 <bb_sports_id> Terkait Laga Malam Hari Arema FC Vs Persebaya, PT LIB: Itu Permintaan Indosiar  https://t.co/9rABoUQtuT baca juga berita dari media lainnya di Indonesia di  https://t.co/GkwQxScnBB   #tragedikanjuruhan #ptlib #ptligaindonesiabaru #indonesia #liga120222023\n",
      "1579991931219836928 2022-10-12 00:26:45 +0000 <KakakLap> Update Korban Tragedi Kanjuruhan, 132 Meninggal Dunia, 607 Luka-luka  https://t.co/LObMDAfVSI\n",
      "1579991926778085376 2022-10-12 00:26:44 +0000 <joswito> Update Korban Tragedi Kanjuruhan, 132 Meninggal Dunia, 607 Luka-luka  https://t.co/S2FLaJsH0K\n",
      "1579991377168855040 2022-10-12 00:24:33 +0000 <TINTAHIJAUcom> Viral di Medsos, Mata Merah Karena Gas Air Mata di Tragedi Kanjuruhan  https://t.co/LXJMhvlLOI\n",
      "1579991256058724352 2022-10-12 00:24:04 +0000 <KompasTV> Di Balik Aksi Sujud Polisi Malang, Ada Rasa Bersalah dan Harapan Tragedi Kanjuruhan Segera Tuntas  https://t.co/tMeDXKFW0i  https://t.co/TyBKKJ50I8\n",
      "1579991113389473792 2022-10-12 00:23:30 +0000 <penjagadapur> tuan jokowi, mengapa sampeyan tidak meminta maaf dan menyatakan bertanggung jawab kepada ratusan korban mati dan atau luka luka dalam Tragedi Kanjuruhan?#dimanarasakemanusiaansampeyan?!\n",
      "1579991037875032065 2022-10-12 00:23:12 +0000 <detikcom> Kematian Helen Pricela korban tragedi Kanjuruhan yang baru berusia 20 tahun menambah duka. Kematiannya pun membuat jumlah korban jiwa menjadi 132 orang.  https://t.co/OFdn35GUwY\n",
      "1579990837597020162 2022-10-12 00:22:25 +0000 <BeritaDotMedia> Ketua Tim Gabungan Independen Pencari Fakta (TGIPF) Tragedi Kanjuruhan, Mahfud MD menegaskan bakal m #berita #menarik  https://t.co/GB54Xi6zaL\n",
      "1579990750363648000 2022-10-12 00:22:04 +0000 <AlFariqi> Tragedi Kanjuruhan, Segera Benahi Sepakbola Indonesia dan Mendesak Ketua Umum dan Pengurus PSSI Untuk Mengundurkan Diri #IwanBuleOut @iriawan84 @pt_lib - Tandatangani Petisi!  https://t.co/M930gS7d8V lewat @ChangeOrg_ID\n",
      "1579990625071427584 2022-10-12 00:21:34 +0000 <ZAEffendy> Jangan tanya kenapa? 19 Saksi dan Korban tragedi #Kanjuruhan Malang minta perlindungan LPSK ... #Nalar!\n",
      "1579990618730037248 2022-10-12 00:21:32 +0000 <kompascom> Polisi di Kota Malang sujud minta maaf terkait Tragedi Kanjuruhan. Namun, mereka juga membela diri di Jakarta.  https://t.co/VE9RkueLum\n",
      "1579990244187074560 2022-10-12 00:20:03 +0000 <tempodotco> TGIPF Tragedi Kanjuruhan Serahkan Hasil Investigasi ke Jokowi pada Jumat  https://t.co/QuWd586kc4 #TempoNasional\n",
      "1579990136250830848 2022-10-12 00:19:37 +0000 <beritajatimcom> Polisi Tak Menahan Tersangka Tragedi Kanjuruhan Malang.  Dua Tersangka tragedi Kanjuruhan menjalani pemeriksaan    di Direktorat Reserse Kriminal Umumu (Ditreskrimum) Polda Jatim -- Ikuti kami di google berita…  https://t.co/5U9Zv7m29o #HukumKriminal #Arema via @beritajatimcom\n",
      "1579989806645653504 2022-10-12 00:18:19 +0000 <pikiran_rakyat> Korban Meninggal Tragedi Kanjuruhan Bertambah Satu Orang  https://t.co/rgduSl0f7E\n",
      "1579989638529581058 2022-10-12 00:17:39 +0000 <AryaNoorAmarsya> Menyusul Tragedi Kanjuruhan, Pemerintah Akan Mengaudit Kembali Stadion-stadion  https://t.co/kvTTDzVoSP\n",
      "1579989498431438848 2022-10-12 00:17:05 +0000 <tauberitamedia> Kematian Helen Pricela korban tragedi Kanjuruhan yang baru berusia 20 tahun menambah duka. Kematiannya pun membuat jumlah korban jiwa menjadi 132 orang.  https://t.co/JEdPVB4EI5\n",
      "1579989348442742784 2022-10-12 00:16:30 +0000 <RadioElshinta> Federasi Sepak Bola Dunia atau FIFA yg bermarkas di Zurich Swiss segera berkantor di Indonesia selama dua bulan untuk membantu pemerintah Indonesia membenahi sepak bola ditanah Air. Hal ini terjadi pasca Tragedi yg terjadi di stadion Kanjuruhan Malang Jawa Timur 1 Oktober lalu  https://t.co/iQdbkj4sn5\n",
      "1579989255182434305 2022-10-12 00:16:07 +0000 <a_daud_ppnp> Rocky Gerung Heran Jokowi Salahkan Pintu dan Tangga di Tragedi Kanjuruhan: Kan Kepanikan Datangnya dari Gas Air Mata..  https://t.co/hZOnXzZB3e\n",
      "1579988685805608963 2022-10-12 00:13:52 +0000 <OfficialiNewsTV> Menteri PUPR Audit Stadion Sepak Bola yang Banyak Suporternya  https://t.co/yfEEI7htC0  #Stadion #TragediKanjuruhan #Suporter #Jokowi #MenteriPUPR #Audit #iNews #IniBaruBerita  https://t.co/aT4Gsrg7CG\n",
      "1579988614116569092 2022-10-12 00:13:35 +0000 <bisanewsid> Tragedi Kanjuruhan Harus Jadi Pelajaran Berharga  https://t.co/9sdETnSgUs\n",
      "1579988132400807937 2022-10-12 00:11:40 +0000 <Murai182> @DivHumas_Polri Suruh nyoba sendiri aja, kondisikan sama seperti kondisi Aremania saat tragedi Kanjuruhan\n",
      "1579987422431305728 2022-10-12 00:08:50 +0000 <sahalaharianj16> Sampai saat ini tragedi kanjuruhan blm ada yg mengaku paling bertanggung jawab dlm peristiwa tsb, mungkin yg paling pantas dipersalahkan, BOLA, dan bola\n",
      "1579987369859510272 2022-10-12 00:08:38 +0000 <ovrthnkrbelle_> \"Duka kehilangan itu nggak akan pernah sembuh, jun. Kita cuma bisa menerima dan terus menerima kalau ia tidak akan pernah kembali\"   Sekian dari banyak tutur abang kami sejak kejadian Semeru sampai tragedi Kanjuruhan. Dan memang benar, duka kehilangan itu akan terus melekat.\n",
      "1579987355355607040 2022-10-12 00:08:34 +0000 <KartumerahNews> Mahfud MD Bicara Gas Air Mata Kedaluarsa Tragedi Kanjuruhan, Pengamat Cium Indikasi Korupsi  https://t.co/pelC79zL1a\n",
      "1579987252834603008 2022-10-12 00:08:10 +0000 <detik_jatim> Kematian Helen yang Menambah Duka Tragedi Kanjuruhan: Korban Jiwa 132 Orang  https://t.co/HMdgdOSS3B\n",
      "1579987240520151042 2022-10-12 00:08:07 +0000 <BatamPos> Lusa Kirim Laporan Tragedi Kanjuruhan ke Presiden  https://t.co/KIqX0e9gKA\n",
      "1579987171947479042 2022-10-12 00:07:51 +0000 <NurulIm81316494> Polresta Malang Kota Sambangi Korban Tragedi Kanjuruhan Alami Iritasi Mata  https://t.co/KcpArqn33M  https://t.co/Y9bL6yVFzX\n",
      "1579986986093645824 2022-10-12 00:07:06 +0000 <tvOneNews> Machfud MD Sebut TGIPF akan Serahkan Hasil Investigasi Tragedi Kanjuruhan Kepada Presiden Jokowi pada Jumat 14/10  https://t.co/AJoW0IYERt\n",
      "1579986946570715136 2022-10-12 00:06:57 +0000 <boedyirh> @detikcom Di luar tragedi Kanjuruhan, saya rasa kalau klub bisa mengedukasi supporter, pasti perannya sangat besar dalam memajukan kompetisi sepakbola di Indonesia yang sehat berbasis prestasi.\n",
      "1579986863762599936 2022-10-12 00:06:37 +0000 <tempodotco> Sejumlah Polisi Malang Sujud Massal Mohon Maaf Tragedi Kanjuruhan, Mirip Etiket Dogeza di Jepang?  https://t.co/PrvOvPCCcg #TempoNasional\n",
      "1579986726139080704 2022-10-12 00:06:04 +0000 <tauberitamedia> Gas air mata kedaluarsa dalam tragedi Kanjuruhan terus disorot, pengamat nilai ada indikasi korupsi hingga kandungannya diperiksa di Laboratorium. -    https://t.co/Sso6CRheuo\n",
      "1579986600549056512 2022-10-12 00:05:34 +0000 <Furqanjurdi1>  https://t.co/9KrwxhyDJT  Ade Armando dipolisikan lantaran menyebut Aremania sok jagoan. Ucapan itu dilontarkan Ade dalam video terkait tragedi kerusuhan di Stadion Kanjuruhan.\n",
      "1579986228119625728 2022-10-12 00:04:06 +0000 <tauberitamedia> Ade Armando dipolisikan lantaran menyebut Aremania sok jagoan. Ucapan itu dilontarkan Ade dalam video terkait tragedi kerusuhan di Stadion Kanjuruhan.  https://t.co/YeCanhkDiC\n",
      "1579986221517852672 2022-10-12 00:04:04 +0000 <BongkahI> Ini Sosok Pengganti dan Harta Kekayaannya Kapolda Jawa Timur Pengganti Irjen Nico Afinta yang Dicopot Buntut Tragedi Kanjuruhan #Kanjuruhan #kanjuruhanberduka #kapoldajatim   https://t.co/KZud4B0sRl\n",
      "1579986102781612032 2022-10-12 00:03:36 +0000 <KompasTV> Dua Tersangka Tragedi Kanjuruhan Ketua Panpel Arema dan Security Officer Diperiksa 12 Jam  https://t.co/RqGJJKKXcp  https://t.co/KGLQTu7oKg\n",
      "1579985726661603329 2022-10-12 00:02:06 +0000 <lawjusticeco> Gas Air Mata Sebab Tragedi Kanjuruhan, Said Didu Sebut Malaikat Maut   https://t.co/QkhlGYJd0O  https://t.co/VGvz1jsqbq\n",
      "1579985706457264128 2022-10-12 00:02:01 +0000 <Popularitascom> Ade Armando dipolisikan terkait Tragedi Kanjuruhan   #Arema #AdeArmando #Kanjuruhan #popularitascom  https://t.co/s73tHQEiRp\n",
      "1579985557081366529 2022-10-12 00:01:26 +0000 <doelsmiths> 11 HARI DALAM PERAWATAN. sebuah catatan buat teman teman penyintas tragedi kanjuruhan dan keluarga.  Ketika sampai dirumah pasien usahakan banyak di ajak ngobrol ,jangan biarkan sendirian. atur jadwal istirahatnya. bila ada yg besuk hindari obrolan kejadian .\n",
      "1579985355486347264 2022-10-12 00:00:38 +0000 <MSNindonesia> Polisi dalam Tragedi Kanjuruhan: Sujud Minta Maaf di Malang, Pembelaan di Jakarta  https://t.co/latV28ibqk\n",
      "1579985315401375744 2022-10-12 00:00:28 +0000 <mochsirodjuddin> Aamiin, Aamiin, aamiin ya Allah ya rabbal allamin... Usut tuntas tragedi Kanjuruhan\n",
      "1579985239929106433 2022-10-12 00:00:10 +0000 <aksesdisini_com> Tersangka Tragedi Kanjuruhan Berdalih Ada Penambahan Tiket  https://t.co/3TaMZKvmVK\n",
      "1579985230529978368 2022-10-12 00:00:08 +0000 <tempodotco> Korban Meninggal dalam Tragedi Kanjuruhan Bertambah Satu, Total 132 Orang  https://t.co/4Uqm8BJriJ #TempoNasional\n",
      "1579985151936765953 2022-10-11 23:59:49 +0000 <NurbainiRatna> @geloraco Ya Allah....... Pantesan.... Bny warga yg meninggal di Tragedi Kanjuruhan....😭😭😭\n",
      "1579984861624143877 2022-10-11 23:58:40 +0000 <JakMasseur> @CNNIndonesia Kenapa Kasus Sambo &amp; Tragedi Kanjuruhan terjadi &amp; Tuhan Izinkan ? Karena selain penguasa &amp; Aparat yg Arogan,Rakyatnya pun memang sudah terpecah akibat fitnah yg sengaja disebarkan,demi kekuasaan agar tetap aman. Jika Kasus Sambo ibarat SP 1,&amp; Kanjuruhan SP2,bersiaplah tuk Bahagia\n",
      "1579984825125318656 2022-10-11 23:58:31 +0000 <officialntv_> #TragediKanjuruhan  Sanksi FIFA Tahun 2015 Silam Tak Terulang Kembali   https://t.co/ul2pbbkxhq  #sepakbola #SanksiFIFA #Kanjuruhan #KanjuruhanStadium #rusuh #gasairmata #supporters #aremaniaberduka #UsutTuntasTragediKanjuruhan #UsutTuntas #Bola\n",
      "1579984811808038914 2022-10-11 23:58:28 +0000 <Tribun_Bogor> Bukti Penting Tragedi Kanjuruhan Kini Dipegang Komnas HAM, Ada Video Kunci Berisi Penyebab Kericuhan    https://t.co/wLpDzY3F2x lewat @tribunnews\n",
      "1579984451622166528 2022-10-11 23:57:02 +0000 <bb_sports_id> Sekjen PSSI: Pemberhentian Kompetisi Tidak Termasuk Level Grassroot  https://t.co/bUg1odqvMp baca juga berita dari media lainnya di Indonesia di  https://t.co/GkwQxRUMd1   #kompetisigrassroot #ligausiamuda #pssi #sekjenpssi #yunusnusi #tragedikanjuruhan\n",
      "1579984201281310721 2022-10-11 23:56:02 +0000 <tauberitamedia> Polisi di Kota Malang sujud minta maaf terkait Tragedi Kanjuruhan. Namun, mereka juga membela diri di Jakarta.   https://t.co/a94JsABY6g\n",
      "1579984100668362752 2022-10-11 23:55:38 +0000 <floresterkini> Tragedi Kanjuruhan: Pemerintah Indonesia Waspadai Sanksi FIFA, Memori 2015 Bakal Terulang?  https://t.co/G9YICatyns\n"
     ]
    }
   ],
   "source": [
    "c = twint.Config()\n",
    "c.Search = 'tragedi kanjuruhan'\n",
    "c.Pandas = True\n",
    "c.Limit = 80\n",
    "c.Store_csv = True\n",
    "c.Custom[\"tweet\"] = [\"tweet\"]\n",
    "c.Output = \"dataKanjuruhan.csv\"\n",
    "twint.run.Search(c)"
   ]
  },
  {
   "cell_type": "code",
   "execution_count": 18,
   "metadata": {
    "colab": {
     "base_uri": "https://localhost:8080/",
     "height": 35
    },
    "executionInfo": {
     "elapsed": 23,
     "status": "ok",
     "timestamp": 1665535816950,
     "user": {
      "displayName": "Faridz Nur Firdausy S N 19-084",
      "userId": "00266508585162115821"
     },
     "user_tz": -420
    },
    "id": "JuTQo-gJqg0L",
    "outputId": "59046233-6ebe-46f5-8b26-29b0790134b5"
   },
   "outputs": [
    {
     "data": {
      "application/vnd.google.colaboratory.intrinsic+json": {
       "type": "string"
      },
      "text/plain": [
       "'/content/drive/MyDrive/Web Mining/webmining'"
      ]
     },
     "execution_count": 18,
     "metadata": {},
     "output_type": "execute_result"
    }
   ],
   "source": [
    "pwd"
   ]
  },
  {
   "cell_type": "markdown",
   "metadata": {
    "id": "_FT0dCLwxaSG"
   },
   "source": [
    "Membuka file **csv** "
   ]
  },
  {
   "cell_type": "code",
   "execution_count": 21,
   "metadata": {
    "colab": {
     "base_uri": "https://localhost:8080/",
     "height": 424
    },
    "executionInfo": {
     "elapsed": 14,
     "status": "ok",
     "timestamp": 1665535957298,
     "user": {
      "displayName": "Faridz Nur Firdausy S N 19-084",
      "userId": "00266508585162115821"
     },
     "user_tz": -420
    },
    "id": "rpXrcutFqEhM",
    "outputId": "5cc388c2-553c-4d0a-c7da-0237586a8795"
   },
   "outputs": [
    {
     "data": {
      "text/html": [
       "\n",
       "  <div id=\"df-70c72861-0b32-4bbc-99d3-5ebe37bbe23a\">\n",
       "    <div class=\"colab-df-container\">\n",
       "      <div>\n",
       "<style scoped>\n",
       "    .dataframe tbody tr th:only-of-type {\n",
       "        vertical-align: middle;\n",
       "    }\n",
       "\n",
       "    .dataframe tbody tr th {\n",
       "        vertical-align: top;\n",
       "    }\n",
       "\n",
       "    .dataframe thead th {\n",
       "        text-align: right;\n",
       "    }\n",
       "</style>\n",
       "<table border=\"1\" class=\"dataframe\">\n",
       "  <thead>\n",
       "    <tr style=\"text-align: right;\">\n",
       "      <th></th>\n",
       "      <th>tweet</th>\n",
       "    </tr>\n",
       "  </thead>\n",
       "  <tbody>\n",
       "    <tr>\n",
       "      <th>0</th>\n",
       "      <td>Effect Tragedi Kanjuruhan   Effect tragedi kan...</td>\n",
       "    </tr>\n",
       "    <tr>\n",
       "      <th>1</th>\n",
       "      <td>Kasus Sambo setelah Tragedi Kanjuruhan sampai ...</td>\n",
       "    </tr>\n",
       "    <tr>\n",
       "      <th>2</th>\n",
       "      <td>Komnas HAM akan menyampaikan hasil investigasi...</td>\n",
       "    </tr>\n",
       "    <tr>\n",
       "      <th>3</th>\n",
       "      <td>PSM Makassar menjadi tim yang tetap intens men...</td>\n",
       "    </tr>\n",
       "    <tr>\n",
       "      <th>4</th>\n",
       "      <td>Tiga polisi tersangka tragedi Kanjuruhan diper...</td>\n",
       "    </tr>\n",
       "    <tr>\n",
       "      <th>...</th>\n",
       "      <td>...</td>\n",
       "    </tr>\n",
       "    <tr>\n",
       "      <th>75</th>\n",
       "      <td>#TragediKanjuruhan  Sanksi FIFA Tahun 2015 Sil...</td>\n",
       "    </tr>\n",
       "    <tr>\n",
       "      <th>76</th>\n",
       "      <td>Bukti Penting Tragedi Kanjuruhan Kini Dipegang...</td>\n",
       "    </tr>\n",
       "    <tr>\n",
       "      <th>77</th>\n",
       "      <td>Sekjen PSSI: Pemberhentian Kompetisi Tidak Ter...</td>\n",
       "    </tr>\n",
       "    <tr>\n",
       "      <th>78</th>\n",
       "      <td>Polisi di Kota Malang sujud minta maaf terkait...</td>\n",
       "    </tr>\n",
       "    <tr>\n",
       "      <th>79</th>\n",
       "      <td>Tragedi Kanjuruhan: Pemerintah Indonesia Waspa...</td>\n",
       "    </tr>\n",
       "  </tbody>\n",
       "</table>\n",
       "<p>80 rows × 1 columns</p>\n",
       "</div>\n",
       "      <button class=\"colab-df-convert\" onclick=\"convertToInteractive('df-70c72861-0b32-4bbc-99d3-5ebe37bbe23a')\"\n",
       "              title=\"Convert this dataframe to an interactive table.\"\n",
       "              style=\"display:none;\">\n",
       "\n",
       "  <svg xmlns=\"http://www.w3.org/2000/svg\" height=\"24px\"viewBox=\"0 0 24 24\"\n",
       "       width=\"24px\">\n",
       "    <path d=\"M0 0h24v24H0V0z\" fill=\"none\"/>\n",
       "    <path d=\"M18.56 5.44l.94 2.06.94-2.06 2.06-.94-2.06-.94-.94-2.06-.94 2.06-2.06.94zm-11 1L8.5 8.5l.94-2.06 2.06-.94-2.06-.94L8.5 2.5l-.94 2.06-2.06.94zm10 10l.94 2.06.94-2.06 2.06-.94-2.06-.94-.94-2.06-.94 2.06-2.06.94z\"/><path d=\"M17.41 7.96l-1.37-1.37c-.4-.4-.92-.59-1.43-.59-.52 0-1.04.2-1.43.59L10.3 9.45l-7.72 7.72c-.78.78-.78 2.05 0 2.83L4 21.41c.39.39.9.59 1.41.59.51 0 1.02-.2 1.41-.59l7.78-7.78 2.81-2.81c.8-.78.8-2.07 0-2.86zM5.41 20L4 18.59l7.72-7.72 1.47 1.35L5.41 20z\"/>\n",
       "  </svg>\n",
       "      </button>\n",
       "\n",
       "  <style>\n",
       "    .colab-df-container {\n",
       "      display:flex;\n",
       "      flex-wrap:wrap;\n",
       "      gap: 12px;\n",
       "    }\n",
       "\n",
       "    .colab-df-convert {\n",
       "      background-color: #E8F0FE;\n",
       "      border: none;\n",
       "      border-radius: 50%;\n",
       "      cursor: pointer;\n",
       "      display: none;\n",
       "      fill: #1967D2;\n",
       "      height: 32px;\n",
       "      padding: 0 0 0 0;\n",
       "      width: 32px;\n",
       "    }\n",
       "\n",
       "    .colab-df-convert:hover {\n",
       "      background-color: #E2EBFA;\n",
       "      box-shadow: 0px 1px 2px rgba(60, 64, 67, 0.3), 0px 1px 3px 1px rgba(60, 64, 67, 0.15);\n",
       "      fill: #174EA6;\n",
       "    }\n",
       "\n",
       "    [theme=dark] .colab-df-convert {\n",
       "      background-color: #3B4455;\n",
       "      fill: #D2E3FC;\n",
       "    }\n",
       "\n",
       "    [theme=dark] .colab-df-convert:hover {\n",
       "      background-color: #434B5C;\n",
       "      box-shadow: 0px 1px 3px 1px rgba(0, 0, 0, 0.15);\n",
       "      filter: drop-shadow(0px 1px 2px rgba(0, 0, 0, 0.3));\n",
       "      fill: #FFFFFF;\n",
       "    }\n",
       "  </style>\n",
       "\n",
       "      <script>\n",
       "        const buttonEl =\n",
       "          document.querySelector('#df-70c72861-0b32-4bbc-99d3-5ebe37bbe23a button.colab-df-convert');\n",
       "        buttonEl.style.display =\n",
       "          google.colab.kernel.accessAllowed ? 'block' : 'none';\n",
       "\n",
       "        async function convertToInteractive(key) {\n",
       "          const element = document.querySelector('#df-70c72861-0b32-4bbc-99d3-5ebe37bbe23a');\n",
       "          const dataTable =\n",
       "            await google.colab.kernel.invokeFunction('convertToInteractive',\n",
       "                                                     [key], {});\n",
       "          if (!dataTable) return;\n",
       "\n",
       "          const docLinkHtml = 'Like what you see? Visit the ' +\n",
       "            '<a target=\"_blank\" href=https://colab.research.google.com/notebooks/data_table.ipynb>data table notebook</a>'\n",
       "            + ' to learn more about interactive tables.';\n",
       "          element.innerHTML = '';\n",
       "          dataTable['output_type'] = 'display_data';\n",
       "          await google.colab.output.renderOutput(dataTable, element);\n",
       "          const docLink = document.createElement('div');\n",
       "          docLink.innerHTML = docLinkHtml;\n",
       "          element.appendChild(docLink);\n",
       "        }\n",
       "      </script>\n",
       "    </div>\n",
       "  </div>\n"
      ],
      "text/plain": [
       "                                                tweet\n",
       "0   Effect Tragedi Kanjuruhan   Effect tragedi kan...\n",
       "1   Kasus Sambo setelah Tragedi Kanjuruhan sampai ...\n",
       "2   Komnas HAM akan menyampaikan hasil investigasi...\n",
       "3   PSM Makassar menjadi tim yang tetap intens men...\n",
       "4   Tiga polisi tersangka tragedi Kanjuruhan diper...\n",
       "..                                                ...\n",
       "75  #TragediKanjuruhan  Sanksi FIFA Tahun 2015 Sil...\n",
       "76  Bukti Penting Tragedi Kanjuruhan Kini Dipegang...\n",
       "77  Sekjen PSSI: Pemberhentian Kompetisi Tidak Ter...\n",
       "78  Polisi di Kota Malang sujud minta maaf terkait...\n",
       "79  Tragedi Kanjuruhan: Pemerintah Indonesia Waspa...\n",
       "\n",
       "[80 rows x 1 columns]"
      ]
     },
     "execution_count": 21,
     "metadata": {},
     "output_type": "execute_result"
    }
   ],
   "source": [
    "import pandas as pd\n",
    "data = pd.read_csv('dataKanjuruhan.csv')\n",
    "data"
   ]
  },
  {
   "cell_type": "markdown",
   "metadata": {
    "id": "Gu0tgxDUxnDI"
   },
   "source": [
    "### Preprocessing"
   ]
  },
  {
   "cell_type": "markdown",
   "metadata": {
    "id": "vg_wEsDFxbcI"
   },
   "source": [
    "Preprocessing adalah proses yang mengubah data mentah ke dalam bentuk yang lebih mudah dipahami. Proses ini penting dilakukan karena data mentah sering kali tidak memiliki format yang teratur. Selain itu, data mining juga tidak dapat memproses data mentah, sehingga proses ini sangat penting dilakukan untuk mempermudah proses berikutnya, yakni analisis data."
   ]
  },
  {
   "cell_type": "markdown",
   "metadata": {
    "id": "CT8PdEbvxil2"
   },
   "source": [
    "\n",
    ">**NLTK** adalah singkatan dari Natural Language Tool Kit, yaitu sebuah library yang digunakan untuk membantu kita dalam bekerja dengan teks. Library ini memudahkan kita untuk memproses teks seperti melakukan classification, tokenization, stemming, tagging, parsing, dan semantic reasoning.\n",
    "\n",
    ">**Python Sastrawi** adalah pengembangan dari proyek PHP Sastrawi. Python Sastrawi merupakan library sederhana yang dapat mengubah kata berimbuhan bahasa Indonesia menjadi bentuk dasarnya. Sastrawi juga dapat diinstal melalui “pip”\n",
    "\n"
   ]
  },
  {
   "cell_type": "code",
   "execution_count": 22,
   "metadata": {
    "colab": {
     "base_uri": "https://localhost:8080/"
    },
    "executionInfo": {
     "elapsed": 7904,
     "status": "ok",
     "timestamp": 1665535983743,
     "user": {
      "displayName": "Faridz Nur Firdausy S N 19-084",
      "userId": "00266508585162115821"
     },
     "user_tz": -420
    },
    "id": "SjaeZ8jLreZe",
    "outputId": "c16e86da-3bd8-4ae8-8a89-6fda1c049c8e"
   },
   "outputs": [
    {
     "name": "stdout",
     "output_type": "stream",
     "text": [
      "Looking in indexes: https://pypi.org/simple, https://us-python.pkg.dev/colab-wheels/public/simple/\n",
      "Requirement already satisfied: nltk in /usr/local/lib/python3.7/dist-packages (3.7)\n",
      "Requirement already satisfied: joblib in /usr/local/lib/python3.7/dist-packages (from nltk) (1.2.0)\n",
      "Requirement already satisfied: tqdm in /usr/local/lib/python3.7/dist-packages (from nltk) (4.64.1)\n",
      "Requirement already satisfied: regex>=2021.8.3 in /usr/local/lib/python3.7/dist-packages (from nltk) (2022.6.2)\n",
      "Requirement already satisfied: click in /usr/local/lib/python3.7/dist-packages (from nltk) (7.1.2)\n",
      "Looking in indexes: https://pypi.org/simple, https://us-python.pkg.dev/colab-wheels/public/simple/\n",
      "Collecting Sastrawi\n",
      "  Downloading Sastrawi-1.0.1-py2.py3-none-any.whl (209 kB)\n",
      "\u001b[K     |████████████████████████████████| 209 kB 4.9 MB/s \n",
      "\u001b[?25hInstalling collected packages: Sastrawi\n",
      "Successfully installed Sastrawi-1.0.1\n"
     ]
    }
   ],
   "source": [
    "!pip install nltk\n",
    "!pip install Sastrawi"
   ]
  },
  {
   "cell_type": "markdown",
   "metadata": {
    "id": "8YJHo42px9qN"
   },
   "source": [
    "Pembuatan matriks menggunakan module pandas beserta numpy agar matriks yang dibuat sesuai dengan kebutuhan.\n",
    "\n",
    ">**Pandas** adalah sebuah library di Python yang berlisensi BSD dan open source yang menyediakan struktur data dan analisis data yang mudah digunakan. Pandas biasa digunakan untuk membuat tabel, mengubah dimensi data, mengecek data, dan lain sebagainya. Struktur data dasar pada Pandas dinamakan DataFrame, yang memudahkan kita untuk membaca sebuah file dengan banyak jenis format seperti file .txt, .csv, dan .tsv. Fitur ini akan menjadikannya table dan juga dapat mengolah suatu data dengan menggunakan operasi seperti join, distinct, group by, agregasi, dan teknik lainnya yang terdapat pada SQL.\n",
    "\n",
    ">**NumPy** merupakan singkatan dari Numerical Python. NumPy merupakan salah satu library Python yang berfungsi untuk proses komputasi numerik. NumPy memiliki kemampuan untuk membuat objek N-dimensi array. Array merupakan sekumpulan variabel yang memiliki tipe data yang sama. Kelebihan dari NumPy Array adalah dapat memudahkan operasi komputasi pada data, cocok untuk melakukan akses secara acak, dan elemen array merupakan sebuah nilai yang independen sehingga penyimpanannya dianggap sangat efisien."
   ]
  },
  {
   "cell_type": "code",
   "execution_count": 23,
   "metadata": {
    "colab": {
     "base_uri": "https://localhost:8080/"
    },
    "executionInfo": {
     "elapsed": 1441,
     "status": "ok",
     "timestamp": 1665536050942,
     "user": {
      "displayName": "Faridz Nur Firdausy S N 19-084",
      "userId": "00266508585162115821"
     },
     "user_tz": -420
    },
    "id": "aGAC_hi5rkiW",
    "outputId": "70816edc-e9bc-4eec-ba30-e34c7765f8b7"
   },
   "outputs": [
    {
     "name": "stderr",
     "output_type": "stream",
     "text": [
      "[nltk_data] Downloading package punkt to /root/nltk_data...\n",
      "[nltk_data]   Unzipping tokenizers/punkt.zip.\n"
     ]
    }
   ],
   "source": [
    "import pandas as pd\n",
    "import re\n",
    "import numpy as np\n",
    "\n",
    "import nltk\n",
    "nltk.download('punkt')\n",
    "import string\n",
    "from Sastrawi.Stemmer.StemmerFactory import StemmerFactory"
   ]
  },
  {
   "cell_type": "markdown",
   "metadata": {
    "id": "PmMDBCiWyAa1"
   },
   "source": [
    "**Function Remove Stopwords** berguna menghapus kata-kata yang tidak diperlukan dalam proses nantinya,sehingga dapat mempercepat proses VSM. Kita meenggunakan kumpulan stopword dari github yang berjumlah sekitar 700 kata. "
   ]
  },
  {
   "cell_type": "code",
   "execution_count": 24,
   "metadata": {
    "executionInfo": {
     "elapsed": 733,
     "status": "ok",
     "timestamp": 1665536055404,
     "user": {
      "displayName": "Faridz Nur Firdausy S N 19-084",
      "userId": "00266508585162115821"
     },
     "user_tz": -420
    },
    "id": "vBA3t4sPrlUH"
   },
   "outputs": [],
   "source": [
    "def remove_stopwords(text):\n",
    "    with open('/content/drive/MyDrive/Web Mining/webmining/stopwords.txt') as f:\n",
    "        stopwords = f.readlines()\n",
    "        stopwords = [x.strip() for x in stopwords]\n",
    "    \n",
    "    text = nltk.word_tokenize(text)\n",
    "    text = [word for word in text if word not in stopwords]\n",
    "                     \n",
    "    return text"
   ]
  },
  {
   "cell_type": "markdown",
   "metadata": {
    "id": "qBTwB19KyD11"
   },
   "source": [
    "**Stemming** merupakan proses mengubah kata dalam bahasa Indonesia ke akar katanya atau tidak ada kata yang berimbuhan pada awal maupun akhir kata serta tidak ada kata yang berulangan misalkan 'anak perempuan berjalan - jalan' menjadi 'anak perempuan jalan'"
   ]
  },
  {
   "cell_type": "code",
   "execution_count": 25,
   "metadata": {
    "executionInfo": {
     "elapsed": 352,
     "status": "ok",
     "timestamp": 1665536059882,
     "user": {
      "displayName": "Faridz Nur Firdausy S N 19-084",
      "userId": "00266508585162115821"
     },
     "user_tz": -420
    },
    "id": "oK4r1lnHromG"
   },
   "outputs": [],
   "source": [
    "def stemming(text):\n",
    "    factory = StemmerFactory()\n",
    "    stemmer = factory.create_stemmer()\n",
    "    \n",
    "    result = [stemmer.stem(word) for word in text]\n",
    "    \n",
    "    return result"
   ]
  },
  {
   "cell_type": "markdown",
   "metadata": {
    "id": "bVJsMW4NyGtr"
   },
   "source": [
    "**Preprocessing** terdiri dari beberapa tahapan yang terdiri dari :\n",
    "\n",
    "\n",
    "* Mengubah Text menjadi huruf kecil\n",
    "* Menghilangkan non ASCII seperti emotikon, penulisan Cina, dan sebagainya.\n",
    "* Menghilangkan mention, Url didalam Text, dan hashtag.\n",
    "* Mengubah/menghilangkan tanda baca (misalkan garis miring menjadi spasi)\n",
    "* Melakukan tokenization kata dan Penghapusan Kata yang tidak digunakan\n",
    "* Memfilter kata dari tanda baca\n",
    "* Mengubah kata dalam bahasa Indonesia ke akar katanya\n",
    "* Menghapus String kosong"
   ]
  },
  {
   "cell_type": "code",
   "execution_count": 26,
   "metadata": {
    "executionInfo": {
     "elapsed": 4,
     "status": "ok",
     "timestamp": 1665536061459,
     "user": {
      "displayName": "Faridz Nur Firdausy S N 19-084",
      "userId": "00266508585162115821"
     },
     "user_tz": -420
    },
    "id": "97LvgTDzrsBU"
   },
   "outputs": [],
   "source": [
    "def preprocessing(text):\n",
    "    #case folding\n",
    "    text = text.lower()\n",
    "\n",
    "    #remove non ASCII (emoticon, chinese word, .etc)\n",
    "    text = text.replace('\\\\t',\" \").replace('\\\\n',\" \").replace('\\\\u',\" \").replace('\\\\',\" \").replace('\\\\f',\" \").replace('\\\\r',\" \")\n",
    "\n",
    "    # remove non ASCII (emoticon, chinese word, .etc)\n",
    "    text = text.encode('ascii', 'replace').decode('ascii')\n",
    "\n",
    "    # remove mention, link, hashtag\n",
    "    text = ' '.join(re.sub(\"([@#][A-Za-z0-9]+)|(\\w+:\\/\\/\\S+)\",\" \", text).split())\n",
    "\n",
    "    #replace weird characters\n",
    "    text = text.replace('“', '\"')\n",
    "    text = text.replace('”', '\"')\n",
    "    text = text.replace('-', ' ')\n",
    "\n",
    "    #tokenization and remove stopwords\n",
    "    text = remove_stopwords(text)\n",
    "\n",
    "    #remove punctuation    \n",
    "    text = [''.join(c for c in s if c not in string.punctuation) for s in text]  \n",
    "\n",
    "    #stemming\n",
    "    text = stemming(text)\n",
    "\n",
    "    #remove empty string\n",
    "    text = list(filter(None, text))\n",
    "    return text"
   ]
  },
  {
   "cell_type": "markdown",
   "metadata": {
    "id": "-4_3ydIIyJ4M"
   },
   "source": [
    "Menyimpan data yang sudah dilakukan Preprocessing ke dalam file csv baru dan tersimpan di folder yang sama dengan file ipynb."
   ]
  },
  {
   "cell_type": "code",
   "execution_count": 28,
   "metadata": {
    "executionInfo": {
     "elapsed": 63950,
     "status": "ok",
     "timestamp": 1665536163111,
     "user": {
      "displayName": "Faridz Nur Firdausy S N 19-084",
      "userId": "00266508585162115821"
     },
     "user_tz": -420
    },
    "id": "yArnAxZxrwfN"
   },
   "outputs": [],
   "source": [
    "data['tweet'].apply(preprocessing).to_csv('hasilPreprocessingKanjuruhan.csv')"
   ]
  },
  {
   "cell_type": "code",
   "execution_count": 29,
   "metadata": {
    "colab": {
     "base_uri": "https://localhost:8080/",
     "height": 424
    },
    "executionInfo": {
     "elapsed": 657,
     "status": "ok",
     "timestamp": 1665536223513,
     "user": {
      "displayName": "Faridz Nur Firdausy S N 19-084",
      "userId": "00266508585162115821"
     },
     "user_tz": -420
    },
    "id": "ZrSM6ok7sY3b",
    "outputId": "fcfd47de-952c-4bb2-9b09-b3085ecc2543"
   },
   "outputs": [
    {
     "data": {
      "text/html": [
       "\n",
       "  <div id=\"df-465f8b5d-b78c-4157-b519-476692c77cc9\">\n",
       "    <div class=\"colab-df-container\">\n",
       "      <div>\n",
       "<style scoped>\n",
       "    .dataframe tbody tr th:only-of-type {\n",
       "        vertical-align: middle;\n",
       "    }\n",
       "\n",
       "    .dataframe tbody tr th {\n",
       "        vertical-align: top;\n",
       "    }\n",
       "\n",
       "    .dataframe thead th {\n",
       "        text-align: right;\n",
       "    }\n",
       "</style>\n",
       "<table border=\"1\" class=\"dataframe\">\n",
       "  <thead>\n",
       "    <tr style=\"text-align: right;\">\n",
       "      <th></th>\n",
       "      <th>Unnamed: 0</th>\n",
       "      <th>tweet</th>\n",
       "    </tr>\n",
       "  </thead>\n",
       "  <tbody>\n",
       "    <tr>\n",
       "      <th>0</th>\n",
       "      <td>0</td>\n",
       "      <td>['effect', 'tragedi', 'kanjuruhan', 'effect', ...</td>\n",
       "    </tr>\n",
       "    <tr>\n",
       "      <th>1</th>\n",
       "      <td>1</td>\n",
       "      <td>['sambo', 'tragedi', 'kanjuruhan', 'ya']</td>\n",
       "    </tr>\n",
       "    <tr>\n",
       "      <th>2</th>\n",
       "      <td>2</td>\n",
       "      <td>['komnas', 'ham', 'hasil', 'investigasi', 'tra...</td>\n",
       "    </tr>\n",
       "    <tr>\n",
       "      <th>3</th>\n",
       "      <td>3</td>\n",
       "      <td>['psm', 'makassar', 'tim', 'intens', 'gelar', ...</td>\n",
       "    </tr>\n",
       "    <tr>\n",
       "      <th>4</th>\n",
       "      <td>4</td>\n",
       "      <td>['polisi', 'sangka', 'tragedi', 'kanjuruhan', ...</td>\n",
       "    </tr>\n",
       "    <tr>\n",
       "      <th>...</th>\n",
       "      <td>...</td>\n",
       "      <td>...</td>\n",
       "    </tr>\n",
       "    <tr>\n",
       "      <th>75</th>\n",
       "      <td>75</td>\n",
       "      <td>['sanksi', 'fifa', '2015', 'silam', 'ulang']</td>\n",
       "    </tr>\n",
       "    <tr>\n",
       "      <th>76</th>\n",
       "      <td>76</td>\n",
       "      <td>['bukti', 'tragedi', 'kanjuruhan', 'pegang', '...</td>\n",
       "    </tr>\n",
       "    <tr>\n",
       "      <th>77</th>\n",
       "      <td>77</td>\n",
       "      <td>['sekjen', 'pssi', 'henti', 'kompetisi', 'leve...</td>\n",
       "    </tr>\n",
       "    <tr>\n",
       "      <th>78</th>\n",
       "      <td>78</td>\n",
       "      <td>['polisi', 'kota', 'malang', 'sujud', 'maaf', ...</td>\n",
       "    </tr>\n",
       "    <tr>\n",
       "      <th>79</th>\n",
       "      <td>79</td>\n",
       "      <td>['tragedi', 'kanjuruhan', 'perintah', 'indones...</td>\n",
       "    </tr>\n",
       "  </tbody>\n",
       "</table>\n",
       "<p>80 rows × 2 columns</p>\n",
       "</div>\n",
       "      <button class=\"colab-df-convert\" onclick=\"convertToInteractive('df-465f8b5d-b78c-4157-b519-476692c77cc9')\"\n",
       "              title=\"Convert this dataframe to an interactive table.\"\n",
       "              style=\"display:none;\">\n",
       "\n",
       "  <svg xmlns=\"http://www.w3.org/2000/svg\" height=\"24px\"viewBox=\"0 0 24 24\"\n",
       "       width=\"24px\">\n",
       "    <path d=\"M0 0h24v24H0V0z\" fill=\"none\"/>\n",
       "    <path d=\"M18.56 5.44l.94 2.06.94-2.06 2.06-.94-2.06-.94-.94-2.06-.94 2.06-2.06.94zm-11 1L8.5 8.5l.94-2.06 2.06-.94-2.06-.94L8.5 2.5l-.94 2.06-2.06.94zm10 10l.94 2.06.94-2.06 2.06-.94-2.06-.94-.94-2.06-.94 2.06-2.06.94z\"/><path d=\"M17.41 7.96l-1.37-1.37c-.4-.4-.92-.59-1.43-.59-.52 0-1.04.2-1.43.59L10.3 9.45l-7.72 7.72c-.78.78-.78 2.05 0 2.83L4 21.41c.39.39.9.59 1.41.59.51 0 1.02-.2 1.41-.59l7.78-7.78 2.81-2.81c.8-.78.8-2.07 0-2.86zM5.41 20L4 18.59l7.72-7.72 1.47 1.35L5.41 20z\"/>\n",
       "  </svg>\n",
       "      </button>\n",
       "\n",
       "  <style>\n",
       "    .colab-df-container {\n",
       "      display:flex;\n",
       "      flex-wrap:wrap;\n",
       "      gap: 12px;\n",
       "    }\n",
       "\n",
       "    .colab-df-convert {\n",
       "      background-color: #E8F0FE;\n",
       "      border: none;\n",
       "      border-radius: 50%;\n",
       "      cursor: pointer;\n",
       "      display: none;\n",
       "      fill: #1967D2;\n",
       "      height: 32px;\n",
       "      padding: 0 0 0 0;\n",
       "      width: 32px;\n",
       "    }\n",
       "\n",
       "    .colab-df-convert:hover {\n",
       "      background-color: #E2EBFA;\n",
       "      box-shadow: 0px 1px 2px rgba(60, 64, 67, 0.3), 0px 1px 3px 1px rgba(60, 64, 67, 0.15);\n",
       "      fill: #174EA6;\n",
       "    }\n",
       "\n",
       "    [theme=dark] .colab-df-convert {\n",
       "      background-color: #3B4455;\n",
       "      fill: #D2E3FC;\n",
       "    }\n",
       "\n",
       "    [theme=dark] .colab-df-convert:hover {\n",
       "      background-color: #434B5C;\n",
       "      box-shadow: 0px 1px 3px 1px rgba(0, 0, 0, 0.15);\n",
       "      filter: drop-shadow(0px 1px 2px rgba(0, 0, 0, 0.3));\n",
       "      fill: #FFFFFF;\n",
       "    }\n",
       "  </style>\n",
       "\n",
       "      <script>\n",
       "        const buttonEl =\n",
       "          document.querySelector('#df-465f8b5d-b78c-4157-b519-476692c77cc9 button.colab-df-convert');\n",
       "        buttonEl.style.display =\n",
       "          google.colab.kernel.accessAllowed ? 'block' : 'none';\n",
       "\n",
       "        async function convertToInteractive(key) {\n",
       "          const element = document.querySelector('#df-465f8b5d-b78c-4157-b519-476692c77cc9');\n",
       "          const dataTable =\n",
       "            await google.colab.kernel.invokeFunction('convertToInteractive',\n",
       "                                                     [key], {});\n",
       "          if (!dataTable) return;\n",
       "\n",
       "          const docLinkHtml = 'Like what you see? Visit the ' +\n",
       "            '<a target=\"_blank\" href=https://colab.research.google.com/notebooks/data_table.ipynb>data table notebook</a>'\n",
       "            + ' to learn more about interactive tables.';\n",
       "          element.innerHTML = '';\n",
       "          dataTable['output_type'] = 'display_data';\n",
       "          await google.colab.output.renderOutput(dataTable, element);\n",
       "          const docLink = document.createElement('div');\n",
       "          docLink.innerHTML = docLinkHtml;\n",
       "          element.appendChild(docLink);\n",
       "        }\n",
       "      </script>\n",
       "    </div>\n",
       "  </div>\n"
      ],
      "text/plain": [
       "    Unnamed: 0                                              tweet\n",
       "0            0  ['effect', 'tragedi', 'kanjuruhan', 'effect', ...\n",
       "1            1           ['sambo', 'tragedi', 'kanjuruhan', 'ya']\n",
       "2            2  ['komnas', 'ham', 'hasil', 'investigasi', 'tra...\n",
       "3            3  ['psm', 'makassar', 'tim', 'intens', 'gelar', ...\n",
       "4            4  ['polisi', 'sangka', 'tragedi', 'kanjuruhan', ...\n",
       "..         ...                                                ...\n",
       "75          75       ['sanksi', 'fifa', '2015', 'silam', 'ulang']\n",
       "76          76  ['bukti', 'tragedi', 'kanjuruhan', 'pegang', '...\n",
       "77          77  ['sekjen', 'pssi', 'henti', 'kompetisi', 'leve...\n",
       "78          78  ['polisi', 'kota', 'malang', 'sujud', 'maaf', ...\n",
       "79          79  ['tragedi', 'kanjuruhan', 'perintah', 'indones...\n",
       "\n",
       "[80 rows x 2 columns]"
      ]
     },
     "execution_count": 29,
     "metadata": {},
     "output_type": "execute_result"
    }
   ],
   "source": [
    "dataPre = pd.read_csv('hasilPreprocessingKanjuruhan.csv')\n",
    "dataPre"
   ]
  },
  {
   "cell_type": "markdown",
   "metadata": {
    "id": "MaMTr8yLyRXH"
   },
   "source": [
    "### Vector Space Model (VSM)"
   ]
  },
  {
   "cell_type": "markdown",
   "metadata": {
    "id": "dYaUdbzYyNlv"
   },
   "source": [
    "Vector Space Model (VSM) merupakan sebuah pendekatan natural yang berbasis pada vektor dari setiap kata dalam suatu dimensi spasial. Dokumen dipandang sebagai sebuah vektor yang memiliki magnitude (jarak) dan direction (arah). Pada VSM, sebuah kata direpresentasikan dengan sebuah dimensi dari ruang vektor. Relevansi sebuah dokumen ke sebuah kueri didasarkan pada similaritas diantara vektor dokumen dan vektor kueri."
   ]
  },
  {
   "cell_type": "markdown",
   "metadata": {
    "id": "5m4kZ9ulyaG_"
   },
   "source": [
    "Import modul untuk membuat Vector Space Model dari library Sklearn, serta import data hasil preprocessing"
   ]
  },
  {
   "cell_type": "code",
   "execution_count": 30,
   "metadata": {
    "executionInfo": {
     "elapsed": 4,
     "status": "ok",
     "timestamp": 1665536254219,
     "user": {
      "displayName": "Faridz Nur Firdausy S N 19-084",
      "userId": "00266508585162115821"
     },
     "user_tz": -420
    },
    "id": "bvNIscFVshPW"
   },
   "outputs": [],
   "source": [
    "from sklearn.feature_extraction.text import TfidfTransformer, TfidfVectorizer, CountVectorizer\n",
    "dataTextPre = pd.read_csv('/content/drive/MyDrive/Web Mining/webmining/hasilPreprocessingKanjuruhan.csv')\n",
    "vectorizer = CountVectorizer(min_df=1)\n",
    "bag = vectorizer.fit_transform(dataTextPre['tweet'])"
   ]
  },
  {
   "cell_type": "markdown",
   "metadata": {
    "id": "yhZIktzRybJY"
   },
   "source": [
    "Membuat matriks menjadi matriks array dan dilakukan shape pada matriks yang sudah dibuat "
   ]
  },
  {
   "cell_type": "code",
   "execution_count": 31,
   "metadata": {
    "colab": {
     "base_uri": "https://localhost:8080/"
    },
    "executionInfo": {
     "elapsed": 5,
     "status": "ok",
     "timestamp": 1665536294333,
     "user": {
      "displayName": "Faridz Nur Firdausy S N 19-084",
      "userId": "00266508585162115821"
     },
     "user_tz": -420
    },
    "id": "RO6hmStQsoFY",
    "outputId": "9a5361c0-bc43-41dd-dafd-687961e5befd"
   },
   "outputs": [
    {
     "data": {
      "text/plain": [
       "(80, 461)"
      ]
     },
     "execution_count": 31,
     "metadata": {},
     "output_type": "execute_result"
    }
   ],
   "source": [
    "matrik_vsm = bag.toarray()\n",
    "matrik_vsm.shape"
   ]
  },
  {
   "cell_type": "code",
   "execution_count": 32,
   "metadata": {
    "colab": {
     "base_uri": "https://localhost:8080/"
    },
    "executionInfo": {
     "elapsed": 3,
     "status": "ok",
     "timestamp": 1665536295154,
     "user": {
      "displayName": "Faridz Nur Firdausy S N 19-084",
      "userId": "00266508585162115821"
     },
     "user_tz": -420
    },
    "id": "z-C6YE5AsovC",
    "outputId": "464fd3c6-4c03-44e4-ee04-4cf03f7c3580"
   },
   "outputs": [
    {
     "data": {
      "text/plain": [
       "array([0, 0, 0, 0, 0, 0, 0, 0, 0, 0, 0, 0, 0, 0, 0, 0, 0, 0, 0, 0, 0, 0,\n",
       "       0, 0, 0, 0, 0, 0, 0, 0, 0, 0, 0, 0, 0, 1, 0, 0, 0, 0, 0, 0, 0, 0,\n",
       "       0, 0, 0, 0, 0, 0, 0, 0, 0, 0, 0, 0, 0, 0, 0, 0, 0, 0, 0, 0, 0, 0,\n",
       "       0, 0, 0, 0, 0, 0, 0, 0, 0, 1, 0, 0, 0, 0, 0, 0, 0, 0, 0, 0, 0, 0,\n",
       "       0, 0, 0, 0, 0, 0, 0, 0, 0, 0, 0, 0, 0, 0, 0, 0, 0, 0, 2, 0, 0, 0,\n",
       "       0, 0, 0, 0, 0, 0, 0, 0, 0, 0, 0, 0, 0, 0, 0, 0, 0, 0, 0, 0, 0, 0,\n",
       "       0, 0, 0, 0, 0, 0, 0, 0, 0, 0, 0, 0, 0, 0, 0, 0, 0, 0, 0, 0, 0, 0,\n",
       "       0, 0, 0, 0, 0, 0, 0, 0, 0, 0, 0, 0, 0, 0, 0, 0, 1, 0, 0, 0, 0, 0,\n",
       "       0, 0, 0, 0, 0, 0, 0, 0, 2, 0, 0, 0, 0, 0, 0, 1, 0, 0, 0, 0, 0, 0,\n",
       "       0, 0, 0, 0, 0, 0, 0, 0, 0, 0, 0, 0, 0, 0, 1, 0, 0, 0, 0, 0, 0, 0,\n",
       "       0, 0, 0, 1, 0, 0, 0, 0, 0, 0, 0, 0, 0, 0, 0, 0, 0, 0, 0, 0, 0, 0,\n",
       "       0, 0, 0, 0, 0, 0, 0, 0, 0, 0, 0, 0, 0, 0, 0, 0, 0, 0, 0, 0, 0, 0,\n",
       "       0, 0, 0, 0, 0, 0, 0, 0, 0, 0, 0, 0, 0, 0, 0, 0, 0, 0, 0, 0, 0, 0,\n",
       "       0, 0, 0, 0, 0, 0, 0, 0, 0, 0, 0, 0, 0, 0, 0, 0, 0, 0, 0, 1, 0, 0,\n",
       "       0, 0, 0, 0, 0, 0, 0, 1, 0, 0, 0, 0, 0, 0, 0, 0, 0, 0, 0, 0, 0, 0,\n",
       "       0, 0, 0, 0, 0, 0, 0, 0, 0, 0, 0, 0, 0, 0, 0, 0, 0, 0, 0, 0, 0, 1,\n",
       "       0, 0, 0, 0, 0, 0, 0, 0, 0, 0, 0, 0, 0, 0, 0, 0, 0, 0, 0, 0, 0, 0,\n",
       "       0, 0, 0, 0, 0, 0, 0, 0, 0, 0, 0, 0, 0, 0, 0, 0, 0, 0, 0, 0, 0, 1,\n",
       "       0, 0, 0, 0, 0, 0, 0, 0, 0, 0, 0, 0, 0, 0, 0, 0, 0, 0, 0, 0, 0, 0,\n",
       "       0, 0, 0, 0, 0, 0, 0, 2, 0, 0, 0, 0, 0, 0, 0, 0, 0, 0, 0, 0, 0, 0,\n",
       "       0, 0, 0, 0, 0, 0, 0, 0, 0, 0, 0, 0, 0, 0, 0, 0, 0, 0, 0, 0, 0])"
      ]
     },
     "execution_count": 32,
     "metadata": {},
     "output_type": "execute_result"
    }
   ],
   "source": [
    "matrik_vsm[0]"
   ]
  },
  {
   "cell_type": "markdown",
   "metadata": {
    "id": "BLYn-7-gyekf"
   },
   "source": [
    "Mengambil semua kata yang sudah di tokenizing menjadi kolom - kolom atau fitur pada matriks VSM"
   ]
  },
  {
   "cell_type": "code",
   "execution_count": 33,
   "metadata": {
    "colab": {
     "base_uri": "https://localhost:8080/"
    },
    "executionInfo": {
     "elapsed": 406,
     "status": "ok",
     "timestamp": 1665536307013,
     "user": {
      "displayName": "Faridz Nur Firdausy S N 19-084",
      "userId": "00266508585162115821"
     },
     "user_tz": -420
    },
    "id": "J-E5ieLXsw_p",
    "outputId": "19d1b744-0a1a-4fc1-e51b-ba5876fb61eb"
   },
   "outputs": [
    {
     "name": "stderr",
     "output_type": "stream",
     "text": [
      "/usr/local/lib/python3.7/dist-packages/sklearn/utils/deprecation.py:87: FutureWarning: Function get_feature_names is deprecated; get_feature_names is deprecated in 1.0 and will be removed in 1.2. Please use get_feature_names_out instead.\n",
      "  warnings.warn(msg, category=FutureWarning)\n"
     ]
    }
   ],
   "source": [
    "a = vectorizer.get_feature_names()"
   ]
  },
  {
   "cell_type": "markdown",
   "metadata": {
    "id": "CiU2ONnwyhVC"
   },
   "source": [
    "Menampilkan Matriks VSM yang sduah dihitung frekuensi kemunculan term pada setiap tweet atau dokumen."
   ]
  },
  {
   "cell_type": "code",
   "execution_count": 34,
   "metadata": {
    "colab": {
     "base_uri": "https://localhost:8080/",
     "height": 488
    },
    "executionInfo": {
     "elapsed": 9,
     "status": "ok",
     "timestamp": 1665536317640,
     "user": {
      "displayName": "Faridz Nur Firdausy S N 19-084",
      "userId": "00266508585162115821"
     },
     "user_tz": -420
    },
    "id": "Yg2oVVEKszg2",
    "outputId": "d3a86538-9457-4a21-d2b8-b2ff9be8f0c9"
   },
   "outputs": [
    {
     "data": {
      "text/html": [
       "\n",
       "  <div id=\"df-4a3a9d7b-ab99-4b92-88d2-18d6d5977d43\">\n",
       "    <div class=\"colab-df-container\">\n",
       "      <div>\n",
       "<style scoped>\n",
       "    .dataframe tbody tr th:only-of-type {\n",
       "        vertical-align: middle;\n",
       "    }\n",
       "\n",
       "    .dataframe tbody tr th {\n",
       "        vertical-align: top;\n",
       "    }\n",
       "\n",
       "    .dataframe thead tr th {\n",
       "        text-align: left;\n",
       "    }\n",
       "</style>\n",
       "<table border=\"1\" class=\"dataframe\">\n",
       "  <thead>\n",
       "    <tr>\n",
       "      <th></th>\n",
       "      <th>11</th>\n",
       "      <th>11102022</th>\n",
       "      <th>12</th>\n",
       "      <th>12102022</th>\n",
       "      <th>132</th>\n",
       "      <th>1410</th>\n",
       "      <th>19</th>\n",
       "      <th>20</th>\n",
       "      <th>2015</th>\n",
       "      <th>50</th>\n",
       "      <th>...</th>\n",
       "      <th>viral</th>\n",
       "      <th>vs</th>\n",
       "      <th>wanita</th>\n",
       "      <th>warga</th>\n",
       "      <th>waspada</th>\n",
       "      <th>ws</th>\n",
       "      <th>ya</th>\n",
       "      <th>yg</th>\n",
       "      <th>zainul</th>\n",
       "      <th>zurich</th>\n",
       "    </tr>\n",
       "  </thead>\n",
       "  <tbody>\n",
       "    <tr>\n",
       "      <th>1</th>\n",
       "      <td>0</td>\n",
       "      <td>0</td>\n",
       "      <td>0</td>\n",
       "      <td>0</td>\n",
       "      <td>0</td>\n",
       "      <td>0</td>\n",
       "      <td>0</td>\n",
       "      <td>0</td>\n",
       "      <td>0</td>\n",
       "      <td>0</td>\n",
       "      <td>...</td>\n",
       "      <td>0</td>\n",
       "      <td>0</td>\n",
       "      <td>0</td>\n",
       "      <td>0</td>\n",
       "      <td>0</td>\n",
       "      <td>0</td>\n",
       "      <td>0</td>\n",
       "      <td>0</td>\n",
       "      <td>0</td>\n",
       "      <td>0</td>\n",
       "    </tr>\n",
       "    <tr>\n",
       "      <th>2</th>\n",
       "      <td>0</td>\n",
       "      <td>0</td>\n",
       "      <td>0</td>\n",
       "      <td>0</td>\n",
       "      <td>0</td>\n",
       "      <td>0</td>\n",
       "      <td>0</td>\n",
       "      <td>0</td>\n",
       "      <td>0</td>\n",
       "      <td>0</td>\n",
       "      <td>...</td>\n",
       "      <td>0</td>\n",
       "      <td>0</td>\n",
       "      <td>0</td>\n",
       "      <td>0</td>\n",
       "      <td>0</td>\n",
       "      <td>0</td>\n",
       "      <td>1</td>\n",
       "      <td>0</td>\n",
       "      <td>0</td>\n",
       "      <td>0</td>\n",
       "    </tr>\n",
       "    <tr>\n",
       "      <th>3</th>\n",
       "      <td>0</td>\n",
       "      <td>0</td>\n",
       "      <td>0</td>\n",
       "      <td>1</td>\n",
       "      <td>0</td>\n",
       "      <td>0</td>\n",
       "      <td>0</td>\n",
       "      <td>0</td>\n",
       "      <td>0</td>\n",
       "      <td>0</td>\n",
       "      <td>...</td>\n",
       "      <td>0</td>\n",
       "      <td>0</td>\n",
       "      <td>0</td>\n",
       "      <td>0</td>\n",
       "      <td>0</td>\n",
       "      <td>0</td>\n",
       "      <td>0</td>\n",
       "      <td>0</td>\n",
       "      <td>0</td>\n",
       "      <td>0</td>\n",
       "    </tr>\n",
       "    <tr>\n",
       "      <th>4</th>\n",
       "      <td>0</td>\n",
       "      <td>0</td>\n",
       "      <td>0</td>\n",
       "      <td>0</td>\n",
       "      <td>0</td>\n",
       "      <td>0</td>\n",
       "      <td>0</td>\n",
       "      <td>0</td>\n",
       "      <td>0</td>\n",
       "      <td>0</td>\n",
       "      <td>...</td>\n",
       "      <td>0</td>\n",
       "      <td>0</td>\n",
       "      <td>0</td>\n",
       "      <td>0</td>\n",
       "      <td>0</td>\n",
       "      <td>0</td>\n",
       "      <td>0</td>\n",
       "      <td>0</td>\n",
       "      <td>0</td>\n",
       "      <td>0</td>\n",
       "    </tr>\n",
       "    <tr>\n",
       "      <th>5</th>\n",
       "      <td>0</td>\n",
       "      <td>0</td>\n",
       "      <td>0</td>\n",
       "      <td>0</td>\n",
       "      <td>0</td>\n",
       "      <td>0</td>\n",
       "      <td>0</td>\n",
       "      <td>0</td>\n",
       "      <td>0</td>\n",
       "      <td>0</td>\n",
       "      <td>...</td>\n",
       "      <td>0</td>\n",
       "      <td>0</td>\n",
       "      <td>0</td>\n",
       "      <td>0</td>\n",
       "      <td>0</td>\n",
       "      <td>0</td>\n",
       "      <td>0</td>\n",
       "      <td>0</td>\n",
       "      <td>0</td>\n",
       "      <td>0</td>\n",
       "    </tr>\n",
       "    <tr>\n",
       "      <th>...</th>\n",
       "      <td>...</td>\n",
       "      <td>...</td>\n",
       "      <td>...</td>\n",
       "      <td>...</td>\n",
       "      <td>...</td>\n",
       "      <td>...</td>\n",
       "      <td>...</td>\n",
       "      <td>...</td>\n",
       "      <td>...</td>\n",
       "      <td>...</td>\n",
       "      <td>...</td>\n",
       "      <td>...</td>\n",
       "      <td>...</td>\n",
       "      <td>...</td>\n",
       "      <td>...</td>\n",
       "      <td>...</td>\n",
       "      <td>...</td>\n",
       "      <td>...</td>\n",
       "      <td>...</td>\n",
       "      <td>...</td>\n",
       "      <td>...</td>\n",
       "    </tr>\n",
       "    <tr>\n",
       "      <th>76</th>\n",
       "      <td>0</td>\n",
       "      <td>0</td>\n",
       "      <td>0</td>\n",
       "      <td>0</td>\n",
       "      <td>0</td>\n",
       "      <td>0</td>\n",
       "      <td>0</td>\n",
       "      <td>0</td>\n",
       "      <td>1</td>\n",
       "      <td>0</td>\n",
       "      <td>...</td>\n",
       "      <td>0</td>\n",
       "      <td>0</td>\n",
       "      <td>0</td>\n",
       "      <td>0</td>\n",
       "      <td>0</td>\n",
       "      <td>0</td>\n",
       "      <td>0</td>\n",
       "      <td>0</td>\n",
       "      <td>0</td>\n",
       "      <td>0</td>\n",
       "    </tr>\n",
       "    <tr>\n",
       "      <th>77</th>\n",
       "      <td>0</td>\n",
       "      <td>0</td>\n",
       "      <td>0</td>\n",
       "      <td>0</td>\n",
       "      <td>0</td>\n",
       "      <td>0</td>\n",
       "      <td>0</td>\n",
       "      <td>0</td>\n",
       "      <td>0</td>\n",
       "      <td>0</td>\n",
       "      <td>...</td>\n",
       "      <td>0</td>\n",
       "      <td>0</td>\n",
       "      <td>0</td>\n",
       "      <td>0</td>\n",
       "      <td>0</td>\n",
       "      <td>0</td>\n",
       "      <td>0</td>\n",
       "      <td>0</td>\n",
       "      <td>0</td>\n",
       "      <td>0</td>\n",
       "    </tr>\n",
       "    <tr>\n",
       "      <th>78</th>\n",
       "      <td>0</td>\n",
       "      <td>0</td>\n",
       "      <td>0</td>\n",
       "      <td>0</td>\n",
       "      <td>0</td>\n",
       "      <td>0</td>\n",
       "      <td>0</td>\n",
       "      <td>0</td>\n",
       "      <td>0</td>\n",
       "      <td>0</td>\n",
       "      <td>...</td>\n",
       "      <td>0</td>\n",
       "      <td>0</td>\n",
       "      <td>0</td>\n",
       "      <td>0</td>\n",
       "      <td>0</td>\n",
       "      <td>0</td>\n",
       "      <td>0</td>\n",
       "      <td>0</td>\n",
       "      <td>0</td>\n",
       "      <td>0</td>\n",
       "    </tr>\n",
       "    <tr>\n",
       "      <th>79</th>\n",
       "      <td>0</td>\n",
       "      <td>0</td>\n",
       "      <td>0</td>\n",
       "      <td>0</td>\n",
       "      <td>0</td>\n",
       "      <td>0</td>\n",
       "      <td>0</td>\n",
       "      <td>0</td>\n",
       "      <td>0</td>\n",
       "      <td>0</td>\n",
       "      <td>...</td>\n",
       "      <td>0</td>\n",
       "      <td>0</td>\n",
       "      <td>0</td>\n",
       "      <td>0</td>\n",
       "      <td>0</td>\n",
       "      <td>0</td>\n",
       "      <td>0</td>\n",
       "      <td>0</td>\n",
       "      <td>0</td>\n",
       "      <td>0</td>\n",
       "    </tr>\n",
       "    <tr>\n",
       "      <th>80</th>\n",
       "      <td>0</td>\n",
       "      <td>0</td>\n",
       "      <td>0</td>\n",
       "      <td>0</td>\n",
       "      <td>0</td>\n",
       "      <td>0</td>\n",
       "      <td>0</td>\n",
       "      <td>0</td>\n",
       "      <td>1</td>\n",
       "      <td>0</td>\n",
       "      <td>...</td>\n",
       "      <td>0</td>\n",
       "      <td>0</td>\n",
       "      <td>0</td>\n",
       "      <td>0</td>\n",
       "      <td>1</td>\n",
       "      <td>0</td>\n",
       "      <td>0</td>\n",
       "      <td>0</td>\n",
       "      <td>0</td>\n",
       "      <td>0</td>\n",
       "    </tr>\n",
       "  </tbody>\n",
       "</table>\n",
       "<p>80 rows × 461 columns</p>\n",
       "</div>\n",
       "      <button class=\"colab-df-convert\" onclick=\"convertToInteractive('df-4a3a9d7b-ab99-4b92-88d2-18d6d5977d43')\"\n",
       "              title=\"Convert this dataframe to an interactive table.\"\n",
       "              style=\"display:none;\">\n",
       "\n",
       "  <svg xmlns=\"http://www.w3.org/2000/svg\" height=\"24px\"viewBox=\"0 0 24 24\"\n",
       "       width=\"24px\">\n",
       "    <path d=\"M0 0h24v24H0V0z\" fill=\"none\"/>\n",
       "    <path d=\"M18.56 5.44l.94 2.06.94-2.06 2.06-.94-2.06-.94-.94-2.06-.94 2.06-2.06.94zm-11 1L8.5 8.5l.94-2.06 2.06-.94-2.06-.94L8.5 2.5l-.94 2.06-2.06.94zm10 10l.94 2.06.94-2.06 2.06-.94-2.06-.94-.94-2.06-.94 2.06-2.06.94z\"/><path d=\"M17.41 7.96l-1.37-1.37c-.4-.4-.92-.59-1.43-.59-.52 0-1.04.2-1.43.59L10.3 9.45l-7.72 7.72c-.78.78-.78 2.05 0 2.83L4 21.41c.39.39.9.59 1.41.59.51 0 1.02-.2 1.41-.59l7.78-7.78 2.81-2.81c.8-.78.8-2.07 0-2.86zM5.41 20L4 18.59l7.72-7.72 1.47 1.35L5.41 20z\"/>\n",
       "  </svg>\n",
       "      </button>\n",
       "\n",
       "  <style>\n",
       "    .colab-df-container {\n",
       "      display:flex;\n",
       "      flex-wrap:wrap;\n",
       "      gap: 12px;\n",
       "    }\n",
       "\n",
       "    .colab-df-convert {\n",
       "      background-color: #E8F0FE;\n",
       "      border: none;\n",
       "      border-radius: 50%;\n",
       "      cursor: pointer;\n",
       "      display: none;\n",
       "      fill: #1967D2;\n",
       "      height: 32px;\n",
       "      padding: 0 0 0 0;\n",
       "      width: 32px;\n",
       "    }\n",
       "\n",
       "    .colab-df-convert:hover {\n",
       "      background-color: #E2EBFA;\n",
       "      box-shadow: 0px 1px 2px rgba(60, 64, 67, 0.3), 0px 1px 3px 1px rgba(60, 64, 67, 0.15);\n",
       "      fill: #174EA6;\n",
       "    }\n",
       "\n",
       "    [theme=dark] .colab-df-convert {\n",
       "      background-color: #3B4455;\n",
       "      fill: #D2E3FC;\n",
       "    }\n",
       "\n",
       "    [theme=dark] .colab-df-convert:hover {\n",
       "      background-color: #434B5C;\n",
       "      box-shadow: 0px 1px 3px 1px rgba(0, 0, 0, 0.15);\n",
       "      filter: drop-shadow(0px 1px 2px rgba(0, 0, 0, 0.3));\n",
       "      fill: #FFFFFF;\n",
       "    }\n",
       "  </style>\n",
       "\n",
       "      <script>\n",
       "        const buttonEl =\n",
       "          document.querySelector('#df-4a3a9d7b-ab99-4b92-88d2-18d6d5977d43 button.colab-df-convert');\n",
       "        buttonEl.style.display =\n",
       "          google.colab.kernel.accessAllowed ? 'block' : 'none';\n",
       "\n",
       "        async function convertToInteractive(key) {\n",
       "          const element = document.querySelector('#df-4a3a9d7b-ab99-4b92-88d2-18d6d5977d43');\n",
       "          const dataTable =\n",
       "            await google.colab.kernel.invokeFunction('convertToInteractive',\n",
       "                                                     [key], {});\n",
       "          if (!dataTable) return;\n",
       "\n",
       "          const docLinkHtml = 'Like what you see? Visit the ' +\n",
       "            '<a target=\"_blank\" href=https://colab.research.google.com/notebooks/data_table.ipynb>data table notebook</a>'\n",
       "            + ' to learn more about interactive tables.';\n",
       "          element.innerHTML = '';\n",
       "          dataTable['output_type'] = 'display_data';\n",
       "          await google.colab.output.renderOutput(dataTable, element);\n",
       "          const docLink = document.createElement('div');\n",
       "          docLink.innerHTML = docLinkHtml;\n",
       "          element.appendChild(docLink);\n",
       "        }\n",
       "      </script>\n",
       "    </div>\n",
       "  </div>\n"
      ],
      "text/plain": [
       "   11 11102022 12 12102022 132 1410 19 20 2015 50  ... viral vs wanita warga  \\\n",
       "1   0        0  0        0   0    0  0  0    0  0  ...     0  0      0     0   \n",
       "2   0        0  0        0   0    0  0  0    0  0  ...     0  0      0     0   \n",
       "3   0        0  0        1   0    0  0  0    0  0  ...     0  0      0     0   \n",
       "4   0        0  0        0   0    0  0  0    0  0  ...     0  0      0     0   \n",
       "5   0        0  0        0   0    0  0  0    0  0  ...     0  0      0     0   \n",
       ".. ..      ... ..      ...  ..  ... .. ..  ... ..  ...   ... ..    ...   ...   \n",
       "76  0        0  0        0   0    0  0  0    1  0  ...     0  0      0     0   \n",
       "77  0        0  0        0   0    0  0  0    0  0  ...     0  0      0     0   \n",
       "78  0        0  0        0   0    0  0  0    0  0  ...     0  0      0     0   \n",
       "79  0        0  0        0   0    0  0  0    0  0  ...     0  0      0     0   \n",
       "80  0        0  0        0   0    0  0  0    1  0  ...     0  0      0     0   \n",
       "\n",
       "   waspada ws ya yg zainul zurich  \n",
       "1        0  0  0  0      0      0  \n",
       "2        0  0  1  0      0      0  \n",
       "3        0  0  0  0      0      0  \n",
       "4        0  0  0  0      0      0  \n",
       "5        0  0  0  0      0      0  \n",
       "..     ... .. .. ..    ...    ...  \n",
       "76       0  0  0  0      0      0  \n",
       "77       0  0  0  0      0      0  \n",
       "78       0  0  0  0      0      0  \n",
       "79       0  0  0  0      0      0  \n",
       "80       1  0  0  0      0      0  \n",
       "\n",
       "[80 rows x 461 columns]"
      ]
     },
     "execution_count": 34,
     "metadata": {},
     "output_type": "execute_result"
    }
   ],
   "source": [
    "dataTF = pd.DataFrame(data=matrik_vsm,index=list(range(1, len(matrik_vsm[:,1])+1, )),columns=[a])\n",
    "dataTF"
   ]
  },
  {
   "cell_type": "markdown",
   "metadata": {
    "id": "56f60jjWykVP"
   },
   "source": [
    "### K MEANS\n",
    "Algoritma k-means merupakan algoritma yang membutuhkan parameter input sebanyak k dan membagi sekumpulan n objek kedalam k cluster sehingga tingkat kemiripan antar anggota dalam satu cluster tinggi sedangkan tingkat kemiripan dengan anggota pada cluster lain sangat rendah. Kemiripan anggota terhadap cluster diukur dengan kedekatan objek terhadap nilai mean pada cluster atau dapat disebut sebagai centroid cluster."
   ]
  },
  {
   "cell_type": "markdown",
   "metadata": {
    "id": "6k9sLFht4qy3"
   },
   "source": [
    "Rumus menghitung jarak terdekat digunakan formula *Ecludean* sebagai berikut :\n",
    "\n",
    "$$\n",
    "d(i,j) = \\sqrt{\\sum ^{m}_{j=1}\\left( x_{ij}-c_{kj}\\right) ^{2}}\n",
    "$$"
   ]
  },
  {
   "cell_type": "code",
   "execution_count": 44,
   "metadata": {
    "colab": {
     "base_uri": "https://localhost:8080/",
     "height": 334
    },
    "executionInfo": {
     "elapsed": 23,
     "status": "ok",
     "timestamp": 1665536492036,
     "user": {
      "displayName": "Faridz Nur Firdausy S N 19-084",
      "userId": "00266508585162115821"
     },
     "user_tz": -420
    },
    "id": "0KMzm7FEtHwp",
    "outputId": "1c409c61-0347-46e7-bf0f-d4f1ab9a095e"
   },
   "outputs": [
    {
     "name": "stdout",
     "output_type": "stream",
     "text": [
      "[[ 1.26626341 -0.34800655]\n",
      " [ 1.92315208  1.86457599]\n",
      " [ 1.91587186 -0.23552551]]\n"
     ]
    },
    {
     "data": {
      "text/plain": [
       "<matplotlib.collections.PathCollection at 0x7f20588715d0>"
      ]
     },
     "execution_count": 44,
     "metadata": {},
     "output_type": "execute_result"
    },
    {
     "data": {
      "image/png": "[encoded data removed]",
      "text/plain": [
       "<Figure size 432x288 with 1 Axes>"
      ]
     },
     "metadata": {
      "filenames": {
       "image/png": "/content/drive/MyDrive/Web Mining/webmining/_build/jupyter_execute/CrawlingUTS_52_2.png"
      },
      "needs_background": "light"
     },
     "output_type": "display_data"
    }
   ],
   "source": [
    "import matplotlib.pyplot as plt\n",
    "from sklearn import metrics\n",
    "from sklearn.cluster import KMeans\n",
    "from sklearn.decomposition import PCA, TruncatedSVD\n",
    "\n",
    "\"\"\"Train the Kmeans with the best n of clusters\"\"\"\n",
    "modelKm = KMeans(n_clusters=3, random_state=12)\n",
    "modelKm.fit(dataTF.values)\n",
    "prediksi = modelKm.predict(dataTF.values)\n",
    "\n",
    "\"\"\"Dimensionality reduction used to plot in 2d representation\"\"\"\n",
    "pc=TruncatedSVD(n_components=2)\n",
    "X_new=pc.fit_transform(dataTF.values)\n",
    "centroids=pc.transform(modelKm.cluster_centers_)\n",
    "print(centroids)\n",
    "plt.scatter(X_new[:,0],X_new[:,1],c=prediksi, cmap='viridis')\n",
    "plt.scatter(centroids[:,0] , centroids[:,1] , s = 50, color = 'green')"
   ]
  },
  {
   "cell_type": "markdown",
   "metadata": {
    "id": "wZkxk15utuN4"
   },
   "source": [
    "## Soal 2"
   ]
  },
  {
   "cell_type": "code",
   "execution_count": 45,
   "metadata": {
    "colab": {
     "base_uri": "https://localhost:8080/",
     "height": 35
    },
    "executionInfo": {
     "elapsed": 9,
     "status": "ok",
     "timestamp": 1665536615954,
     "user": {
      "displayName": "Faridz Nur Firdausy S N 19-084",
      "userId": "00266508585162115821"
     },
     "user_tz": -420
    },
    "id": "wgLZE3iLt6mz",
    "outputId": "6620b788-15d1-4a2f-b3c5-e9e1207837d7"
   },
   "outputs": [
    {
     "data": {
      "application/vnd.google.colaboratory.intrinsic+json": {
       "type": "string"
      },
      "text/plain": [
       "'/content/drive/MyDrive/Web Mining/webmining'"
      ]
     },
     "execution_count": 45,
     "metadata": {},
     "output_type": "execute_result"
    }
   ],
   "source": [
    "pwd"
   ]
  },
  {
   "cell_type": "markdown",
   "metadata": {
    "id": "eAW81hnLzDSU"
   },
   "source": [
    "### Crawling berita dengan Scrapy"
   ]
  },
  {
   "cell_type": "markdown",
   "metadata": {
    "id": "dNjxGPiBysa6"
   },
   "source": [
    "Scrapy adalah kerangka kerja aplikasi untuk crawling web site dan mengekstraksi data terstruktur yang dapat digunakan untuk berbagai aplikasi yang bermanfaat, seperti data mining, pemrosesan informasi atau arsip sejarah. Meskipun Scrapy awalnya dirancang untuk web scraping, namu scrapy juga dapat digunakan untuk mengekstrak data menggunakan API (seperti Amazon Associates Web Services) atau sebagai web crawl"
   ]
  },
  {
   "cell_type": "markdown",
   "metadata": {
    "id": "5HCxdbaCyver"
   },
   "source": [
    "Crochet adalah library pyhton berlisensi MIT yang memudahkan penggunaan Twisted dari regular blocking code. Beberapa kasus penggunaan meliputi:\n",
    "*   Mudah menggunakan Twisted dari blocking framework seperti Django atau Flask.\n",
    "*   Menulis library yang menyediakan blocking API, tetapi menggunakan Twisted untuk implementasinya.\n",
    "*  Port blocking code ke Twisted lebih mudah, dengan menjaga backwards compatibility layer.\n",
    "* Izinkan program Twisted normal yang menggunakan threads untuk berinteraksi dengan Twisted lebih bagus dari threaded parts. Misalnya, sangat berguna saat menggunakan Twisted sebagai WSGI container."
   ]
  },
  {
   "cell_type": "code",
   "execution_count": 46,
   "metadata": {
    "colab": {
     "base_uri": "https://localhost:8080/"
    },
    "executionInfo": {
     "elapsed": 21508,
     "status": "ok",
     "timestamp": 1665536645625,
     "user": {
      "displayName": "Faridz Nur Firdausy S N 19-084",
      "userId": "00266508585162115821"
     },
     "user_tz": -420
    },
    "id": "09h6TpGFtxRx",
    "outputId": "62a11126-4726-4175-f9c0-f839e444701c"
   },
   "outputs": [
    {
     "name": "stdout",
     "output_type": "stream",
     "text": [
      "Looking in indexes: https://pypi.org/simple, https://us-python.pkg.dev/colab-wheels/public/simple/\n",
      "Collecting scrapy\n",
      "  Downloading Scrapy-2.6.3-py2.py3-none-any.whl (264 kB)\n",
      "\u001b[K     |████████████████████████████████| 264 kB 5.3 MB/s \n",
      "\u001b[?25hCollecting itemloaders>=1.0.1\n",
      "  Downloading itemloaders-1.0.6-py3-none-any.whl (11 kB)\n",
      "Collecting service-identity>=18.1.0\n",
      "  Downloading service_identity-21.1.0-py2.py3-none-any.whl (12 kB)\n",
      "Collecting pyOpenSSL>=21.0.0\n",
      "  Downloading pyOpenSSL-22.1.0-py3-none-any.whl (57 kB)\n",
      "\u001b[K     |████████████████████████████████| 57 kB 2.8 MB/s \n",
      "\u001b[?25hCollecting Twisted>=18.9.0\n",
      "  Downloading Twisted-22.8.0-py3-none-any.whl (3.1 MB)\n",
      "\u001b[K     |████████████████████████████████| 3.1 MB 34.0 MB/s \n",
      "\u001b[?25hCollecting queuelib>=1.4.2\n",
      "  Downloading queuelib-1.6.2-py2.py3-none-any.whl (13 kB)\n",
      "Requirement already satisfied: lxml>=3.5.0 in /usr/local/lib/python3.7/dist-packages (from scrapy) (4.9.1)\n",
      "Collecting itemadapter>=0.1.0\n",
      "  Downloading itemadapter-0.7.0-py3-none-any.whl (10 kB)\n",
      "Collecting w3lib>=1.17.0\n",
      "  Downloading w3lib-2.0.1-py3-none-any.whl (20 kB)\n",
      "Collecting cssselect>=0.9.1\n",
      "  Downloading cssselect-1.1.0-py2.py3-none-any.whl (16 kB)\n",
      "Requirement already satisfied: setuptools in /usr/local/lib/python3.7/dist-packages (from scrapy) (57.4.0)\n",
      "Collecting zope.interface>=5.0.0\n",
      "  Downloading zope.interface-5.5.0-cp37-cp37m-manylinux_2_5_x86_64.manylinux1_x86_64.manylinux_2_12_x86_64.manylinux2010_x86_64.whl (254 kB)\n",
      "\u001b[K     |████████████████████████████████| 254 kB 46.0 MB/s \n",
      "\u001b[?25hCollecting protego>=0.1.15\n",
      "  Downloading Protego-0.2.1-py2.py3-none-any.whl (8.2 kB)\n",
      "Collecting PyDispatcher>=2.0.5\n",
      "  Downloading PyDispatcher-2.0.6.tar.gz (38 kB)\n",
      "Collecting tldextract\n",
      "  Downloading tldextract-3.4.0-py3-none-any.whl (93 kB)\n",
      "\u001b[K     |████████████████████████████████| 93 kB 2.2 MB/s \n",
      "\u001b[?25hCollecting parsel>=1.5.0\n",
      "  Downloading parsel-1.6.0-py2.py3-none-any.whl (13 kB)\n",
      "Collecting cryptography>=3.3\n",
      "  Downloading cryptography-38.0.2-cp36-abi3-manylinux_2_24_x86_64.whl (4.1 MB)\n",
      "\u001b[K     |████████████████████████████████| 4.1 MB 36.1 MB/s \n",
      "\u001b[?25hRequirement already satisfied: cffi>=1.12 in /usr/local/lib/python3.7/dist-packages (from cryptography>=3.3->scrapy) (1.15.1)\n",
      "Requirement already satisfied: pycparser in /usr/local/lib/python3.7/dist-packages (from cffi>=1.12->cryptography>=3.3->scrapy) (2.21)\n",
      "Collecting jmespath>=0.9.5\n",
      "  Downloading jmespath-1.0.1-py3-none-any.whl (20 kB)\n",
      "Requirement already satisfied: six>=1.6.0 in /usr/local/lib/python3.7/dist-packages (from parsel>=1.5.0->scrapy) (1.15.0)\n",
      "Requirement already satisfied: pyasn1 in /usr/local/lib/python3.7/dist-packages (from service-identity>=18.1.0->scrapy) (0.4.8)\n",
      "Requirement already satisfied: attrs>=19.1.0 in /usr/local/lib/python3.7/dist-packages (from service-identity>=18.1.0->scrapy) (22.1.0)\n",
      "Requirement already satisfied: pyasn1-modules in /usr/local/lib/python3.7/dist-packages (from service-identity>=18.1.0->scrapy) (0.2.8)\n",
      "Collecting incremental>=21.3.0\n",
      "  Downloading incremental-21.3.0-py2.py3-none-any.whl (15 kB)\n",
      "Collecting Automat>=0.8.0\n",
      "  Downloading Automat-20.2.0-py2.py3-none-any.whl (31 kB)\n",
      "Collecting constantly>=15.1\n",
      "  Downloading constantly-15.1.0-py2.py3-none-any.whl (7.9 kB)\n",
      "Collecting hyperlink>=17.1.1\n",
      "  Downloading hyperlink-21.0.0-py2.py3-none-any.whl (74 kB)\n",
      "\u001b[K     |████████████████████████████████| 74 kB 3.2 MB/s \n",
      "\u001b[?25hRequirement already satisfied: typing-extensions>=3.6.5 in /usr/local/lib/python3.7/dist-packages (from Twisted>=18.9.0->scrapy) (4.1.1)\n",
      "Requirement already satisfied: idna>=2.5 in /usr/local/lib/python3.7/dist-packages (from hyperlink>=17.1.1->Twisted>=18.9.0->scrapy) (2.10)\n",
      "Collecting requests-file>=1.4\n",
      "  Downloading requests_file-1.5.1-py2.py3-none-any.whl (3.7 kB)\n",
      "Requirement already satisfied: requests>=2.1.0 in /usr/local/lib/python3.7/dist-packages (from tldextract->scrapy) (2.28.1)\n",
      "Requirement already satisfied: filelock>=3.0.8 in /usr/local/lib/python3.7/dist-packages (from tldextract->scrapy) (3.8.0)\n",
      "Requirement already satisfied: charset-normalizer<3,>=2 in /usr/local/lib/python3.7/dist-packages (from requests>=2.1.0->tldextract->scrapy) (2.1.1)\n",
      "Requirement already satisfied: urllib3<1.27,>=1.21.1 in /usr/local/lib/python3.7/dist-packages (from requests>=2.1.0->tldextract->scrapy) (1.26.12)\n",
      "Requirement already satisfied: certifi>=2017.4.17 in /usr/local/lib/python3.7/dist-packages (from requests>=2.1.0->tldextract->scrapy) (2022.9.24)\n",
      "Building wheels for collected packages: PyDispatcher\n",
      "  Building wheel for PyDispatcher (setup.py) ... \u001b[?25l\u001b[?25hdone\n",
      "  Created wheel for PyDispatcher: filename=PyDispatcher-2.0.6-py3-none-any.whl size=11958 sha256=1dd1772ff9742f2dcb882592c3994a2589e66b65e4648674a51e4402d54c0ee9\n",
      "  Stored in directory: /root/.cache/pip/wheels/c9/d6/6a/de198d890277cde60ca3dbebe7ae592d3b381c7d9bb2455f4d\n",
      "Successfully built PyDispatcher\n",
      "Installing collected packages: w3lib, cssselect, zope.interface, requests-file, parsel, jmespath, itemadapter, incremental, hyperlink, cryptography, constantly, Automat, Twisted, tldextract, service-identity, queuelib, pyOpenSSL, PyDispatcher, protego, itemloaders, scrapy\n",
      "Successfully installed Automat-20.2.0 PyDispatcher-2.0.6 Twisted-22.8.0 constantly-15.1.0 cryptography-38.0.2 cssselect-1.1.0 hyperlink-21.0.0 incremental-21.3.0 itemadapter-0.7.0 itemloaders-1.0.6 jmespath-1.0.1 parsel-1.6.0 protego-0.2.1 pyOpenSSL-22.1.0 queuelib-1.6.2 requests-file-1.5.1 scrapy-2.6.3 service-identity-21.1.0 tldextract-3.4.0 w3lib-2.0.1 zope.interface-5.5.0\n",
      "Looking in indexes: https://pypi.org/simple, https://us-python.pkg.dev/colab-wheels/public/simple/\n",
      "Collecting crochet\n",
      "  Downloading crochet-2.0.0-py3-none-any.whl (31 kB)\n",
      "Requirement already satisfied: Twisted>=16.0 in /usr/local/lib/python3.7/dist-packages (from crochet) (22.8.0)\n",
      "Requirement already satisfied: wrapt in /usr/local/lib/python3.7/dist-packages (from crochet) (1.14.1)\n",
      "Requirement already satisfied: incremental>=21.3.0 in /usr/local/lib/python3.7/dist-packages (from Twisted>=16.0->crochet) (21.3.0)\n",
      "Requirement already satisfied: Automat>=0.8.0 in /usr/local/lib/python3.7/dist-packages (from Twisted>=16.0->crochet) (20.2.0)\n",
      "Requirement already satisfied: constantly>=15.1 in /usr/local/lib/python3.7/dist-packages (from Twisted>=16.0->crochet) (15.1.0)\n",
      "Requirement already satisfied: attrs>=19.2.0 in /usr/local/lib/python3.7/dist-packages (from Twisted>=16.0->crochet) (22.1.0)\n",
      "Requirement already satisfied: zope.interface>=4.4.2 in /usr/local/lib/python3.7/dist-packages (from Twisted>=16.0->crochet) (5.5.0)\n",
      "Requirement already satisfied: hyperlink>=17.1.1 in /usr/local/lib/python3.7/dist-packages (from Twisted>=16.0->crochet) (21.0.0)\n",
      "Requirement already satisfied: typing-extensions>=3.6.5 in /usr/local/lib/python3.7/dist-packages (from Twisted>=16.0->crochet) (4.1.1)\n",
      "Requirement already satisfied: six in /usr/local/lib/python3.7/dist-packages (from Automat>=0.8.0->Twisted>=16.0->crochet) (1.15.0)\n",
      "Requirement already satisfied: idna>=2.5 in /usr/local/lib/python3.7/dist-packages (from hyperlink>=17.1.1->Twisted>=16.0->crochet) (2.10)\n",
      "Requirement already satisfied: setuptools in /usr/local/lib/python3.7/dist-packages (from zope.interface>=4.4.2->Twisted>=16.0->crochet) (57.4.0)\n",
      "Installing collected packages: crochet\n",
      "Successfully installed crochet-2.0.0\n"
     ]
    }
   ],
   "source": [
    "!pip install scrapy\n",
    "!pip install crochet"
   ]
  },
  {
   "cell_type": "markdown",
   "metadata": {
    "id": "cu6w3LYny0Ts"
   },
   "source": [
    "Membuat Class untuk Crawling data berita dari sebuah portal berita yaitu [Tempo](https://nasional.tempo.co). Lalu custom setting dari hasil dari crawling menjadi file CSV. Parse data crawling dari URL dengan id 'isi' dan tag p. Class ExtractFirstLine untuk ekstak data berita dari dari web dan memisahkan dari tag HTML."
   ]
  },
  {
   "cell_type": "code",
   "execution_count": 47,
   "metadata": {
    "executionInfo": {
     "elapsed": 424,
     "status": "ok",
     "timestamp": 1665536654769,
     "user": {
      "displayName": "Faridz Nur Firdausy S N 19-084",
      "userId": "00266508585162115821"
     },
     "user_tz": -420
    },
    "id": "Twa9_gcHuAfd"
   },
   "outputs": [],
   "source": [
    "import scrapy\n",
    "from scrapy.crawler import CrawlerRunner\n",
    "import re\n",
    "from crochet import setup, wait_for\n",
    "setup()\n",
    "\n",
    "class QuotesToCsv(scrapy.Spider):\n",
    "    name = \"MJKQuotesToCsv\"\n",
    "    start_urls = [\n",
    "        'https://nasional.tempo.co/read/1643157/pria-tewas-terjatuh-dari-lantai-11-hotel-yogyakarta-diduga-mahasiswa-ugm',\n",
    "    ]\n",
    "    custom_settings = {\n",
    "        'ITEM_PIPELINES': {\n",
    "            '__main__.ExtractFirstLine': 1\n",
    "        },\n",
    "        'FEEDS': {\n",
    "            'beritaUGM.csv': {\n",
    "                'format': 'csv',\n",
    "                'overwrite': True\n",
    "            }\n",
    "        }\n",
    "    }\n",
    "\n",
    "    def parse(self, response):\n",
    "        \"\"\"parse data from urls\"\"\"\n",
    "        for quote in response.css('#isi > p'):\n",
    "            yield {'news': quote.extract()}\n",
    "\n",
    "\n",
    "class ExtractFirstLine(object):\n",
    "    def process_item(self, item, spider):\n",
    "        \"\"\"text processing\"\"\"\n",
    "        lines = dict(item)[\"news\"].splitlines()\n",
    "        first_line = self.__remove_html_tags__(lines[0])\n",
    "\n",
    "        return {'news': first_line}\n",
    "\n",
    "    def __remove_html_tags__(self, text):\n",
    "        \"\"\"remove html tags from string\"\"\"\n",
    "        html_tags = re.compile('<.*?>')\n",
    "        return re.sub(html_tags, '', text)\n",
    "\n",
    "@wait_for(10)\n",
    "def run_spider():\n",
    "    \"\"\"run spider with MJKQuotesToCsv\"\"\"\n",
    "    crawler = CrawlerRunner()\n",
    "    d = crawler.crawl(QuotesToCsv)\n",
    "    return d"
   ]
  },
  {
   "cell_type": "markdown",
   "metadata": {
    "id": "ue9yUY6ny3ZD"
   },
   "source": [
    "Jalankan fungsi untuk crawling data berita"
   ]
  },
  {
   "cell_type": "code",
   "execution_count": 48,
   "metadata": {
    "executionInfo": {
     "elapsed": 3491,
     "status": "ok",
     "timestamp": 1665536669005,
     "user": {
      "displayName": "Faridz Nur Firdausy S N 19-084",
      "userId": "00266508585162115821"
     },
     "user_tz": -420
    },
    "id": "Tk8Q1s1fuJBn"
   },
   "outputs": [],
   "source": [
    "run_spider()"
   ]
  },
  {
   "cell_type": "markdown",
   "metadata": {
    "id": "zHJ2Db1Yy6zX"
   },
   "source": [
    "Menampilkan data berita yang sudah dicrawling menggunakan pandas"
   ]
  },
  {
   "cell_type": "code",
   "execution_count": 49,
   "metadata": {
    "colab": {
     "base_uri": "https://localhost:8080/",
     "height": 363
    },
    "executionInfo": {
     "elapsed": 7,
     "status": "ok",
     "timestamp": 1665536675693,
     "user": {
      "displayName": "Faridz Nur Firdausy S N 19-084",
      "userId": "00266508585162115821"
     },
     "user_tz": -420
    },
    "id": "izZTk4qZuK2Y",
    "outputId": "38692366-410d-4509-81d2-7b6ff5382f01"
   },
   "outputs": [
    {
     "data": {
      "text/html": [
       "\n",
       "  <div id=\"df-6865cce7-8b78-425f-818e-fc9e53876ff8\">\n",
       "    <div class=\"colab-df-container\">\n",
       "      <div>\n",
       "<style scoped>\n",
       "    .dataframe tbody tr th:only-of-type {\n",
       "        vertical-align: middle;\n",
       "    }\n",
       "\n",
       "    .dataframe tbody tr th {\n",
       "        vertical-align: top;\n",
       "    }\n",
       "\n",
       "    .dataframe thead th {\n",
       "        text-align: right;\n",
       "    }\n",
       "</style>\n",
       "<table border=\"1\" class=\"dataframe\">\n",
       "  <thead>\n",
       "    <tr style=\"text-align: right;\">\n",
       "      <th></th>\n",
       "      <th>news</th>\n",
       "    </tr>\n",
       "  </thead>\n",
       "  <tbody>\n",
       "    <tr>\n",
       "      <th>0</th>\n",
       "      <td>TEMPO.CO, Yogyakarta - Seorang pria berusia 18...</td>\n",
       "    </tr>\n",
       "    <tr>\n",
       "      <th>1</th>\n",
       "      <td>Dugaan identitas korban ini berdasarkan barang...</td>\n",
       "    </tr>\n",
       "    <tr>\n",
       "      <th>2</th>\n",
       "      <td>\"Kami tadi sudah cek dan mendapatkan tas milik...</td>\n",
       "    </tr>\n",
       "    <tr>\n",
       "      <th>3</th>\n",
       "      <td>Selain identitas, polisi juga menemukan sebuah...</td>\n",
       "    </tr>\n",
       "    <tr>\n",
       "      <th>4</th>\n",
       "      <td>Sumanto mengatakan masih mendalami apa penyeba...</td>\n",
       "    </tr>\n",
       "    <tr>\n",
       "      <th>5</th>\n",
       "      <td>Dari informasi sementara yang dikumpulkan poli...</td>\n",
       "    </tr>\n",
       "    <tr>\n",
       "      <th>6</th>\n",
       "      <td>\"Dari informasi karyawan, tadi ada yang sudah ...</td>\n",
       "    </tr>\n",
       "    <tr>\n",
       "      <th>7</th>\n",
       "      <td>Menurutnya, polisi telah bertemu rekan dari sa...</td>\n",
       "    </tr>\n",
       "    <tr>\n",
       "      <th>8</th>\n",
       "      <td>Dari lokasi kejadian, korban langsung dibawa k...</td>\n",
       "    </tr>\n",
       "    <tr>\n",
       "      <th>9</th>\n",
       "      <td>Kepala Sub Bagian Pemberitaan Bagian Hubungan ...</td>\n",
       "    </tr>\n",
       "  </tbody>\n",
       "</table>\n",
       "</div>\n",
       "      <button class=\"colab-df-convert\" onclick=\"convertToInteractive('df-6865cce7-8b78-425f-818e-fc9e53876ff8')\"\n",
       "              title=\"Convert this dataframe to an interactive table.\"\n",
       "              style=\"display:none;\">\n",
       "\n",
       "  <svg xmlns=\"http://www.w3.org/2000/svg\" height=\"24px\"viewBox=\"0 0 24 24\"\n",
       "       width=\"24px\">\n",
       "    <path d=\"M0 0h24v24H0V0z\" fill=\"none\"/>\n",
       "    <path d=\"M18.56 5.44l.94 2.06.94-2.06 2.06-.94-2.06-.94-.94-2.06-.94 2.06-2.06.94zm-11 1L8.5 8.5l.94-2.06 2.06-.94-2.06-.94L8.5 2.5l-.94 2.06-2.06.94zm10 10l.94 2.06.94-2.06 2.06-.94-2.06-.94-.94-2.06-.94 2.06-2.06.94z\"/><path d=\"M17.41 7.96l-1.37-1.37c-.4-.4-.92-.59-1.43-.59-.52 0-1.04.2-1.43.59L10.3 9.45l-7.72 7.72c-.78.78-.78 2.05 0 2.83L4 21.41c.39.39.9.59 1.41.59.51 0 1.02-.2 1.41-.59l7.78-7.78 2.81-2.81c.8-.78.8-2.07 0-2.86zM5.41 20L4 18.59l7.72-7.72 1.47 1.35L5.41 20z\"/>\n",
       "  </svg>\n",
       "      </button>\n",
       "\n",
       "  <style>\n",
       "    .colab-df-container {\n",
       "      display:flex;\n",
       "      flex-wrap:wrap;\n",
       "      gap: 12px;\n",
       "    }\n",
       "\n",
       "    .colab-df-convert {\n",
       "      background-color: #E8F0FE;\n",
       "      border: none;\n",
       "      border-radius: 50%;\n",
       "      cursor: pointer;\n",
       "      display: none;\n",
       "      fill: #1967D2;\n",
       "      height: 32px;\n",
       "      padding: 0 0 0 0;\n",
       "      width: 32px;\n",
       "    }\n",
       "\n",
       "    .colab-df-convert:hover {\n",
       "      background-color: #E2EBFA;\n",
       "      box-shadow: 0px 1px 2px rgba(60, 64, 67, 0.3), 0px 1px 3px 1px rgba(60, 64, 67, 0.15);\n",
       "      fill: #174EA6;\n",
       "    }\n",
       "\n",
       "    [theme=dark] .colab-df-convert {\n",
       "      background-color: #3B4455;\n",
       "      fill: #D2E3FC;\n",
       "    }\n",
       "\n",
       "    [theme=dark] .colab-df-convert:hover {\n",
       "      background-color: #434B5C;\n",
       "      box-shadow: 0px 1px 3px 1px rgba(0, 0, 0, 0.15);\n",
       "      filter: drop-shadow(0px 1px 2px rgba(0, 0, 0, 0.3));\n",
       "      fill: #FFFFFF;\n",
       "    }\n",
       "  </style>\n",
       "\n",
       "      <script>\n",
       "        const buttonEl =\n",
       "          document.querySelector('#df-6865cce7-8b78-425f-818e-fc9e53876ff8 button.colab-df-convert');\n",
       "        buttonEl.style.display =\n",
       "          google.colab.kernel.accessAllowed ? 'block' : 'none';\n",
       "\n",
       "        async function convertToInteractive(key) {\n",
       "          const element = document.querySelector('#df-6865cce7-8b78-425f-818e-fc9e53876ff8');\n",
       "          const dataTable =\n",
       "            await google.colab.kernel.invokeFunction('convertToInteractive',\n",
       "                                                     [key], {});\n",
       "          if (!dataTable) return;\n",
       "\n",
       "          const docLinkHtml = 'Like what you see? Visit the ' +\n",
       "            '<a target=\"_blank\" href=https://colab.research.google.com/notebooks/data_table.ipynb>data table notebook</a>'\n",
       "            + ' to learn more about interactive tables.';\n",
       "          element.innerHTML = '';\n",
       "          dataTable['output_type'] = 'display_data';\n",
       "          await google.colab.output.renderOutput(dataTable, element);\n",
       "          const docLink = document.createElement('div');\n",
       "          docLink.innerHTML = docLinkHtml;\n",
       "          element.appendChild(docLink);\n",
       "        }\n",
       "      </script>\n",
       "    </div>\n",
       "  </div>\n"
      ],
      "text/plain": [
       "                                                news\n",
       "0  TEMPO.CO, Yogyakarta - Seorang pria berusia 18...\n",
       "1  Dugaan identitas korban ini berdasarkan barang...\n",
       "2  \"Kami tadi sudah cek dan mendapatkan tas milik...\n",
       "3  Selain identitas, polisi juga menemukan sebuah...\n",
       "4  Sumanto mengatakan masih mendalami apa penyeba...\n",
       "5  Dari informasi sementara yang dikumpulkan poli...\n",
       "6  \"Dari informasi karyawan, tadi ada yang sudah ...\n",
       "7  Menurutnya, polisi telah bertemu rekan dari sa...\n",
       "8  Dari lokasi kejadian, korban langsung dibawa k...\n",
       "9  Kepala Sub Bagian Pemberitaan Bagian Hubungan ..."
      ]
     },
     "execution_count": 49,
     "metadata": {},
     "output_type": "execute_result"
    }
   ],
   "source": [
    "dataBerita = pd.read_csv('beritaUGM.csv')\n",
    "dataBerita"
   ]
  },
  {
   "cell_type": "markdown",
   "metadata": {
    "id": "z2Lw6o70zA3v"
   },
   "source": [
    "### PyPDF2"
   ]
  },
  {
   "cell_type": "markdown",
   "metadata": {
    "id": "Ok27-TMPy962"
   },
   "source": [
    "PyPDF2 adalah library Python yang memungkinkan manipulasi dokumen PDF. Ini dapat digunakan untuk membuat dokumen PDF baru, memodifikasi yang sudah ada, dan mengekstrak konten dari dokumen. PyPDF2 adalah library Python yang tidak memerlukan modul non-standar."
   ]
  },
  {
   "cell_type": "code",
   "execution_count": 50,
   "metadata": {
    "colab": {
     "base_uri": "https://localhost:8080/"
    },
    "executionInfo": {
     "elapsed": 20774,
     "status": "ok",
     "timestamp": 1665536716221,
     "user": {
      "displayName": "Faridz Nur Firdausy S N 19-084",
      "userId": "00266508585162115821"
     },
     "user_tz": -420
    },
    "id": "EljGWuLHuPpa",
    "outputId": "c430d6ac-5697-48ba-8230-851f893db861"
   },
   "outputs": [
    {
     "name": "stdout",
     "output_type": "stream",
     "text": [
      "Looking in indexes: https://pypi.org/simple, https://us-python.pkg.dev/colab-wheels/public/simple/\n",
      "Collecting PyPDF2\n",
      "  Downloading PyPDF2-2.11.1-py3-none-any.whl (220 kB)\n",
      "\u001b[K     |████████████████████████████████| 220 kB 3.9 MB/s \n",
      "\u001b[?25hRequirement already satisfied: typing-extensions>=3.10.0.0 in /usr/local/lib/python3.7/dist-packages (from PyPDF2) (4.1.1)\n",
      "Installing collected packages: PyPDF2\n",
      "Successfully installed PyPDF2-2.11.1\n"
     ]
    }
   ],
   "source": [
    "!pip install PyPDF2"
   ]
  },
  {
   "cell_type": "markdown",
   "metadata": {
    "id": "bPRll9mLzN15"
   },
   "source": [
    "import library PyPDF2 dan membuat variabel untuk membaca file PDF berita yang sudah crawling."
   ]
  },
  {
   "cell_type": "code",
   "execution_count": 51,
   "metadata": {
    "colab": {
     "base_uri": "https://localhost:8080/",
     "height": 174
    },
    "executionInfo": {
     "elapsed": 18,
     "status": "ok",
     "timestamp": 1665536731173,
     "user": {
      "displayName": "Faridz Nur Firdausy S N 19-084",
      "userId": "00266508585162115821"
     },
     "user_tz": -420
    },
    "id": "P4vLWU-DuTJv",
    "outputId": "eb24654e-941f-4e3b-cf07-22d51a186b67"
   },
   "outputs": [
    {
     "data": {
      "application/vnd.google.colaboratory.intrinsic+json": {
       "type": "string"
      },
      "text/plain": [
       "'TEMPO.CO, Yogyakarta - Seorang pria berusia 18 tahun tewas terjatuh dari lantai 11 Hotel Porta by \\nAmbarrukmo di Jalan Colombo Yogyakarta, Sabtu sore 8 Oktober 2022.Â  Video dari lokasi tersebar di \\nmedia sosial. Korban diduga merupakan salah satu mahasiswa U niversitas Gadjah Mada (UGM).  \\nDugaan identitas korban ini berdasarkan barang yang ditemukan petugas Kepolisan Sektor \\nBulaksumur, Sleman, Yogyakarta di lokasi. Diketahui pria itu memiliki nama dengan inisial TSR dan \\nkelahiran 2004.  \"Kami tadi sudah cek dan mendapatkan tas milik korban,yang di dalamnya (ada \\nidentitas) sebagai salah satu mahasiswa UGM,\" kata Kapolsek Bu lak Sumur, Komisaris Sumanto.  \\nSelain identitas, polisi juga menemukan sebuah surat keterangan kondisi kejiwaan korban yang \\ndikeluarkan psikolog dari sebuah rumah sakit swasta di Yogyakarta dalam tas korban.Â  \"Surat dari \\nrumah sakit itu menjelaskan kond isi psikologis korban, ada surat keterangan dari psikolog,\" kata \\nSumanto yang mendapat laporan kejadian itu sekitar pukul 15.30 WIB.  Sumanto mengatakan masih \\nmendalami apa penyebab persis terjatuhnya pemuda tersebut dari lantai 11 hotel yang berjarak \\nhanya sekitar satu kilometer dari kampus UGM itu. Apakah berkaitan dengan kondisi kejiwaannya \\natau tidak.  Dari informasi sementara yang dikumpulkan polis i, ada dugaan pemuda itu memang \\nsengaja melompat dari lantai 11.Â  Dugaan bunuh diri ini sempat mencuat karena korban \\nsebelumnya sudah menunjukkan perilaku tak wajar menjurus tindakan yang membahayakan dirinya.  \\n\"Dari informasi karyawan, tadi ada yang su dah mengingatkan korban saat mau lompat (dari lantai \\n11),\" kata Sumanto sambil menambahkan, \"Namun itu masih informasi awal, kami masih selidiki.\"  \\nMenurutnya, polisi telah bertemu rekan dari satu fakultas di kampus UGM yang menjenguk pasca \\nkejadian. Telah diketahui pula kalau keberadaan korban di hotel itu sebagai tamu.Â  \"Korban bukan \\nberasal dari Yogyakarta,\" kata dia.  Dari lokasi kejadian, korban langsung dibawa ke Rumah Sakit \\nBhayangkara Yogyakarta untuk dilakukan identifikasi lebih jauh.  Kepala Sub Bagian Pemberitaan \\nBagian Hubungan Masyarakat dan Protokol UGM Satria Ardhi Nugraha saat dikonfirmasi belum bisa \\nmembeberkan apakah korban benar mahasiswa UGM.Â  \"Kami belum mengetahui persis soal itu, \\ndata masih dikumpulkan,\" kata dia.   '"
      ]
     },
     "execution_count": 51,
     "metadata": {},
     "output_type": "execute_result"
    }
   ],
   "source": [
    "import PyPDF2\n",
    "pdfReader = PyPDF2.PdfFileReader('/content/drive/MyDrive/Web Mining/webmining/beritaUGM.pdf')\n",
    "pageObj = pdfReader.getPage(0)\n",
    "document = pageObj.extractText()\n",
    "document"
   ]
  },
  {
   "cell_type": "markdown",
   "metadata": {
    "id": "JteA8eK_zRyP"
   },
   "source": [
    "### PunktSentenceTokenizer\n",
    "PunktSentenceTokenizer adalah Sebuah libary untuk tokenizing atau memecah kalimat - kalimat pada sebuah paragraf.\n",
    "class tokenize terdiri dari 2 tahapan yaitu tahap prepocessing dan tahap memecah kalimat pada data beritaUGM"
   ]
  },
  {
   "cell_type": "code",
   "execution_count": 52,
   "metadata": {
    "colab": {
     "base_uri": "https://localhost:8080/"
    },
    "executionInfo": {
     "elapsed": 9,
     "status": "ok",
     "timestamp": 1665536740638,
     "user": {
      "displayName": "Faridz Nur Firdausy S N 19-084",
      "userId": "00266508585162115821"
     },
     "user_tz": -420
    },
    "id": "5h5XCyLtuYC3",
    "outputId": "1f0a8cb8-c390-4de8-8285-e33c34f407ac"
   },
   "outputs": [
    {
     "data": {
      "text/plain": [
       "['TEMPO.CO, Yogyakarta - Seorang pria berusia 18 tahun tewas terjatuh dari lantai 11 Hotel Porta by Ambarrukmo di Jalan Colombo Yogyakarta, Sabtu sore 8 Oktober 2022.?',\n",
       " 'Video dari lokasi tersebar di media sosial.',\n",
       " 'Korban diduga merupakan salah satu mahasiswa U niversitas Gadjah Mada (UGM).',\n",
       " 'Dugaan identitas korban ini berdasarkan barang yang ditemukan petugas Kepolisan Sektor Bulaksumur, Sleman, Yogyakarta di lokasi.',\n",
       " 'Diketahui pria itu memiliki nama dengan inisial TSR dan kelahiran 2004.',\n",
       " '\"Kami tadi sudah cek dan mendapatkan tas milik korban,yang di dalamnya (ada identitas) sebagai salah satu mahasiswa UGM,\" kata Kapolsek Bu lak Sumur, Komisaris Sumanto.',\n",
       " 'Selain identitas, polisi juga menemukan sebuah surat keterangan kondisi kejiwaan korban yang dikeluarkan psikolog dari sebuah rumah sakit swasta di Yogyakarta dalam tas korban.?',\n",
       " '\"Surat dari rumah sakit itu menjelaskan kond isi psikologis korban, ada surat keterangan dari psikolog,\" kata Sumanto yang mendapat laporan kejadian itu sekitar pukul 15.30 WIB.',\n",
       " 'Sumanto mengatakan masih mendalami apa penyebab persis terjatuhnya pemuda tersebut dari lantai 11 hotel yang berjarak hanya sekitar satu kilometer dari kampus UGM itu.',\n",
       " 'Apakah berkaitan dengan kondisi kejiwaannya atau tidak.',\n",
       " 'Dari informasi sementara yang dikumpulkan polis i, ada dugaan pemuda itu memang sengaja melompat dari lantai 11.?',\n",
       " 'Dugaan bunuh diri ini sempat mencuat karena korban sebelumnya sudah menunjukkan perilaku tak wajar menjurus tindakan yang membahayakan dirinya.',\n",
       " '\"Dari informasi karyawan, tadi ada yang su dah mengingatkan korban saat mau lompat (dari lantai 11),\" kata Sumanto sambil menambahkan, \"Namun itu masih informasi awal, kami masih selidiki.\"',\n",
       " 'Menurutnya, polisi telah bertemu rekan dari satu fakultas di kampus UGM yang menjenguk pasca kejadian.',\n",
       " 'Telah diketahui pula kalau keberadaan korban di hotel itu sebagai tamu.?',\n",
       " '\"Korban bukan berasal dari Yogyakarta,\" kata dia.',\n",
       " 'Dari lokasi kejadian, korban langsung dibawa ke Rumah Sakit Bhayangkara Yogyakarta untuk dilakukan identifikasi lebih jauh.',\n",
       " 'Kepala Sub Bagian Pemberitaan Bagian Hubungan Masyarakat dan Protokol UGM Satria Ardhi Nugraha saat dikonfirmasi belum bisa membeberkan apakah korban benar mahasiswa UGM.?',\n",
       " '\"Kami belum mengetahui persis soal itu, data masih dikumpulkan,\" kata dia.']"
      ]
     },
     "execution_count": 52,
     "metadata": {},
     "output_type": "execute_result"
    }
   ],
   "source": [
    "from nltk.tokenize.punkt import PunktSentenceTokenizer\n",
    "def tokenize(document):\n",
    "    # tahap prepocessing\n",
    "    document = document.encode('ascii', 'replace').decode('ascii')\n",
    "    document = ' '.join(re.sub(\"([@#?][A-Za-z0-9]+)|(\\w+:\\/\\/\\S+)\",\" \", document).split())\n",
    "    # memecahnya menggunakan  PunktSentenceTokenizer\n",
    "    doc_tokenizer = PunktSentenceTokenizer()\n",
    "    # sentences_list adalah daftar masing masing kalimat dari dokumen yang ada.\n",
    "    sentences_list = doc_tokenizer.tokenize(document)\n",
    "    return sentences_list\n",
    "sentences_list = tokenize(document)\n",
    "sentences_list"
   ]
  },
  {
   "cell_type": "markdown",
   "metadata": {
    "id": "txPajsvDzdYZ"
   },
   "source": [
    "Menampilkan setiap kalimat yang sudah tokenizing"
   ]
  },
  {
   "cell_type": "code",
   "execution_count": 53,
   "metadata": {
    "colab": {
     "base_uri": "https://localhost:8080/"
    },
    "executionInfo": {
     "elapsed": 34,
     "status": "ok",
     "timestamp": 1665536753829,
     "user": {
      "displayName": "Faridz Nur Firdausy S N 19-084",
      "userId": "00266508585162115821"
     },
     "user_tz": -420
    },
    "id": "e2qEdZBYuemf",
    "outputId": "d3dc3cbe-c3f3-4f23-dc21-ffe1605cf77a"
   },
   "outputs": [
    {
     "name": "stdout",
     "output_type": "stream",
     "text": [
      "Kalimat 1\n",
      "TEMPO.CO, Yogyakarta - Seorang pria berusia 18 tahun tewas terjatuh dari lantai 11 Hotel Porta by Ambarrukmo di Jalan Colombo Yogyakarta, Sabtu sore 8 Oktober 2022.?\n",
      "Kalimat 2\n",
      "Video dari lokasi tersebar di media sosial.\n",
      "Kalimat 3\n",
      "Korban diduga merupakan salah satu mahasiswa U niversitas Gadjah Mada (UGM).\n",
      "Kalimat 4\n",
      "Dugaan identitas korban ini berdasarkan barang yang ditemukan petugas Kepolisan Sektor Bulaksumur, Sleman, Yogyakarta di lokasi.\n",
      "Kalimat 5\n",
      "Diketahui pria itu memiliki nama dengan inisial TSR dan kelahiran 2004.\n",
      "Kalimat 6\n",
      "\"Kami tadi sudah cek dan mendapatkan tas milik korban,yang di dalamnya (ada identitas) sebagai salah satu mahasiswa UGM,\" kata Kapolsek Bu lak Sumur, Komisaris Sumanto.\n",
      "Kalimat 7\n",
      "Selain identitas, polisi juga menemukan sebuah surat keterangan kondisi kejiwaan korban yang dikeluarkan psikolog dari sebuah rumah sakit swasta di Yogyakarta dalam tas korban.?\n",
      "Kalimat 8\n",
      "\"Surat dari rumah sakit itu menjelaskan kond isi psikologis korban, ada surat keterangan dari psikolog,\" kata Sumanto yang mendapat laporan kejadian itu sekitar pukul 15.30 WIB.\n",
      "Kalimat 9\n",
      "Sumanto mengatakan masih mendalami apa penyebab persis terjatuhnya pemuda tersebut dari lantai 11 hotel yang berjarak hanya sekitar satu kilometer dari kampus UGM itu.\n",
      "Kalimat 10\n",
      "Apakah berkaitan dengan kondisi kejiwaannya atau tidak.\n",
      "Kalimat 11\n",
      "Dari informasi sementara yang dikumpulkan polis i, ada dugaan pemuda itu memang sengaja melompat dari lantai 11.?\n",
      "Kalimat 12\n",
      "Dugaan bunuh diri ini sempat mencuat karena korban sebelumnya sudah menunjukkan perilaku tak wajar menjurus tindakan yang membahayakan dirinya.\n",
      "Kalimat 13\n",
      "\"Dari informasi karyawan, tadi ada yang su dah mengingatkan korban saat mau lompat (dari lantai 11),\" kata Sumanto sambil menambahkan, \"Namun itu masih informasi awal, kami masih selidiki.\"\n",
      "Kalimat 14\n",
      "Menurutnya, polisi telah bertemu rekan dari satu fakultas di kampus UGM yang menjenguk pasca kejadian.\n",
      "Kalimat 15\n",
      "Telah diketahui pula kalau keberadaan korban di hotel itu sebagai tamu.?\n",
      "Kalimat 16\n",
      "\"Korban bukan berasal dari Yogyakarta,\" kata dia.\n",
      "Kalimat 17\n",
      "Dari lokasi kejadian, korban langsung dibawa ke Rumah Sakit Bhayangkara Yogyakarta untuk dilakukan identifikasi lebih jauh.\n",
      "Kalimat 18\n",
      "Kepala Sub Bagian Pemberitaan Bagian Hubungan Masyarakat dan Protokol UGM Satria Ardhi Nugraha saat dikonfirmasi belum bisa membeberkan apakah korban benar mahasiswa UGM.?\n",
      "Kalimat 19\n",
      "\"Kami belum mengetahui persis soal itu, data masih dikumpulkan,\" kata dia.\n"
     ]
    }
   ],
   "source": [
    "for j in range (len(sentences_list)):\n",
    "    print('Kalimat {}'.format(j+1))\n",
    "    print(sentences_list[j])"
   ]
  },
  {
   "cell_type": "markdown",
   "metadata": {
    "id": "3hxevDjzzgLp"
   },
   "source": [
    "### TF IDF\n",
    "Tokenizing kata - kata pada kalimat sehingga bisa dihitung jumlah kosa kata serta menghitung TF IDF dari kata - kata tersebut."
   ]
  },
  {
   "cell_type": "code",
   "execution_count": 54,
   "metadata": {
    "executionInfo": {
     "elapsed": 21,
     "status": "ok",
     "timestamp": 1665536766419,
     "user": {
      "displayName": "Faridz Nur Firdausy S N 19-084",
      "userId": "00266508585162115821"
     },
     "user_tz": -420
    },
    "id": "TH9MbBJ9uiDc"
   },
   "outputs": [],
   "source": [
    "from sklearn.feature_extraction.text import TfidfTransformer, CountVectorizer\n",
    "vectorizer = CountVectorizer()\n",
    "cv_matrix=vectorizer.fit_transform(sentences_list)"
   ]
  },
  {
   "cell_type": "code",
   "execution_count": 55,
   "metadata": {
    "colab": {
     "base_uri": "https://localhost:8080/"
    },
    "executionInfo": {
     "elapsed": 5,
     "status": "ok",
     "timestamp": 1665536777763,
     "user": {
      "displayName": "Faridz Nur Firdausy S N 19-084",
      "userId": "00266508585162115821"
     },
     "user_tz": -420
    },
    "id": "Dwr9WTWKuk2S",
    "outputId": "0524cf49-c038-4c4e-9b18-d0e1f37a48e0"
   },
   "outputs": [
    {
     "name": "stdout",
     "output_type": "stream",
     "text": [
      "Banyaknya kosa kata :  197\n",
      "Banyaknya kalimat :  19\n",
      "Kosa kata :  ['11' '15' '18' '2004' '2022' '30' 'ada' 'ambarrukmo' 'apa' 'apakah'\n",
      " 'ardhi' 'atau' 'awal' 'bagian' 'barang' 'belum' 'benar' 'berasal'\n",
      " 'berdasarkan' 'berjarak' 'berkaitan' 'bertemu' 'berusia' 'bhayangkara'\n",
      " 'bisa' 'bu' 'bukan' 'bulaksumur' 'bunuh' 'by' 'cek' 'co' 'colombo' 'dah'\n",
      " 'dalam' 'dalamnya' 'dan' 'dari' 'data' 'dengan' 'di' 'dia' 'dibawa'\n",
      " 'diduga' 'dikeluarkan' 'diketahui' 'dikonfirmasi' 'dikumpulkan'\n",
      " 'dilakukan' 'diri' 'dirinya' 'ditemukan' 'dugaan' 'fakultas' 'gadjah'\n",
      " 'hanya' 'hotel' 'hubungan' 'identifikasi' 'identitas' 'informasi' 'ini'\n",
      " 'inisial' 'isi' 'itu' 'jalan' 'jauh' 'juga' 'kalau' 'kami' 'kampus'\n",
      " 'kapolsek' 'karena' 'karyawan' 'kata' 'ke' 'keberadaan' 'kejadian'\n",
      " 'kejiwaan' 'kejiwaannya' 'kelahiran' 'kepala' 'kepolisan' 'keterangan'\n",
      " 'kilometer' 'komisaris' 'kond' 'kondisi' 'korban' 'lak' 'langsung'\n",
      " 'lantai' 'laporan' 'lebih' 'lokasi' 'lompat' 'mada' 'mahasiswa' 'masih'\n",
      " 'masyarakat' 'mau' 'media' 'melompat' 'memang' 'membahayakan'\n",
      " 'membeberkan' 'memiliki' 'menambahkan' 'mencuat' 'mendalami' 'mendapat'\n",
      " 'mendapatkan' 'menemukan' 'mengatakan' 'mengetahui' 'mengingatkan'\n",
      " 'menjelaskan' 'menjenguk' 'menjurus' 'menunjukkan' 'menurutnya'\n",
      " 'merupakan' 'milik' 'nama' 'namun' 'niversitas' 'nugraha' 'oktober'\n",
      " 'pasca' 'pemberitaan' 'pemuda' 'penyebab' 'perilaku' 'persis' 'petugas'\n",
      " 'polis' 'polisi' 'porta' 'pria' 'protokol' 'psikolog' 'psikologis'\n",
      " 'pukul' 'pula' 'rekan' 'rumah' 'saat' 'sabtu' 'sakit' 'salah' 'sambil'\n",
      " 'satria' 'satu' 'sebagai' 'sebelumnya' 'sebuah' 'sekitar' 'sektor'\n",
      " 'selain' 'selidiki' 'sementara' 'sempat' 'sengaja' 'seorang' 'sleman'\n",
      " 'soal' 'sore' 'sosial' 'su' 'sub' 'sudah' 'sumanto' 'sumur' 'surat'\n",
      " 'swasta' 'tadi' 'tahun' 'tak' 'tamu' 'tas' 'telah' 'tempo' 'terjatuh'\n",
      " 'terjatuhnya' 'tersebar' 'tersebut' 'tewas' 'tidak' 'tindakan' 'tsr'\n",
      " 'ugm' 'untuk' 'video' 'wajar' 'wib' 'yang' 'yogyakarta']\n"
     ]
    }
   ],
   "source": [
    "print (\"Banyaknya kosa kata : \", len((vectorizer.get_feature_names_out())))\n",
    "print (\"Banyaknya kalimat : \", (len(sentences_list)))\n",
    "print (\"Kosa kata : \", (vectorizer.get_feature_names_out()))"
   ]
  },
  {
   "cell_type": "markdown",
   "metadata": {
    "id": "pADJz_2mzpOb"
   },
   "source": [
    "membuat matrix TF IDF dari kosa kata ada"
   ]
  },
  {
   "cell_type": "code",
   "execution_count": 56,
   "metadata": {
    "colab": {
     "base_uri": "https://localhost:8080/"
    },
    "executionInfo": {
     "elapsed": 48,
     "status": "ok",
     "timestamp": 1665536795097,
     "user": {
      "displayName": "Faridz Nur Firdausy S N 19-084",
      "userId": "00266508585162115821"
     },
     "user_tz": -420
    },
    "id": "o2_MkB91umw9",
    "outputId": "9f517377-53b5-4235-b3c5-d07074f9f588"
   },
   "outputs": [
    {
     "data": {
      "text/plain": [
       "array([[0.15478892, 0.        , 0.21422486, ..., 0.        , 0.        ,\n",
       "        0.28592497],\n",
       "       [0.        , 0.        , 0.        , ..., 0.        , 0.        ,\n",
       "        0.        ],\n",
       "       [0.        , 0.        , 0.        , ..., 0.        , 0.        ,\n",
       "        0.        ],\n",
       "       ...,\n",
       "       [0.        , 0.        , 0.        , ..., 0.        , 0.        ,\n",
       "        0.18962216],\n",
       "       [0.        , 0.        , 0.        , ..., 0.        , 0.        ,\n",
       "        0.        ],\n",
       "       [0.        , 0.        , 0.        , ..., 0.        , 0.        ,\n",
       "        0.        ]])"
      ]
     },
     "execution_count": 56,
     "metadata": {},
     "output_type": "execute_result"
    }
   ],
   "source": [
    "normal_matrix = TfidfTransformer().fit_transform(cv_matrix)\n",
    "normal_matrix.toarray()"
   ]
  },
  {
   "cell_type": "markdown",
   "metadata": {
    "id": "27kyi2O0zrF8"
   },
   "source": [
    "### Networkx dan Graph\n",
    "\n",
    "> Networkx adalah salah satu package pada bahasa pemrograman Python yang berfungsi untuk mengeksplorasi dan menganalisis jaringan dan algoritma jaringan.\n",
    "\n",
    "\n",
    "> Graph adalah jenis struktur data umum yang susunan datanya tidak berdekatan satu sama lain (non-linier). Graph terdiri dari kumpulan simpul berhingga untuk menyimpan data dan antara dua buah simpul terdapat hubungan saling keterkaitan. Simpul pada graph disebut dengan verteks (V), sedangkan sisi yang menghubungkan antar verteks disebut edge (E). Pasangan (x,y) disebut sebagai edge, yang menyatakan bahwa simpul x terhubung ke simpul y\n",
    "\n",
    "Hitung perkalian matrix TF IDF dari kosa kata ada dengan matrix tranpose"
   ]
  },
  {
   "cell_type": "code",
   "execution_count": 57,
   "metadata": {
    "colab": {
     "base_uri": "https://localhost:8080/"
    },
    "executionInfo": {
     "elapsed": 975,
     "status": "ok",
     "timestamp": 1665536809708,
     "user": {
      "displayName": "Faridz Nur Firdausy S N 19-084",
      "userId": "00266508585162115821"
     },
     "user_tz": -420
    },
    "id": "uP5lwT-1usi_",
    "outputId": "f598be10-8373-4ccd-8cae-286b9e0fc2e4"
   },
   "outputs": [
    {
     "name": "stdout",
     "output_type": "stream",
     "text": [
      "  (0, 7)\t0.021626934703384296\n",
      "  (0, 13)\t0.037319866623032945\n",
      "  (0, 5)\t0.016718798828437666\n",
      "  (0, 1)\t0.05364438590344406\n",
      "  (0, 14)\t0.07363764286175675\n",
      "  (0, 12)\t0.06752820139052057\n",
      "  (0, 10)\t0.09752776532167268\n",
      "  (0, 8)\t0.10974067992698763\n",
      "  (0, 4)\t0.05414587626730636\n",
      "  (0, 16)\t0.06846602930609831\n",
      "  (0, 15)\t0.11894780220098082\n",
      "  (0, 6)\t0.07070682997994944\n",
      "  (0, 3)\t0.07623248361394426\n",
      "  (0, 0)\t1.0000000000000002\n",
      "  (1, 15)\t0.050696791280911674\n",
      "  (1, 12)\t0.04281186948396192\n",
      "  (1, 10)\t0.06183114423361559\n",
      "  (1, 8)\t0.04924534215044987\n",
      "  (1, 7)\t0.044292531833507974\n",
      "  (1, 14)\t0.052837414016791574\n",
      "  (1, 13)\t0.07643206968966756\n",
      "  (1, 6)\t0.05655342629641501\n",
      "  (1, 5)\t0.034240540302306964\n",
      "  (1, 0)\t0.05364438590344406\n",
      "  (1, 16)\t0.10700755626433528\n",
      "  :\t:\n",
      "  (17, 18)\t0.05691097550301118\n",
      "  (17, 4)\t0.043182111595540355\n",
      "  (17, 16)\t0.012522899884361147\n",
      "  (17, 15)\t0.021756357620333004\n",
      "  (17, 14)\t0.015764834637617922\n",
      "  (17, 11)\t0.01080564429921911\n",
      "  (17, 7)\t0.009503995599447475\n",
      "  (17, 6)\t0.019906850624939788\n",
      "  (17, 3)\t0.012777848587024368\n",
      "  (17, 12)\t0.042965083128961135\n",
      "  (17, 17)\t0.9999999999999997\n",
      "  (17, 13)\t0.05725363097986939\n",
      "  (17, 8)\t0.0449732894705611\n",
      "  (17, 5)\t0.11464885659539706\n",
      "  (17, 2)\t0.1319744883988157\n",
      "  (18, 17)\t0.05691097550301118\n",
      "  (18, 14)\t0.04229215825436967\n",
      "  (18, 10)\t0.11694321693247442\n",
      "  (18, 4)\t0.038833725131428555\n",
      "  (18, 15)\t0.21060851670097286\n",
      "  (18, 7)\t0.0847186559537999\n",
      "  (18, 5)\t0.08707284483485819\n",
      "  (18, 12)\t0.1943316705420603\n",
      "  (18, 8)\t0.14570256629259695\n",
      "  (18, 18)\t0.9999999999999999\n"
     ]
    }
   ],
   "source": [
    "res_graph = normal_matrix * normal_matrix.T\n",
    "print(res_graph)"
   ]
  },
  {
   "cell_type": "markdown",
   "metadata": {
    "id": "fYPsSrW7z-gi"
   },
   "source": [
    "Membuat grafik dari res_graph yang sudah dihitung hasilnya"
   ]
  },
  {
   "cell_type": "code",
   "execution_count": 59,
   "metadata": {
    "colab": {
     "base_uri": "https://localhost:8080/",
     "height": 319
    },
    "executionInfo": {
     "elapsed": 25636,
     "status": "ok",
     "timestamp": 1665536951744,
     "user": {
      "displayName": "Faridz Nur Firdausy S N 19-084",
      "userId": "00266508585162115821"
     },
     "user_tz": -420
    },
    "id": "WvE977UHvH1t",
    "outputId": "9b62ee79-af06-41ed-f15f-796cbee04b4c"
   },
   "outputs": [
    {
     "data": {
      "image/png": "[encoded data removed]",
      "text/plain": [
       "<Figure size 432x288 with 1 Axes>"
      ]
     },
     "metadata": {
      "filenames": {
       "image/png": "/content/drive/MyDrive/Web Mining/webmining/_build/jupyter_execute/CrawlingUTS_82_0.png"
      }
     },
     "output_type": "display_data"
    }
   ],
   "source": [
    "import networkx as nx\n",
    "nx_graph = nx.from_scipy_sparse_matrix(res_graph)\n",
    "nx.draw_circular(nx_graph)"
   ]
  },
  {
   "cell_type": "markdown",
   "metadata": {
    "id": "AV1VtdMX0BBJ"
   },
   "source": [
    "menampilkan banyak sisi dari graph yang berjumlah 151 sisi"
   ]
  },
  {
   "cell_type": "code",
   "execution_count": 60,
   "metadata": {
    "colab": {
     "base_uri": "https://localhost:8080/"
    },
    "executionInfo": {
     "elapsed": 4,
     "status": "ok",
     "timestamp": 1665536973832,
     "user": {
      "displayName": "Faridz Nur Firdausy S N 19-084",
      "userId": "00266508585162115821"
     },
     "user_tz": -420
    },
    "id": "FJES_cPBvS3Y",
    "outputId": "0b68aebb-ccf2-4a85-e826-5d4de1708fa5"
   },
   "outputs": [
    {
     "name": "stdout",
     "output_type": "stream",
     "text": [
      "Banyaknya sisi : 151\n"
     ]
    }
   ],
   "source": [
    "print('Banyaknya sisi : {}'.format(nx_graph.number_of_edges()))"
   ]
  },
  {
   "cell_type": "markdown",
   "metadata": {
    "id": "zgePm5_F0D7k"
   },
   "source": [
    "### Pagerank\n",
    "\n",
    "> Algoritma PageRank bertujuan untuk mengukur hubungan kepentingan dalam kumpulan dokumen tersebut. Dalam algoritma PageRank dihasilkan matriks yang menghitung probabilitas bahwa pengguna akan berpindah dari satu halaman ke halaman lainnya. Algoritma PageRank dapat digunakan untuk memberikan peringkat pada\n",
    "setiap kalimat yang tersusun dalam sebuah graph. Peringkat yang dihasilkan\n",
    "oleh PageRank dapat digunakan untuk memastikan bahwa kalimat-kalimat\n",
    "yang dipilih oleh proses genetika adalah kalimat yang memiliki tingkat pentingnya tinggi. Semakin besar nilai PageRank maka semakin penting kalimat tersebut\n",
    "\n",
    "inisiasi algoritma Pagerank dari graph nx_graph\n"
   ]
  },
  {
   "cell_type": "code",
   "execution_count": 64,
   "metadata": {
    "executionInfo": {
     "elapsed": 358,
     "status": "ok",
     "timestamp": 1665537082302,
     "user": {
      "displayName": "Faridz Nur Firdausy S N 19-084",
      "userId": "00266508585162115821"
     },
     "user_tz": -420
    },
    "id": "u6WL2m0mvs61"
   },
   "outputs": [],
   "source": [
    "ranks=nx.pagerank(nx_graph)"
   ]
  },
  {
   "cell_type": "markdown",
   "metadata": {
    "id": "0WQ07_4P0N_5"
   },
   "source": [
    "input hasil perhitungan PageRank ke Array untuk ditampilkan dan dihitung urutkan angka PageRank terbesar sampai terkecil."
   ]
  },
  {
   "cell_type": "code",
   "execution_count": 65,
   "metadata": {
    "executionInfo": {
     "elapsed": 11,
     "status": "ok",
     "timestamp": 1665537237017,
     "user": {
      "displayName": "Faridz Nur Firdausy S N 19-084",
      "userId": "00266508585162115821"
     },
     "user_tz": -420
    },
    "id": "JDjopMZIwGnI"
   },
   "outputs": [],
   "source": [
    "arrRank=[]\n",
    "for i in ranks:\n",
    "    arrRank.append(ranks[i])"
   ]
  },
  {
   "cell_type": "markdown",
   "metadata": {
    "id": "XSxQf9kq0QQB"
   },
   "source": [
    "Buat dataFrame dengan kolom data kalimat dan data nilai PageRank"
   ]
  },
  {
   "cell_type": "code",
   "execution_count": 66,
   "metadata": {
    "colab": {
     "base_uri": "https://localhost:8080/",
     "height": 645
    },
    "executionInfo": {
     "elapsed": 7,
     "status": "ok",
     "timestamp": 1665537248733,
     "user": {
      "displayName": "Faridz Nur Firdausy S N 19-084",
      "userId": "00266508585162115821"
     },
     "user_tz": -420
    },
    "id": "H7sQncnzwTCE",
    "outputId": "18a4418d-3b8e-4776-c170-698c0cba9eb5"
   },
   "outputs": [
    {
     "data": {
      "text/html": [
       "\n",
       "  <div id=\"df-199b44b7-321d-4357-b4e0-29b9564cc7e4\">\n",
       "    <div class=\"colab-df-container\">\n",
       "      <div>\n",
       "<style scoped>\n",
       "    .dataframe tbody tr th:only-of-type {\n",
       "        vertical-align: middle;\n",
       "    }\n",
       "\n",
       "    .dataframe tbody tr th {\n",
       "        vertical-align: top;\n",
       "    }\n",
       "\n",
       "    .dataframe thead th {\n",
       "        text-align: right;\n",
       "    }\n",
       "</style>\n",
       "<table border=\"1\" class=\"dataframe\">\n",
       "  <thead>\n",
       "    <tr style=\"text-align: right;\">\n",
       "      <th></th>\n",
       "      <th>News</th>\n",
       "      <th>PageRank</th>\n",
       "    </tr>\n",
       "  </thead>\n",
       "  <tbody>\n",
       "    <tr>\n",
       "      <th>0</th>\n",
       "      <td>TEMPO.CO, Yogyakarta - Seorang pria berusia 18...</td>\n",
       "      <td>0.048395</td>\n",
       "    </tr>\n",
       "    <tr>\n",
       "      <th>1</th>\n",
       "      <td>Video dari lokasi tersebar di media sosial.</td>\n",
       "      <td>0.046278</td>\n",
       "    </tr>\n",
       "    <tr>\n",
       "      <th>2</th>\n",
       "      <td>Korban diduga merupakan salah satu mahasiswa U...</td>\n",
       "      <td>0.046507</td>\n",
       "    </tr>\n",
       "    <tr>\n",
       "      <th>3</th>\n",
       "      <td>Dugaan identitas korban ini berdasarkan barang...</td>\n",
       "      <td>0.052711</td>\n",
       "    </tr>\n",
       "    <tr>\n",
       "      <th>4</th>\n",
       "      <td>Diketahui pria itu memiliki nama dengan inisia...</td>\n",
       "      <td>0.045441</td>\n",
       "    </tr>\n",
       "    <tr>\n",
       "      <th>5</th>\n",
       "      <td>\"Kami tadi sudah cek dan mendapatkan tas milik...</td>\n",
       "      <td>0.062062</td>\n",
       "    </tr>\n",
       "    <tr>\n",
       "      <th>6</th>\n",
       "      <td>Selain identitas, polisi juga menemukan sebuah...</td>\n",
       "      <td>0.059379</td>\n",
       "    </tr>\n",
       "    <tr>\n",
       "      <th>7</th>\n",
       "      <td>\"Surat dari rumah sakit itu menjelaskan kond i...</td>\n",
       "      <td>0.061262</td>\n",
       "    </tr>\n",
       "    <tr>\n",
       "      <th>8</th>\n",
       "      <td>Sumanto mengatakan masih mendalami apa penyeba...</td>\n",
       "      <td>0.062365</td>\n",
       "    </tr>\n",
       "    <tr>\n",
       "      <th>9</th>\n",
       "      <td>Apakah berkaitan dengan kondisi kejiwaannya at...</td>\n",
       "      <td>0.043054</td>\n",
       "    </tr>\n",
       "    <tr>\n",
       "      <th>10</th>\n",
       "      <td>Dari informasi sementara yang dikumpulkan poli...</td>\n",
       "      <td>0.059254</td>\n",
       "    </tr>\n",
       "    <tr>\n",
       "      <th>11</th>\n",
       "      <td>Dugaan bunuh diri ini sempat mencuat karena ko...</td>\n",
       "      <td>0.042444</td>\n",
       "    </tr>\n",
       "    <tr>\n",
       "      <th>12</th>\n",
       "      <td>\"Dari informasi karyawan, tadi ada yang su dah...</td>\n",
       "      <td>0.061305</td>\n",
       "    </tr>\n",
       "    <tr>\n",
       "      <th>13</th>\n",
       "      <td>Menurutnya, polisi telah bertemu rekan dari sa...</td>\n",
       "      <td>0.054508</td>\n",
       "    </tr>\n",
       "    <tr>\n",
       "      <th>14</th>\n",
       "      <td>Telah diketahui pula kalau keberadaan korban d...</td>\n",
       "      <td>0.051453</td>\n",
       "    </tr>\n",
       "    <tr>\n",
       "      <th>15</th>\n",
       "      <td>\"Korban bukan berasal dari Yogyakarta,\" kata dia.</td>\n",
       "      <td>0.056772</td>\n",
       "    </tr>\n",
       "    <tr>\n",
       "      <th>16</th>\n",
       "      <td>Dari lokasi kejadian, korban langsung dibawa k...</td>\n",
       "      <td>0.050418</td>\n",
       "    </tr>\n",
       "    <tr>\n",
       "      <th>17</th>\n",
       "      <td>Kepala Sub Bagian Pemberitaan Bagian Hubungan ...</td>\n",
       "      <td>0.046596</td>\n",
       "    </tr>\n",
       "    <tr>\n",
       "      <th>18</th>\n",
       "      <td>\"Kami belum mengetahui persis soal itu, data m...</td>\n",
       "      <td>0.049799</td>\n",
       "    </tr>\n",
       "  </tbody>\n",
       "</table>\n",
       "</div>\n",
       "      <button class=\"colab-df-convert\" onclick=\"convertToInteractive('df-199b44b7-321d-4357-b4e0-29b9564cc7e4')\"\n",
       "              title=\"Convert this dataframe to an interactive table.\"\n",
       "              style=\"display:none;\">\n",
       "\n",
       "  <svg xmlns=\"http://www.w3.org/2000/svg\" height=\"24px\"viewBox=\"0 0 24 24\"\n",
       "       width=\"24px\">\n",
       "    <path d=\"M0 0h24v24H0V0z\" fill=\"none\"/>\n",
       "    <path d=\"M18.56 5.44l.94 2.06.94-2.06 2.06-.94-2.06-.94-.94-2.06-.94 2.06-2.06.94zm-11 1L8.5 8.5l.94-2.06 2.06-.94-2.06-.94L8.5 2.5l-.94 2.06-2.06.94zm10 10l.94 2.06.94-2.06 2.06-.94-2.06-.94-.94-2.06-.94 2.06-2.06.94z\"/><path d=\"M17.41 7.96l-1.37-1.37c-.4-.4-.92-.59-1.43-.59-.52 0-1.04.2-1.43.59L10.3 9.45l-7.72 7.72c-.78.78-.78 2.05 0 2.83L4 21.41c.39.39.9.59 1.41.59.51 0 1.02-.2 1.41-.59l7.78-7.78 2.81-2.81c.8-.78.8-2.07 0-2.86zM5.41 20L4 18.59l7.72-7.72 1.47 1.35L5.41 20z\"/>\n",
       "  </svg>\n",
       "      </button>\n",
       "\n",
       "  <style>\n",
       "    .colab-df-container {\n",
       "      display:flex;\n",
       "      flex-wrap:wrap;\n",
       "      gap: 12px;\n",
       "    }\n",
       "\n",
       "    .colab-df-convert {\n",
       "      background-color: #E8F0FE;\n",
       "      border: none;\n",
       "      border-radius: 50%;\n",
       "      cursor: pointer;\n",
       "      display: none;\n",
       "      fill: #1967D2;\n",
       "      height: 32px;\n",
       "      padding: 0 0 0 0;\n",
       "      width: 32px;\n",
       "    }\n",
       "\n",
       "    .colab-df-convert:hover {\n",
       "      background-color: #E2EBFA;\n",
       "      box-shadow: 0px 1px 2px rgba(60, 64, 67, 0.3), 0px 1px 3px 1px rgba(60, 64, 67, 0.15);\n",
       "      fill: #174EA6;\n",
       "    }\n",
       "\n",
       "    [theme=dark] .colab-df-convert {\n",
       "      background-color: #3B4455;\n",
       "      fill: #D2E3FC;\n",
       "    }\n",
       "\n",
       "    [theme=dark] .colab-df-convert:hover {\n",
       "      background-color: #434B5C;\n",
       "      box-shadow: 0px 1px 3px 1px rgba(0, 0, 0, 0.15);\n",
       "      filter: drop-shadow(0px 1px 2px rgba(0, 0, 0, 0.3));\n",
       "      fill: #FFFFFF;\n",
       "    }\n",
       "  </style>\n",
       "\n",
       "      <script>\n",
       "        const buttonEl =\n",
       "          document.querySelector('#df-199b44b7-321d-4357-b4e0-29b9564cc7e4 button.colab-df-convert');\n",
       "        buttonEl.style.display =\n",
       "          google.colab.kernel.accessAllowed ? 'block' : 'none';\n",
       "\n",
       "        async function convertToInteractive(key) {\n",
       "          const element = document.querySelector('#df-199b44b7-321d-4357-b4e0-29b9564cc7e4');\n",
       "          const dataTable =\n",
       "            await google.colab.kernel.invokeFunction('convertToInteractive',\n",
       "                                                     [key], {});\n",
       "          if (!dataTable) return;\n",
       "\n",
       "          const docLinkHtml = 'Like what you see? Visit the ' +\n",
       "            '<a target=\"_blank\" href=https://colab.research.google.com/notebooks/data_table.ipynb>data table notebook</a>'\n",
       "            + ' to learn more about interactive tables.';\n",
       "          element.innerHTML = '';\n",
       "          dataTable['output_type'] = 'display_data';\n",
       "          await google.colab.output.renderOutput(dataTable, element);\n",
       "          const docLink = document.createElement('div');\n",
       "          docLink.innerHTML = docLinkHtml;\n",
       "          element.appendChild(docLink);\n",
       "        }\n",
       "      </script>\n",
       "    </div>\n",
       "  </div>\n"
      ],
      "text/plain": [
       "                                                 News  PageRank\n",
       "0   TEMPO.CO, Yogyakarta - Seorang pria berusia 18...  0.048395\n",
       "1         Video dari lokasi tersebar di media sosial.  0.046278\n",
       "2   Korban diduga merupakan salah satu mahasiswa U...  0.046507\n",
       "3   Dugaan identitas korban ini berdasarkan barang...  0.052711\n",
       "4   Diketahui pria itu memiliki nama dengan inisia...  0.045441\n",
       "5   \"Kami tadi sudah cek dan mendapatkan tas milik...  0.062062\n",
       "6   Selain identitas, polisi juga menemukan sebuah...  0.059379\n",
       "7   \"Surat dari rumah sakit itu menjelaskan kond i...  0.061262\n",
       "8   Sumanto mengatakan masih mendalami apa penyeba...  0.062365\n",
       "9   Apakah berkaitan dengan kondisi kejiwaannya at...  0.043054\n",
       "10  Dari informasi sementara yang dikumpulkan poli...  0.059254\n",
       "11  Dugaan bunuh diri ini sempat mencuat karena ko...  0.042444\n",
       "12  \"Dari informasi karyawan, tadi ada yang su dah...  0.061305\n",
       "13  Menurutnya, polisi telah bertemu rekan dari sa...  0.054508\n",
       "14  Telah diketahui pula kalau keberadaan korban d...  0.051453\n",
       "15  \"Korban bukan berasal dari Yogyakarta,\" kata dia.  0.056772\n",
       "16  Dari lokasi kejadian, korban langsung dibawa k...  0.050418\n",
       "17  Kepala Sub Bagian Pemberitaan Bagian Hubungan ...  0.046596\n",
       "18  \"Kami belum mengetahui persis soal itu, data m...  0.049799"
      ]
     },
     "execution_count": 66,
     "metadata": {},
     "output_type": "execute_result"
    }
   ],
   "source": [
    "dfRanks = pd.DataFrame(arrRank,columns=['PageRank'])\n",
    "dfSentence = pd.DataFrame(sentences_list,columns=['News'])\n",
    "dfJoin = pd.concat([dfSentence,dfRanks], axis=1)\n",
    "dfJoin"
   ]
  },
  {
   "cell_type": "markdown",
   "metadata": {
    "id": "ne5hQ8tz0S4x"
   },
   "source": [
    "Mengurutkan dataFrame berdasarkan nilai PageRank terbesar ke yang terkecil"
   ]
  },
  {
   "cell_type": "code",
   "execution_count": 67,
   "metadata": {
    "colab": {
     "base_uri": "https://localhost:8080/",
     "height": 645
    },
    "executionInfo": {
     "elapsed": 1336,
     "status": "ok",
     "timestamp": 1665537265399,
     "user": {
      "displayName": "Faridz Nur Firdausy S N 19-084",
      "userId": "00266508585162115821"
     },
     "user_tz": -420
    },
    "id": "dz9-0_CMwaAI",
    "outputId": "4b77006d-7f83-42d1-ebdc-59f301d66bc7"
   },
   "outputs": [
    {
     "data": {
      "text/html": [
       "\n",
       "  <div id=\"df-42dcd5cb-0f6e-473b-a7a8-d0a05c9bec87\">\n",
       "    <div class=\"colab-df-container\">\n",
       "      <div>\n",
       "<style scoped>\n",
       "    .dataframe tbody tr th:only-of-type {\n",
       "        vertical-align: middle;\n",
       "    }\n",
       "\n",
       "    .dataframe tbody tr th {\n",
       "        vertical-align: top;\n",
       "    }\n",
       "\n",
       "    .dataframe thead th {\n",
       "        text-align: right;\n",
       "    }\n",
       "</style>\n",
       "<table border=\"1\" class=\"dataframe\">\n",
       "  <thead>\n",
       "    <tr style=\"text-align: right;\">\n",
       "      <th></th>\n",
       "      <th>News</th>\n",
       "      <th>PageRank</th>\n",
       "    </tr>\n",
       "  </thead>\n",
       "  <tbody>\n",
       "    <tr>\n",
       "      <th>8</th>\n",
       "      <td>Sumanto mengatakan masih mendalami apa penyeba...</td>\n",
       "      <td>0.062365</td>\n",
       "    </tr>\n",
       "    <tr>\n",
       "      <th>5</th>\n",
       "      <td>\"Kami tadi sudah cek dan mendapatkan tas milik...</td>\n",
       "      <td>0.062062</td>\n",
       "    </tr>\n",
       "    <tr>\n",
       "      <th>12</th>\n",
       "      <td>\"Dari informasi karyawan, tadi ada yang su dah...</td>\n",
       "      <td>0.061305</td>\n",
       "    </tr>\n",
       "    <tr>\n",
       "      <th>7</th>\n",
       "      <td>\"Surat dari rumah sakit itu menjelaskan kond i...</td>\n",
       "      <td>0.061262</td>\n",
       "    </tr>\n",
       "    <tr>\n",
       "      <th>6</th>\n",
       "      <td>Selain identitas, polisi juga menemukan sebuah...</td>\n",
       "      <td>0.059379</td>\n",
       "    </tr>\n",
       "    <tr>\n",
       "      <th>10</th>\n",
       "      <td>Dari informasi sementara yang dikumpulkan poli...</td>\n",
       "      <td>0.059254</td>\n",
       "    </tr>\n",
       "    <tr>\n",
       "      <th>15</th>\n",
       "      <td>\"Korban bukan berasal dari Yogyakarta,\" kata dia.</td>\n",
       "      <td>0.056772</td>\n",
       "    </tr>\n",
       "    <tr>\n",
       "      <th>13</th>\n",
       "      <td>Menurutnya, polisi telah bertemu rekan dari sa...</td>\n",
       "      <td>0.054508</td>\n",
       "    </tr>\n",
       "    <tr>\n",
       "      <th>3</th>\n",
       "      <td>Dugaan identitas korban ini berdasarkan barang...</td>\n",
       "      <td>0.052711</td>\n",
       "    </tr>\n",
       "    <tr>\n",
       "      <th>14</th>\n",
       "      <td>Telah diketahui pula kalau keberadaan korban d...</td>\n",
       "      <td>0.051453</td>\n",
       "    </tr>\n",
       "    <tr>\n",
       "      <th>16</th>\n",
       "      <td>Dari lokasi kejadian, korban langsung dibawa k...</td>\n",
       "      <td>0.050418</td>\n",
       "    </tr>\n",
       "    <tr>\n",
       "      <th>18</th>\n",
       "      <td>\"Kami belum mengetahui persis soal itu, data m...</td>\n",
       "      <td>0.049799</td>\n",
       "    </tr>\n",
       "    <tr>\n",
       "      <th>0</th>\n",
       "      <td>TEMPO.CO, Yogyakarta - Seorang pria berusia 18...</td>\n",
       "      <td>0.048395</td>\n",
       "    </tr>\n",
       "    <tr>\n",
       "      <th>17</th>\n",
       "      <td>Kepala Sub Bagian Pemberitaan Bagian Hubungan ...</td>\n",
       "      <td>0.046596</td>\n",
       "    </tr>\n",
       "    <tr>\n",
       "      <th>2</th>\n",
       "      <td>Korban diduga merupakan salah satu mahasiswa U...</td>\n",
       "      <td>0.046507</td>\n",
       "    </tr>\n",
       "    <tr>\n",
       "      <th>1</th>\n",
       "      <td>Video dari lokasi tersebar di media sosial.</td>\n",
       "      <td>0.046278</td>\n",
       "    </tr>\n",
       "    <tr>\n",
       "      <th>4</th>\n",
       "      <td>Diketahui pria itu memiliki nama dengan inisia...</td>\n",
       "      <td>0.045441</td>\n",
       "    </tr>\n",
       "    <tr>\n",
       "      <th>9</th>\n",
       "      <td>Apakah berkaitan dengan kondisi kejiwaannya at...</td>\n",
       "      <td>0.043054</td>\n",
       "    </tr>\n",
       "    <tr>\n",
       "      <th>11</th>\n",
       "      <td>Dugaan bunuh diri ini sempat mencuat karena ko...</td>\n",
       "      <td>0.042444</td>\n",
       "    </tr>\n",
       "  </tbody>\n",
       "</table>\n",
       "</div>\n",
       "      <button class=\"colab-df-convert\" onclick=\"convertToInteractive('df-42dcd5cb-0f6e-473b-a7a8-d0a05c9bec87')\"\n",
       "              title=\"Convert this dataframe to an interactive table.\"\n",
       "              style=\"display:none;\">\n",
       "\n",
       "  <svg xmlns=\"http://www.w3.org/2000/svg\" height=\"24px\"viewBox=\"0 0 24 24\"\n",
       "       width=\"24px\">\n",
       "    <path d=\"M0 0h24v24H0V0z\" fill=\"none\"/>\n",
       "    <path d=\"M18.56 5.44l.94 2.06.94-2.06 2.06-.94-2.06-.94-.94-2.06-.94 2.06-2.06.94zm-11 1L8.5 8.5l.94-2.06 2.06-.94-2.06-.94L8.5 2.5l-.94 2.06-2.06.94zm10 10l.94 2.06.94-2.06 2.06-.94-2.06-.94-.94-2.06-.94 2.06-2.06.94z\"/><path d=\"M17.41 7.96l-1.37-1.37c-.4-.4-.92-.59-1.43-.59-.52 0-1.04.2-1.43.59L10.3 9.45l-7.72 7.72c-.78.78-.78 2.05 0 2.83L4 21.41c.39.39.9.59 1.41.59.51 0 1.02-.2 1.41-.59l7.78-7.78 2.81-2.81c.8-.78.8-2.07 0-2.86zM5.41 20L4 18.59l7.72-7.72 1.47 1.35L5.41 20z\"/>\n",
       "  </svg>\n",
       "      </button>\n",
       "\n",
       "  <style>\n",
       "    .colab-df-container {\n",
       "      display:flex;\n",
       "      flex-wrap:wrap;\n",
       "      gap: 12px;\n",
       "    }\n",
       "\n",
       "    .colab-df-convert {\n",
       "      background-color: #E8F0FE;\n",
       "      border: none;\n",
       "      border-radius: 50%;\n",
       "      cursor: pointer;\n",
       "      display: none;\n",
       "      fill: #1967D2;\n",
       "      height: 32px;\n",
       "      padding: 0 0 0 0;\n",
       "      width: 32px;\n",
       "    }\n",
       "\n",
       "    .colab-df-convert:hover {\n",
       "      background-color: #E2EBFA;\n",
       "      box-shadow: 0px 1px 2px rgba(60, 64, 67, 0.3), 0px 1px 3px 1px rgba(60, 64, 67, 0.15);\n",
       "      fill: #174EA6;\n",
       "    }\n",
       "\n",
       "    [theme=dark] .colab-df-convert {\n",
       "      background-color: #3B4455;\n",
       "      fill: #D2E3FC;\n",
       "    }\n",
       "\n",
       "    [theme=dark] .colab-df-convert:hover {\n",
       "      background-color: #434B5C;\n",
       "      box-shadow: 0px 1px 3px 1px rgba(0, 0, 0, 0.15);\n",
       "      filter: drop-shadow(0px 1px 2px rgba(0, 0, 0, 0.3));\n",
       "      fill: #FFFFFF;\n",
       "    }\n",
       "  </style>\n",
       "\n",
       "      <script>\n",
       "        const buttonEl =\n",
       "          document.querySelector('#df-42dcd5cb-0f6e-473b-a7a8-d0a05c9bec87 button.colab-df-convert');\n",
       "        buttonEl.style.display =\n",
       "          google.colab.kernel.accessAllowed ? 'block' : 'none';\n",
       "\n",
       "        async function convertToInteractive(key) {\n",
       "          const element = document.querySelector('#df-42dcd5cb-0f6e-473b-a7a8-d0a05c9bec87');\n",
       "          const dataTable =\n",
       "            await google.colab.kernel.invokeFunction('convertToInteractive',\n",
       "                                                     [key], {});\n",
       "          if (!dataTable) return;\n",
       "\n",
       "          const docLinkHtml = 'Like what you see? Visit the ' +\n",
       "            '<a target=\"_blank\" href=https://colab.research.google.com/notebooks/data_table.ipynb>data table notebook</a>'\n",
       "            + ' to learn more about interactive tables.';\n",
       "          element.innerHTML = '';\n",
       "          dataTable['output_type'] = 'display_data';\n",
       "          await google.colab.output.renderOutput(dataTable, element);\n",
       "          const docLink = document.createElement('div');\n",
       "          docLink.innerHTML = docLinkHtml;\n",
       "          element.appendChild(docLink);\n",
       "        }\n",
       "      </script>\n",
       "    </div>\n",
       "  </div>\n"
      ],
      "text/plain": [
       "                                                 News  PageRank\n",
       "8   Sumanto mengatakan masih mendalami apa penyeba...  0.062365\n",
       "5   \"Kami tadi sudah cek dan mendapatkan tas milik...  0.062062\n",
       "12  \"Dari informasi karyawan, tadi ada yang su dah...  0.061305\n",
       "7   \"Surat dari rumah sakit itu menjelaskan kond i...  0.061262\n",
       "6   Selain identitas, polisi juga menemukan sebuah...  0.059379\n",
       "10  Dari informasi sementara yang dikumpulkan poli...  0.059254\n",
       "15  \"Korban bukan berasal dari Yogyakarta,\" kata dia.  0.056772\n",
       "13  Menurutnya, polisi telah bertemu rekan dari sa...  0.054508\n",
       "3   Dugaan identitas korban ini berdasarkan barang...  0.052711\n",
       "14  Telah diketahui pula kalau keberadaan korban d...  0.051453\n",
       "16  Dari lokasi kejadian, korban langsung dibawa k...  0.050418\n",
       "18  \"Kami belum mengetahui persis soal itu, data m...  0.049799\n",
       "0   TEMPO.CO, Yogyakarta - Seorang pria berusia 18...  0.048395\n",
       "17  Kepala Sub Bagian Pemberitaan Bagian Hubungan ...  0.046596\n",
       "2   Korban diduga merupakan salah satu mahasiswa U...  0.046507\n",
       "1         Video dari lokasi tersebar di media sosial.  0.046278\n",
       "4   Diketahui pria itu memiliki nama dengan inisia...  0.045441\n",
       "9   Apakah berkaitan dengan kondisi kejiwaannya at...  0.043054\n",
       "11  Dugaan bunuh diri ini sempat mencuat karena ko...  0.042444"
      ]
     },
     "execution_count": 67,
     "metadata": {},
     "output_type": "execute_result"
    }
   ],
   "source": [
    "sortSentence=dfJoin.sort_values(by=['PageRank'],ascending=False)\n",
    "sortSentence"
   ]
  },
  {
   "cell_type": "markdown",
   "metadata": {
    "id": "9z2a_FP60VTz"
   },
   "source": [
    "Dapat diketahui bahwa nilai PageRank terbesar ada pada kalimat indeks ke 8 lalu ke 5, ke 12, ke 7, dan ke 6."
   ]
  },
  {
   "cell_type": "code",
   "execution_count": 68,
   "metadata": {
    "colab": {
     "base_uri": "https://localhost:8080/",
     "height": 206
    },
    "executionInfo": {
     "elapsed": 689,
     "status": "ok",
     "timestamp": 1665537276154,
     "user": {
      "displayName": "Faridz Nur Firdausy S N 19-084",
      "userId": "00266508585162115821"
     },
     "user_tz": -420
    },
    "id": "3HVK_M-Ewe9R",
    "outputId": "49e04adb-f366-4440-ca90-a7416b0b232d"
   },
   "outputs": [
    {
     "data": {
      "text/html": [
       "\n",
       "  <div id=\"df-4fb9c1c1-2e4a-4f38-bb6d-50aecfbbda92\">\n",
       "    <div class=\"colab-df-container\">\n",
       "      <div>\n",
       "<style scoped>\n",
       "    .dataframe tbody tr th:only-of-type {\n",
       "        vertical-align: middle;\n",
       "    }\n",
       "\n",
       "    .dataframe tbody tr th {\n",
       "        vertical-align: top;\n",
       "    }\n",
       "\n",
       "    .dataframe thead th {\n",
       "        text-align: right;\n",
       "    }\n",
       "</style>\n",
       "<table border=\"1\" class=\"dataframe\">\n",
       "  <thead>\n",
       "    <tr style=\"text-align: right;\">\n",
       "      <th></th>\n",
       "      <th>News</th>\n",
       "      <th>PageRank</th>\n",
       "    </tr>\n",
       "  </thead>\n",
       "  <tbody>\n",
       "    <tr>\n",
       "      <th>8</th>\n",
       "      <td>Sumanto mengatakan masih mendalami apa penyeba...</td>\n",
       "      <td>0.062365</td>\n",
       "    </tr>\n",
       "    <tr>\n",
       "      <th>5</th>\n",
       "      <td>\"Kami tadi sudah cek dan mendapatkan tas milik...</td>\n",
       "      <td>0.062062</td>\n",
       "    </tr>\n",
       "    <tr>\n",
       "      <th>12</th>\n",
       "      <td>\"Dari informasi karyawan, tadi ada yang su dah...</td>\n",
       "      <td>0.061305</td>\n",
       "    </tr>\n",
       "    <tr>\n",
       "      <th>7</th>\n",
       "      <td>\"Surat dari rumah sakit itu menjelaskan kond i...</td>\n",
       "      <td>0.061262</td>\n",
       "    </tr>\n",
       "    <tr>\n",
       "      <th>6</th>\n",
       "      <td>Selain identitas, polisi juga menemukan sebuah...</td>\n",
       "      <td>0.059379</td>\n",
       "    </tr>\n",
       "  </tbody>\n",
       "</table>\n",
       "</div>\n",
       "      <button class=\"colab-df-convert\" onclick=\"convertToInteractive('df-4fb9c1c1-2e4a-4f38-bb6d-50aecfbbda92')\"\n",
       "              title=\"Convert this dataframe to an interactive table.\"\n",
       "              style=\"display:none;\">\n",
       "\n",
       "  <svg xmlns=\"http://www.w3.org/2000/svg\" height=\"24px\"viewBox=\"0 0 24 24\"\n",
       "       width=\"24px\">\n",
       "    <path d=\"M0 0h24v24H0V0z\" fill=\"none\"/>\n",
       "    <path d=\"M18.56 5.44l.94 2.06.94-2.06 2.06-.94-2.06-.94-.94-2.06-.94 2.06-2.06.94zm-11 1L8.5 8.5l.94-2.06 2.06-.94-2.06-.94L8.5 2.5l-.94 2.06-2.06.94zm10 10l.94 2.06.94-2.06 2.06-.94-2.06-.94-.94-2.06-.94 2.06-2.06.94z\"/><path d=\"M17.41 7.96l-1.37-1.37c-.4-.4-.92-.59-1.43-.59-.52 0-1.04.2-1.43.59L10.3 9.45l-7.72 7.72c-.78.78-.78 2.05 0 2.83L4 21.41c.39.39.9.59 1.41.59.51 0 1.02-.2 1.41-.59l7.78-7.78 2.81-2.81c.8-.78.8-2.07 0-2.86zM5.41 20L4 18.59l7.72-7.72 1.47 1.35L5.41 20z\"/>\n",
       "  </svg>\n",
       "      </button>\n",
       "\n",
       "  <style>\n",
       "    .colab-df-container {\n",
       "      display:flex;\n",
       "      flex-wrap:wrap;\n",
       "      gap: 12px;\n",
       "    }\n",
       "\n",
       "    .colab-df-convert {\n",
       "      background-color: #E8F0FE;\n",
       "      border: none;\n",
       "      border-radius: 50%;\n",
       "      cursor: pointer;\n",
       "      display: none;\n",
       "      fill: #1967D2;\n",
       "      height: 32px;\n",
       "      padding: 0 0 0 0;\n",
       "      width: 32px;\n",
       "    }\n",
       "\n",
       "    .colab-df-convert:hover {\n",
       "      background-color: #E2EBFA;\n",
       "      box-shadow: 0px 1px 2px rgba(60, 64, 67, 0.3), 0px 1px 3px 1px rgba(60, 64, 67, 0.15);\n",
       "      fill: #174EA6;\n",
       "    }\n",
       "\n",
       "    [theme=dark] .colab-df-convert {\n",
       "      background-color: #3B4455;\n",
       "      fill: #D2E3FC;\n",
       "    }\n",
       "\n",
       "    [theme=dark] .colab-df-convert:hover {\n",
       "      background-color: #434B5C;\n",
       "      box-shadow: 0px 1px 3px 1px rgba(0, 0, 0, 0.15);\n",
       "      filter: drop-shadow(0px 1px 2px rgba(0, 0, 0, 0.3));\n",
       "      fill: #FFFFFF;\n",
       "    }\n",
       "  </style>\n",
       "\n",
       "      <script>\n",
       "        const buttonEl =\n",
       "          document.querySelector('#df-4fb9c1c1-2e4a-4f38-bb6d-50aecfbbda92 button.colab-df-convert');\n",
       "        buttonEl.style.display =\n",
       "          google.colab.kernel.accessAllowed ? 'block' : 'none';\n",
       "\n",
       "        async function convertToInteractive(key) {\n",
       "          const element = document.querySelector('#df-4fb9c1c1-2e4a-4f38-bb6d-50aecfbbda92');\n",
       "          const dataTable =\n",
       "            await google.colab.kernel.invokeFunction('convertToInteractive',\n",
       "                                                     [key], {});\n",
       "          if (!dataTable) return;\n",
       "\n",
       "          const docLinkHtml = 'Like what you see? Visit the ' +\n",
       "            '<a target=\"_blank\" href=https://colab.research.google.com/notebooks/data_table.ipynb>data table notebook</a>'\n",
       "            + ' to learn more about interactive tables.';\n",
       "          element.innerHTML = '';\n",
       "          dataTable['output_type'] = 'display_data';\n",
       "          await google.colab.output.renderOutput(dataTable, element);\n",
       "          const docLink = document.createElement('div');\n",
       "          docLink.innerHTML = docLinkHtml;\n",
       "          element.appendChild(docLink);\n",
       "        }\n",
       "      </script>\n",
       "    </div>\n",
       "  </div>\n"
      ],
      "text/plain": [
       "                                                 News  PageRank\n",
       "8   Sumanto mengatakan masih mendalami apa penyeba...  0.062365\n",
       "5   \"Kami tadi sudah cek dan mendapatkan tas milik...  0.062062\n",
       "12  \"Dari informasi karyawan, tadi ada yang su dah...  0.061305\n",
       "7   \"Surat dari rumah sakit itu menjelaskan kond i...  0.061262\n",
       "6   Selain identitas, polisi juga menemukan sebuah...  0.059379"
      ]
     },
     "execution_count": 68,
     "metadata": {},
     "output_type": "execute_result"
    }
   ],
   "source": [
    "sortSentence.head(5)"
   ]
  }
 ],
 "metadata": {
  "colab": {
   "authorship_tag": "ABX9TyPbUf2JAghzoCaW8i2NIlAe",
   "collapsed_sections": [],
   "provenance": [],
   "toc_visible": true
  },
  "kernelspec": {
   "display_name": "Python 3",
   "name": "python3"
  },
  "language_info": {
   "codemirror_mode": {
    "name": "ipython",
    "version": 3
   },
   "file_extension": ".py",
   "mimetype": "text/x-python",
   "name": "python",
   "nbconvert_exporter": "python",
   "pygments_lexer": "ipython3",
   "version": "3.7.14"
  }
 },
 "nbformat": 4,
 "nbformat_minor": 0
}